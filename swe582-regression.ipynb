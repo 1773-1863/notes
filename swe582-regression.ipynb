{
 "cells": [
  {
   "cell_type": "code",
   "execution_count": 28,
   "metadata": {
    "collapsed": false,
    "scrolled": true
   },
   "outputs": [
    {
     "data": {
      "image/png": "[encoded data removed]",
      "text/plain": [
       "<matplotlib.figure.Figure at 0x105f43490>"
      ]
     },
     "metadata": {},
     "output_type": "display_data"
    }
   ],
   "source": [
    "%matplotlib inline\n",
    "import numpy as np\n",
    "import matplotlib as mpl\n",
    "import matplotlib.pylab as plt\n",
    "\n",
    "\n",
    "r = 5\n",
    "N = 10\n",
    "K = 4\n",
    "s = 0.1\n",
    "q = 100*s\n",
    "\n",
    "x = np.arange(N)\n",
    "\n",
    "e = np.sqrt(s) * np.random.randn(N)\n",
    "e[r] = np.sqrt(q) * np.random.randn(1)\n",
    "\n",
    "# Create the vandermonde matrix\n",
    "W = x.reshape((N,1))**np.arange(K).reshape(1,K)\n",
    "a = np.array([0,-1,0.5,0])\n",
    "y = np.dot(W, a) + e\n",
    "\n",
    "\n",
    "plt.plot(x, y, 'o')\n",
    "#plt.plot(e)\n",
    "plt.show()\n",
    "\n",
    "\n",
    "\n",
    "\n"
   ]
  },
  {
   "cell_type": "code",
   "execution_count": 42,
   "metadata": {
    "collapsed": false,
    "scrolled": true
   },
   "outputs": [
    {
     "data": {
      "text/plain": [
       "array([[  1,   0,   0,   0],\n",
       "       [  1,   1,   1,   1],\n",
       "       [  1,   2,   4,   8],\n",
       "       [  1,   3,   9,  27],\n",
       "       [  1,   4,  16,  64],\n",
       "       [  1,   5,  25, 125],\n",
       "       [  1,   6,  36, 216],\n",
       "       [  1,   7,  49, 343],\n",
       "       [  1,   8,  64, 512],\n",
       "       [  1,   9,  81, 729]])"
      ]
     },
     "execution_count": 42,
     "metadata": {},
     "output_type": "execute_result"
    }
   ],
   "source": [
    "W\n"
   ]
  },
  {
   "cell_type": "markdown",
   "metadata": {},
   "source": [
    "\n",
    "\n",
    "\n",
    "$$\n",
    "\\mathcal{L}(r, a) = \\log \\mathcal{N}(y_r; W_r a, q)  \\prod_{i\\neq r} \\mathcal{N}(y_i; W_i a, s) \n",
    "$$\n",
    "\n",
    "$$\n",
    "\\log\\mathcal{N}(y_r; W_r a, q) = -\\frac{1}{2}\\log 2\\pi q - \\frac{1}{2} \\frac{1}{q} (y_r - W_r a)^2\n",
    "$$\n",
    "\n",
    "$$\n",
    "\\log\\mathcal{N}(y_i; W_i a, s) = -\\frac{1}{2}\\log 2\\pi s - \\frac{1}{2} \\frac{1}{s} (y_i - W_i a)^2\n",
    "$$\n",
    "\n",
    "$$\n",
    "\\mathcal{L}(r, a) = -\\frac{1}{2}\\log 2\\pi q - \\frac{1}{2} \\frac{1}{q} (y_r - W_r a)^2 + \\sum_{i\\neq r} -\\frac{1}{2}\\log 2\\pi s - \\frac{1}{2} \\frac{1}{s} (y_i - W_i a)^2 \n",
    "$$\n",
    "\n",
    "$$\n",
    "\\mathcal{L}(r, a) = -\\frac{1}{2}\\log 2\\pi q - \\sum_{i\\neq r} \\frac{1}{2}\\log 2\\pi s - \\frac{1}{2} \\frac{1}{q} (y_r - W_r a)^2 - \\frac{1}{2} \\frac{1}{s} \\sum_{i\\neq r}  (y_i - W_i a)^2 \n",
    "$$\n",
    "\n",
    "$$\n",
    "D_r = \\diag(s,s,\\dots, q, \\dots, s)^{-1}\n",
    "$$\n",
    "\n",
    "$$\n",
    "\\mathcal{L}(r, a) = -\\frac{1}{2}\\log 2\\pi q - \\frac{N-1}{2}\\log 2\\pi s - \\frac{1}{2} (y - Wa)^\\top D_r (y - Wa) \n",
    "$$\n",
    "\n",
    "$$\n",
    "\\mathcal{L}(r, a) =^+ - \\frac{1}{2} (y - Wa)^\\top D_r (y - Wa) \n",
    "$$\n",
    "\n",
    "\\begin{eqnarray}\n",
    "\\mathcal{L}(r, a) =^+ - \\frac{1}{2} y D_r y^\\top  + y^\\top D_r W a - \\frac{1}{2} a^\\top W^\\top D_r Wa\n",
    "\\end{eqnarray}\n",
    "\n",
    "\\begin{eqnarray}\n",
    "\\frac{\\partial}{\\partial a}\\mathcal{L}(r, a) & = &    W^\\top D_r y  - W^\\top D_r W a = 0 \\\\\n",
    " W^\\top D_r y  & = & W^\\top D_r W a = 0 \\\\\n",
    " (W^\\top D_r W)^{-1} W^\\top D_r y  & = &  a_r^*  \\\\\n",
    "\\end{eqnarray}\n",
    "\n",
    "To use standard Least Square solver, we substitute\n",
    "\\begin{eqnarray}\n",
    "V_r^\\top \\equiv W^\\top D_r^{1/2} \\\\\n",
    "V_r \\equiv  D_r^{1/2} W \\\\\n",
    "\\end{eqnarray}\n",
    "\n",
    "\\begin{eqnarray}\n",
    "(V_r^\\top V_r)^{-1} V_r^\\top D_r^{1/2} y  & = &  a_r^* \n",
    "\\end{eqnarray}\n",
    "\n",
    "\n",
    "In Matlab/Octave this is least square with\n",
    "\n",
    "\\begin{eqnarray}\n",
    " a_r^*  = V_r \\backslash D_r^{1/2} y\n",
    "\\end{eqnarray}\n",
    "\n",
    "\n",
    "\n",
    "\n"
   ]
  },
  {
   "cell_type": "code",
   "execution_count": 65,
   "metadata": {
    "collapsed": false,
    "scrolled": true
   },
   "outputs": [
    {
     "name": "stdout",
     "output_type": "stream",
     "text": [
      "-34.4592291237\n",
      "-33.9867907459\n",
      "-34.3806944536\n",
      "-33.0821149658\n",
      "-29.4233461662\n",
      "-2.21286733069\n",
      "-30.7562932215\n",
      "-34.1309706001\n",
      "-33.0628373568\n",
      "-31.355214757\n"
     ]
    },
    {
     "data": {
      "image/png": "[encoded data removed]",
      "text/plain": [
       "<matplotlib.figure.Figure at 0x10d02f550>"
      ]
     },
     "metadata": {},
     "output_type": "display_data"
    }
   ],
   "source": [
    "import scipy.linalg as la\n",
    "\n",
    "LL = np.zeros(N)\n",
    "for rr in range(N):\n",
    "    ss = s*np.ones(N)\n",
    "    ss[rr] = q\n",
    "    D_r = np.diag(1/ss)\n",
    "    V_r = np.dot(np.sqrt(D_r), W)\n",
    "    b = y/np.sqrt(ss)\n",
    "\n",
    "    a_r,re,ra, cond = la.lstsq(V_r, b)\n",
    "\n",
    "    e = (y-np.dot(W, a_r))/np.sqrt(ss)\n",
    "    LL[rr] = -0.5*np.dot(e.T, e)\n",
    "    print(LL[rr])\n",
    "\n",
    "#plt.plot(x, y, 'o')\n",
    "#plt.plot(x, np.dot(W, a_r),'-')\n",
    "#plt.plot(e)\n",
    "plt.plot(LL)\n",
    "plt.show()\n",
    "\n"
   ]
  },
  {
   "cell_type": "markdown",
   "metadata": {},
   "source": [
    "Todo: Evaluate the likelihood for all polynomial orders $K=1 \\dots 8$"
   ]
  },
  {
   "cell_type": "markdown",
   "metadata": {},
   "source": [
    "\n",
    "$p(x_1, x_2) = \\mathcal{N}(\\mu, \\Sigma)$\n",
    "\n",
    "$\\mu = \\left(\\begin{array}{c} \\mu_{1} \\\\\n",
    " \\mu_{2} \\end{array} \\right)$\n",
    "\n",
    "$\\Sigma = \\left(\\begin{array}{cc} \\Sigma_{11} & \\Sigma_{12} \\\\\n",
    "\\Sigma_{12}^\\top & \\Sigma_{22} \\end{array} \\right)$\n",
    "\n",
    "$\n",
    "p(x_1 | x_2) = \\mathcal{N}(\\mu_1 + \\Sigma_{12} \\Sigma_{22}^{-1} (x_2 -\\mu_2), \\Sigma_{11} - \\Sigma_{12} \\Sigma_{22}^{-1}\\Sigma_{12}^\\top)\n",
    "$\n"
   ]
  },
  {
   "cell_type": "code",
   "execution_count": 27,
   "metadata": {
    "collapsed": false,
    "scrolled": false
   },
   "outputs": [
    {
     "name": "stdout",
     "output_type": "stream",
     "text": [
      "[[ 3. -3.]\n",
      " [-3.  3.]]\n",
      "E[x_1|x_2 = 5] =  [-5.]\n",
      "[[ 0.]]\n"
     ]
    }
   ],
   "source": [
    "import numpy as np\n",
    "import scipy as sc\n",
    "\n",
    "import scipy.linalg as la\n",
    "\n",
    "\n",
    "def cond_Gauss(Sigma, mu, idx1, idx2, x2):\n",
    "    Sigma11 = Sigma[idx1, idx1].reshape((len(idx1),len(idx1)))\n",
    "    Sigma12 = Sigma[idx1, idx2].reshape((len(idx1),len(idx2)))\n",
    "    Sigma22 = Sigma[idx2, idx2].reshape((len(idx2),len(idx2)))\n",
    "\n",
    "#    print(Sigma11)\n",
    "#    print(Sigma12)\n",
    "#    print(Sigma22)\n",
    "    \n",
    "    \n",
    "    mu1 = mu[idx1]\n",
    "    mu2 = mu[idx2]\n",
    "\n",
    "    G = np.dot(Sigma12, la.inv(Sigma22))\n",
    "    cond_Sig_1 =  Sigma11 - np.dot(G, Sigma12.T)\n",
    "    cond_mu_1 = mu1 + np.dot(G, (x2-mu2))\n",
    "\n",
    "    return cond_mu_1, cond_Sig_1\n",
    "\n",
    "\n",
    "mu = np.array([0,0])\n",
    "\n",
    "#P = np.array([2])\n",
    "#A = np.array([1])\n",
    "\n",
    "idx1 = [0]\n",
    "idx2 = [1]\n",
    "x2 = 5\n",
    "\n",
    "P = np.array(3).reshape((len(idx1), len(idx1)))\n",
    "A = np.array(-1).reshape((len(idx2), len(idx1)))\n",
    "\n",
    "rho = np.array(0)\n",
    "\n",
    "#Sigma = np.array([[P, A*P],[P*A, A*P*A + rho ]])\n",
    "\n",
    "I = np.eye(len(idx2))\n",
    "Sigma = np.concatenate((np.concatenate((P,np.dot(P, A.T)),axis=1), np.concatenate((np.dot(A, P),np.dot(np.dot(A, P), A.T ) + rho*I ),axis=1)))\n",
    "\n",
    "print(Sigma)\n",
    "#print(mu)\n",
    "\n",
    "\n",
    "\n",
    "cond_mu_1, cond_Sig_1 = cond_Gauss(Sigma, mu, idx1, idx2, x2)\n",
    "print('E[x_1|x_2 = {}] = '.format(x2) , cond_mu_1)\n",
    "print(cond_Sig_1)"
   ]
  },
  {
   "cell_type": "markdown",
   "metadata": {},
   "source": [
    "\n",
    "SUppose we are given a data set $(y_i, x_i)$ for $i=1\\dots N$\n",
    "\n",
    "Assume we have a basis regression model (for example a polynomial basis where $f_k(x) = x^k$) and wish to fit\n",
    "$y_i = \\sum_k A_{ik} w_k + \\epsilon_i$\n",
    "for all $i = 1 \\dots N$ where \n",
    "$\n",
    "A_{ik} = f_k(x_i)\n",
    "$\n",
    "\n",
    "Assume the prior\n",
    "\n",
    "$\n",
    "w \\sim \\mathcal{N}(w; 0, P)\n",
    "$\n",
    "\n",
    "Derive an expression for $p(y_{\\text{new}}| x_{\\text{new}}, y_{1:N}, x_{1:N})$ and implement a program that plots the mean and corresponding errorbars (from standard deviation of $p(y_{\\text{new}}| x_{\\text{new}}, y_{1:N}, x_{1:N})$) by choosing $y_{\\text{new}}$ on a regular grid. \n",
    "\n",
    "Note that $y_{\\text{new}} = \\sum f_k(x_{\\text{new}}) w_k + \\epsilon$\n",
    "\n",
    "\n",
    "\n"
   ]
  },
  {
   "cell_type": "code",
   "execution_count": 33,
   "metadata": {
    "collapsed": false
   },
   "outputs": [
    {
     "data": {
      "image/png": "[encoded data removed]",
      "text/plain": [
       "<matplotlib.figure.Figure at 0x1083132d0>"
      ]
     },
     "metadata": {},
     "output_type": "display_data"
    }
   ],
   "source": [
    "# Use this code to generate a dataset\n",
    "\n",
    "N = 30\n",
    "K = 4\n",
    "s = 0.1\n",
    "q = 10*s\n",
    "\n",
    "x = 2*np.random.randn(N)\n",
    "e = np.sqrt(s) * np.random.randn(N)\n",
    "\n",
    "# Create the vandermonde matrix\n",
    "A = x.reshape((N,1))**np.arange(K).reshape(1,K)\n",
    "w = np.array([0,-1,0.5,0])\n",
    "y = np.dot(A, w) + e\n",
    "\n",
    "\n",
    "plt.plot(x, y, 'o')\n",
    "#plt.plot(e)\n",
    "plt.show()\n"
   ]
  },
  {
   "cell_type": "code",
   "execution_count": 23,
   "metadata": {
    "collapsed": false
   },
   "outputs": [
    {
     "name": "stdout",
     "output_type": "stream",
     "text": [
      "[[ 1.  0.  0.]\n",
      " [ 0.  1.  0.]\n",
      " [ 0.  0.  1.]]\n"
     ]
    }
   ],
   "source": [
    "\n",
    "# Sig = [P, A.T; A A*A.T+rho*I]\n",
    "\n",
    "\n",
    "print(np.eye(3))\n"
   ]
  }
 ],
 "metadata": {
  "kernelspec": {
   "display_name": "Python 3",
   "language": "python",
   "name": "python3"
  },
  "language_info": {
   "codemirror_mode": {
    "name": "ipython",
    "version": 3
   },
   "file_extension": ".py",
   "mimetype": "text/x-python",
   "name": "python",
   "nbconvert_exporter": "python",
   "pygments_lexer": "ipython3",
   "version": "3.3.5"
  }
 },
 "nbformat": 4,
 "nbformat_minor": 0
}
