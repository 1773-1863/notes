{
  "nbformat": 4,
  "nbformat_minor": 0,
  "metadata": {
    "kernelspec": {
      "display_name": "Python [default]",
      "language": "python",
      "name": "python3"
    },
    "language_info": {
      "codemirror_mode": {
        "name": "ipython",
        "version": 3
      },
      "file_extension": ".py",
      "mimetype": "text/x-python",
      "name": "python",
      "nbconvert_exporter": "python",
      "pygments_lexer": "ipython3",
      "version": "3.6.1"
    },
    "toc": {
      "nav_menu": {},
      "number_sections": true,
      "sideBar": true,
      "skip_h1_title": false,
      "toc_cell": false,
      "toc_position": {},
      "toc_section_display": "block",
      "toc_window_display": false
    },
    "colab": {
      "name": "byoyo2018-giris-1.ipynb",
      "provenance": []
    }
  },
  "cells": [
    {
      "cell_type": "markdown",
      "metadata": {
        "id": "UyuqunHJtxk-"
      },
      "source": [
        "Yapay Öğrenmeye Giriş I\n",
        "\n",
        "Ali Taylan Cemgil\n"
      ]
    },
    {
      "cell_type": "markdown",
      "metadata": {
        "id": "rzIl43FWtxlE"
      },
      "source": [
        "# Parametrik Regresyon, Parametrik Fonksyon Oturtma Problemi (Parametric Regression, Function Fitting)\n",
        "\n",
        "\n",
        "Verilen girdi ve çıktı ikilileri $x, y$ için parametrik bir fonksyon $f$ oturtma problemi. \n",
        "\n",
        "Parametre $w$ değerlerini öyle bir seçelim ki \n",
        "$$\n",
        "y \\approx f(x; w)\n",
        "$$\n",
        "\n",
        "$x$: Girdi (Input)\n",
        "\n",
        "$y$: Çıktı (Output)\n",
        "\n",
        "$w$: Parametre (Weight, ağırlık)\n",
        "\n",
        "$e$: Hata\n",
        "\n",
        "Örnek 1: \n",
        "$$\n",
        "e = y - f(x)\n",
        "$$\n",
        "\n",
        "Örnek 2:\n",
        "$$\n",
        "e = \\frac{y}{f(x)}-1\n",
        "$$\n",
        "\n",
        "$E$, $D$: Hata fonksyonu (Error function), Iraksay (Divergence)\n",
        "\n",
        "\n",
        "\n",
        "# Doğrusal Regresyon (Linear Regression)\n",
        "\n",
        "Oturtulacak $f$ fonksyonun **model parametreleri** $w$ cinsinden doğrusal olduğu durum (Girdiler $x$ cinsinden doğrusal olması gerekmez).  \n",
        "\n",
        "## Tanım: Doğrusallık\n",
        "Bir $g$ fonksyonu doğrusaldır demek, herhangi skalar $a$ ve $b$ içn\n",
        "$$\n",
        "g(aw_1 + b w_2) = a g(w_1) + b g(w_2)\n",
        "$$\n",
        "olması demektir.\n",
        "\n",
        "\n",
        "\n",
        "\n"
      ]
    },
    {
      "cell_type": "markdown",
      "metadata": {
        "id": "ApbKnS20txlF"
      },
      "source": [
        "## Örnek: Doğru oturtmak (Line Fitting)\n",
        "\n",
        "* Girdi-Çıktı ikilileri\n",
        "$$\n",
        "(x_i, y_i)\n",
        "$$\n",
        "$i=1\\dots N$ \n",
        "\n",
        "* Model\n",
        "$$\n",
        "y_i \\approx f(x; w_1, w_0) = w_0 + w_1 x \n",
        "$$\n",
        "\n",
        "\n",
        ">  $x$ : Girdi \n",
        "\n",
        ">  $w_1$: Eğim\n",
        "\n",
        ">  $w_0$: Kesişme\n",
        "\n",
        "$f_i \\equiv f(x_i; w_1, w_0)$\n",
        "\n",
        "## Örnek 2: Parabol Oturtma\n",
        "\n",
        "* Girdi-Çıktı ikilileri\n",
        "$$\n",
        "(x_i, y_i)\n",
        "$$\n",
        "$i=1\\dots N$ \n",
        "\n",
        "* Model\n",
        "$$\n",
        "y_i \\approx f(x_i; w_2, w_1, w_0) = w_0 + w_1 x_i + w_2 x_i^2\n",
        "$$\n",
        "\n",
        "\n",
        ">  $x$ : Girdi \n",
        "\n",
        ">  $w_2$: Karesel terimin katsayısı \n",
        "\n",
        ">  $w_1$: Doğrusal terimin katsayısı\n",
        "\n",
        ">  $w_0$: Sabit terim katsayısı\n",
        "\n",
        "$f_i \\equiv f(x_i; w_2, w_1, w_0)$\n",
        "\n",
        "Bir parabol $x$'in doğrusal fonksyonu değil ama $w_2, w_1, w_0$ parametrelerinin doğrusal fonksyonu.\n"
      ]
    },
    {
      "cell_type": "code",
      "metadata": {
        "id": "dLX0MPiQtxlF",
        "outputId": "0164f296-2386-435f-e598-0684d698d90f"
      },
      "source": [
        "import matplotlib.pyplot as plt\n",
        "import numpy as np\n",
        "%matplotlib inline\n",
        "from __future__ import print_function\n",
        "from ipywidgets import interact, interactive, fixed\n",
        "import ipywidgets as widgets\n",
        "import matplotlib.pylab as plt\n",
        "from IPython.display import clear_output, display, HTML\n",
        "\n",
        "x = np.array([8.0 , 6.1 , 11.,  7.,   9.,   12. , 4.,   2.,   10,    5,    3])\n",
        "y = np.array([6.04, 4.95, 5.58, 6.81, 6.33, 7.96, 5.24, 2.26, 8.84, 2.82, 3.68])\n",
        "\n",
        "def plot_fit(w1, w0):\n",
        "    f = w0 + w1*x\n",
        "\n",
        "    plt.figure(figsize=(4,3))\n",
        "    plt.plot(x,y,'sk')\n",
        "    plt.plot(x,f,'o-r')\n",
        "    #plt.axis('equal')\n",
        "    plt.xlim((0,15))\n",
        "    plt.ylim((0,10))\n",
        "    for i in range(len(x)):\n",
        "        plt.plot((x[i],x[i]),(f[i],y[i]),'b')\n",
        "#    plt.show()\n",
        "#    plt.figure(figsize=(4,1))\n",
        "    plt.bar(x,(f-y)**2/2)\n",
        "    plt.title('Toplam kare hata = '+str(np.sum((f-y)**2/2)))\n",
        "    plt.ylim((0,10))\n",
        "    plt.xlim((0,15))\n",
        "    plt.show()\n",
        "    \n",
        "plot_fit(0.0,3.79)"
      ],
      "execution_count": null,
      "outputs": [
        {
          "output_type": "display_data",
          "data": {
            "image/png": "[encoded data removed]",
            "text/plain": [
              "<matplotlib.figure.Figure at 0x10deb0048>"
            ]
          },
          "metadata": {
            "tags": []
          }
        }
      ]
    },
    {
      "cell_type": "code",
      "metadata": {
        "scrolled": true,
        "id": "91nltnoUtxlH",
        "outputId": "87d36f81-bece-41f4-9627-c21bc7f1c1b6",
        "colab": {
          "referenced_widgets": [
            "364bf28c721942f6a81c114b512e6cde"
          ]
        }
      },
      "source": [
        "interact(plot_fit, w1=(-2, 2, 0.01), w0=(-5, 5, 0.01));"
      ],
      "execution_count": null,
      "outputs": [
        {
          "output_type": "display_data",
          "data": {
            "application/vnd.jupyter.widget-view+json": {
              "model_id": "364bf28c721942f6a81c114b512e6cde",
              "version_major": 2,
              "version_minor": 0
            },
            "text/html": [
              "<p>Failed to display Jupyter Widget of type <code>interactive</code>.</p>\n",
              "<p>\n",
              "  If you're reading this message in Jupyter Notebook or JupyterLab, it may mean\n",
              "  that the widgets JavaScript is still loading. If this message persists, it\n",
              "  likely means that the widgets JavaScript library is either not installed or\n",
              "  not enabled. See the <a href=\"https://ipywidgets.readthedocs.io/en/stable/user_install.html\">Jupyter\n",
              "  Widgets Documentation</a> for setup instructions.\n",
              "</p>\n",
              "<p>\n",
              "  If you're reading this message in another notebook frontend (for example, a static\n",
              "  rendering on GitHub or <a href=\"https://nbviewer.jupyter.org/\">NBViewer</a>),\n",
              "  it may mean that your frontend doesn't currently support widgets.\n",
              "</p>\n"
            ],
            "text/plain": [
              "interactive(children=(FloatSlider(value=0.0, description='w1', max=2.0, min=-2.0, step=0.01), FloatSlider(value=0.0, description='w0', max=5.0, min=-5.0, step=0.01), Output()), _dom_classes=('widget-interact',))"
            ]
          },
          "metadata": {
            "tags": []
          }
        }
      ]
    },
    {
      "cell_type": "markdown",
      "metadata": {
        "id": "HLSUAskztxlH"
      },
      "source": [
        "Rasgele Arama"
      ]
    },
    {
      "cell_type": "code",
      "metadata": {
        "id": "vybJj638txlI",
        "outputId": "08b7c6ad-ae36-4bb3-a5ee-0b2a98678401"
      },
      "source": [
        "x = np.array([8.0 , 6.1 , 11.,  7.,   9.,   12. , 4.,   2.,   10,    5,    3])\n",
        "y = np.array([6.04, 4.95, 5.58, 6.81, 6.33, 7.96, 5.24, 2.26, 8.84, 2.82, 3.68])\n",
        "\n",
        "\n",
        "def hata(y, x, w):\n",
        "    N = len(y)\n",
        "    f = x*w[1]+w[0]\n",
        "    e = y-f\n",
        "    return np.sum(e*e)/2\n",
        "\n",
        "\n",
        "w = np.array([0, 0])\n",
        "E = hata(y, x, w)\n",
        "\n",
        "for e in range(1000):\n",
        "    g = 0.1*np.random.randn(2)   \n",
        "    w_temp = w + g\n",
        "    E_temp = hata(y, x, w_temp)\n",
        "    if E_temp<E:\n",
        "        E = E_temp\n",
        "        w = w_temp\n",
        "        #print(e, E)\n",
        "print(e, E)\n",
        "w"
      ],
      "execution_count": null,
      "outputs": [
        {
          "output_type": "stream",
          "text": [
            "999 6.88573142353\n"
          ],
          "name": "stdout"
        },
        {
          "output_type": "execute_result",
          "data": {
            "text/plain": [
              "array([ 2.01760086,  0.49685693])"
            ]
          },
          "metadata": {
            "tags": []
          },
          "execution_count": 62
        }
      ]
    },
    {
      "cell_type": "markdown",
      "metadata": {
        "id": "t2I0JfwatxlI"
      },
      "source": [
        "Gerçek veri: Türkiyedeki araç sayıları"
      ]
    },
    {
      "cell_type": "code",
      "metadata": {
        "scrolled": true,
        "id": "ipEAjt4KtxlI",
        "outputId": "b5a045aa-dc65-4cdd-d01b-a6ad9133a884"
      },
      "source": [
        "%matplotlib inline\n",
        "\n",
        "import scipy as sc\n",
        "import numpy as np\n",
        "import pandas as pd\n",
        "import matplotlib as mpl\n",
        "import matplotlib.pylab as plt\n",
        "\n",
        "df_arac = pd.read_csv(u'data/arac.csv',sep=';')\n",
        "df_arac[['Year','Car']]\n",
        "#df_arac"
      ],
      "execution_count": null,
      "outputs": [
        {
          "output_type": "execute_result",
          "data": {
            "text/html": [
              "<div>\n",
              "<style>\n",
              "    .dataframe thead tr:only-child th {\n",
              "        text-align: right;\n",
              "    }\n",
              "\n",
              "    .dataframe thead th {\n",
              "        text-align: left;\n",
              "    }\n",
              "\n",
              "    .dataframe tbody tr th {\n",
              "        vertical-align: top;\n",
              "    }\n",
              "</style>\n",
              "<table border=\"1\" class=\"dataframe\">\n",
              "  <thead>\n",
              "    <tr style=\"text-align: right;\">\n",
              "      <th></th>\n",
              "      <th>Year</th>\n",
              "      <th>Car</th>\n",
              "    </tr>\n",
              "  </thead>\n",
              "  <tbody>\n",
              "    <tr>\n",
              "      <th>0</th>\n",
              "      <td>1966</td>\n",
              "      <td>91469</td>\n",
              "    </tr>\n",
              "    <tr>\n",
              "      <th>1</th>\n",
              "      <td>1967</td>\n",
              "      <td>112367</td>\n",
              "    </tr>\n",
              "    <tr>\n",
              "      <th>2</th>\n",
              "      <td>1968</td>\n",
              "      <td>125375</td>\n",
              "    </tr>\n",
              "    <tr>\n",
              "      <th>3</th>\n",
              "      <td>1969</td>\n",
              "      <td>137345</td>\n",
              "    </tr>\n",
              "    <tr>\n",
              "      <th>4</th>\n",
              "      <td>1970</td>\n",
              "      <td>137771</td>\n",
              "    </tr>\n",
              "    <tr>\n",
              "      <th>5</th>\n",
              "      <td>1971</td>\n",
              "      <td>153676</td>\n",
              "    </tr>\n",
              "    <tr>\n",
              "      <th>6</th>\n",
              "      <td>1972</td>\n",
              "      <td>187272</td>\n",
              "    </tr>\n",
              "    <tr>\n",
              "      <th>7</th>\n",
              "      <td>1973</td>\n",
              "      <td>240360</td>\n",
              "    </tr>\n",
              "    <tr>\n",
              "      <th>8</th>\n",
              "      <td>1974</td>\n",
              "      <td>313160</td>\n",
              "    </tr>\n",
              "    <tr>\n",
              "      <th>9</th>\n",
              "      <td>1975</td>\n",
              "      <td>403546</td>\n",
              "    </tr>\n",
              "    <tr>\n",
              "      <th>10</th>\n",
              "      <td>1976</td>\n",
              "      <td>488894</td>\n",
              "    </tr>\n",
              "    <tr>\n",
              "      <th>11</th>\n",
              "      <td>1977</td>\n",
              "      <td>560424</td>\n",
              "    </tr>\n",
              "    <tr>\n",
              "      <th>12</th>\n",
              "      <td>1978</td>\n",
              "      <td>624438</td>\n",
              "    </tr>\n",
              "    <tr>\n",
              "      <th>13</th>\n",
              "      <td>1979</td>\n",
              "      <td>688687</td>\n",
              "    </tr>\n",
              "    <tr>\n",
              "      <th>14</th>\n",
              "      <td>1980</td>\n",
              "      <td>742252</td>\n",
              "    </tr>\n",
              "    <tr>\n",
              "      <th>15</th>\n",
              "      <td>1981</td>\n",
              "      <td>776432</td>\n",
              "    </tr>\n",
              "    <tr>\n",
              "      <th>16</th>\n",
              "      <td>1982</td>\n",
              "      <td>811465</td>\n",
              "    </tr>\n",
              "    <tr>\n",
              "      <th>17</th>\n",
              "      <td>1983</td>\n",
              "      <td>856350</td>\n",
              "    </tr>\n",
              "    <tr>\n",
              "      <th>18</th>\n",
              "      <td>1984</td>\n",
              "      <td>919577</td>\n",
              "    </tr>\n",
              "    <tr>\n",
              "      <th>19</th>\n",
              "      <td>1985</td>\n",
              "      <td>983444</td>\n",
              "    </tr>\n",
              "    <tr>\n",
              "      <th>20</th>\n",
              "      <td>1986</td>\n",
              "      <td>1087234</td>\n",
              "    </tr>\n",
              "    <tr>\n",
              "      <th>21</th>\n",
              "      <td>1987</td>\n",
              "      <td>1193021</td>\n",
              "    </tr>\n",
              "    <tr>\n",
              "      <th>22</th>\n",
              "      <td>1988</td>\n",
              "      <td>1310257</td>\n",
              "    </tr>\n",
              "    <tr>\n",
              "      <th>23</th>\n",
              "      <td>1989</td>\n",
              "      <td>1434830</td>\n",
              "    </tr>\n",
              "    <tr>\n",
              "      <th>24</th>\n",
              "      <td>1990</td>\n",
              "      <td>1649879</td>\n",
              "    </tr>\n",
              "    <tr>\n",
              "      <th>25</th>\n",
              "      <td>1991</td>\n",
              "      <td>1864344</td>\n",
              "    </tr>\n",
              "    <tr>\n",
              "      <th>26</th>\n",
              "      <td>1992</td>\n",
              "      <td>2181388</td>\n",
              "    </tr>\n",
              "    <tr>\n",
              "      <th>27</th>\n",
              "      <td>1993</td>\n",
              "      <td>2619852</td>\n",
              "    </tr>\n",
              "    <tr>\n",
              "      <th>28</th>\n",
              "      <td>1994</td>\n",
              "      <td>2861640</td>\n",
              "    </tr>\n",
              "    <tr>\n",
              "      <th>29</th>\n",
              "      <td>1995</td>\n",
              "      <td>3058511</td>\n",
              "    </tr>\n",
              "    <tr>\n",
              "      <th>30</th>\n",
              "      <td>1996</td>\n",
              "      <td>3274156</td>\n",
              "    </tr>\n",
              "    <tr>\n",
              "      <th>31</th>\n",
              "      <td>1997</td>\n",
              "      <td>3570105</td>\n",
              "    </tr>\n",
              "    <tr>\n",
              "      <th>32</th>\n",
              "      <td>1998</td>\n",
              "      <td>3838288</td>\n",
              "    </tr>\n",
              "    <tr>\n",
              "      <th>33</th>\n",
              "      <td>1999</td>\n",
              "      <td>4072326</td>\n",
              "    </tr>\n",
              "    <tr>\n",
              "      <th>34</th>\n",
              "      <td>2000</td>\n",
              "      <td>4422180</td>\n",
              "    </tr>\n",
              "    <tr>\n",
              "      <th>35</th>\n",
              "      <td>2001</td>\n",
              "      <td>4534803</td>\n",
              "    </tr>\n",
              "    <tr>\n",
              "      <th>36</th>\n",
              "      <td>2002</td>\n",
              "      <td>4600140</td>\n",
              "    </tr>\n",
              "    <tr>\n",
              "      <th>37</th>\n",
              "      <td>2003</td>\n",
              "      <td>4700343</td>\n",
              "    </tr>\n",
              "    <tr>\n",
              "      <th>38</th>\n",
              "      <td>2004</td>\n",
              "      <td>5400440</td>\n",
              "    </tr>\n",
              "    <tr>\n",
              "      <th>39</th>\n",
              "      <td>2005</td>\n",
              "      <td>5772745</td>\n",
              "    </tr>\n",
              "    <tr>\n",
              "      <th>40</th>\n",
              "      <td>2006</td>\n",
              "      <td>6140992</td>\n",
              "    </tr>\n",
              "    <tr>\n",
              "      <th>41</th>\n",
              "      <td>2007</td>\n",
              "      <td>6472156</td>\n",
              "    </tr>\n",
              "    <tr>\n",
              "      <th>42</th>\n",
              "      <td>2008</td>\n",
              "      <td>6796629</td>\n",
              "    </tr>\n",
              "    <tr>\n",
              "      <th>43</th>\n",
              "      <td>2009</td>\n",
              "      <td>7093964</td>\n",
              "    </tr>\n",
              "    <tr>\n",
              "      <th>44</th>\n",
              "      <td>2010</td>\n",
              "      <td>7544871</td>\n",
              "    </tr>\n",
              "    <tr>\n",
              "      <th>45</th>\n",
              "      <td>2011</td>\n",
              "      <td>8113111</td>\n",
              "    </tr>\n",
              "    <tr>\n",
              "      <th>46</th>\n",
              "      <td>2012</td>\n",
              "      <td>8648875</td>\n",
              "    </tr>\n",
              "    <tr>\n",
              "      <th>47</th>\n",
              "      <td>2013</td>\n",
              "      <td>9283923</td>\n",
              "    </tr>\n",
              "    <tr>\n",
              "      <th>48</th>\n",
              "      <td>2014</td>\n",
              "      <td>9857915</td>\n",
              "    </tr>\n",
              "    <tr>\n",
              "      <th>49</th>\n",
              "      <td>2015</td>\n",
              "      <td>10589337</td>\n",
              "    </tr>\n",
              "    <tr>\n",
              "      <th>50</th>\n",
              "      <td>2016</td>\n",
              "      <td>11317998</td>\n",
              "    </tr>\n",
              "    <tr>\n",
              "      <th>51</th>\n",
              "      <td>2017</td>\n",
              "      <td>12035978</td>\n",
              "    </tr>\n",
              "  </tbody>\n",
              "</table>\n",
              "</div>"
            ],
            "text/plain": [
              "    Year       Car\n",
              "0   1966     91469\n",
              "1   1967    112367\n",
              "2   1968    125375\n",
              "3   1969    137345\n",
              "4   1970    137771\n",
              "5   1971    153676\n",
              "6   1972    187272\n",
              "7   1973    240360\n",
              "8   1974    313160\n",
              "9   1975    403546\n",
              "10  1976    488894\n",
              "11  1977    560424\n",
              "12  1978    624438\n",
              "13  1979    688687\n",
              "14  1980    742252\n",
              "15  1981    776432\n",
              "16  1982    811465\n",
              "17  1983    856350\n",
              "18  1984    919577\n",
              "19  1985    983444\n",
              "20  1986   1087234\n",
              "21  1987   1193021\n",
              "22  1988   1310257\n",
              "23  1989   1434830\n",
              "24  1990   1649879\n",
              "25  1991   1864344\n",
              "26  1992   2181388\n",
              "27  1993   2619852\n",
              "28  1994   2861640\n",
              "29  1995   3058511\n",
              "30  1996   3274156\n",
              "31  1997   3570105\n",
              "32  1998   3838288\n",
              "33  1999   4072326\n",
              "34  2000   4422180\n",
              "35  2001   4534803\n",
              "36  2002   4600140\n",
              "37  2003   4700343\n",
              "38  2004   5400440\n",
              "39  2005   5772745\n",
              "40  2006   6140992\n",
              "41  2007   6472156\n",
              "42  2008   6796629\n",
              "43  2009   7093964\n",
              "44  2010   7544871\n",
              "45  2011   8113111\n",
              "46  2012   8648875\n",
              "47  2013   9283923\n",
              "48  2014   9857915\n",
              "49  2015  10589337\n",
              "50  2016  11317998\n",
              "51  2017  12035978"
            ]
          },
          "metadata": {
            "tags": []
          },
          "execution_count": 6
        }
      ]
    },
    {
      "cell_type": "code",
      "metadata": {
        "id": "cz0hAZnqtxlJ",
        "outputId": "f916b672-2fcc-4d6a-9a2f-063e6995cd2f"
      },
      "source": [
        "BaseYear = 1995\n",
        "x = np.matrix(df_arac.Year[0:]).T-BaseYear\n",
        "y = np.matrix(df_arac.Car[0:]).T/1000000.\n",
        "\n",
        "plt.plot(x+BaseYear, y, 'o-')\n",
        "plt.xlabel('Yil')\n",
        "plt.ylabel('Araba (Milyon)')\n",
        "\n",
        "plt.show()"
      ],
      "execution_count": null,
      "outputs": [
        {
          "output_type": "display_data",
          "data": {
            "image/png": "[encoded data removed]",
            "text/plain": [
              "<matplotlib.figure.Figure at 0x117b11550>"
            ]
          },
          "metadata": {
            "tags": []
          }
        }
      ]
    },
    {
      "cell_type": "code",
      "metadata": {
        "id": "kigFCeHZtxlJ",
        "outputId": "e5d55a60-f8af-4522-86c2-de9fcdd8bdc5"
      },
      "source": [
        "%matplotlib inline\n",
        "from __future__ import print_function\n",
        "from ipywidgets import interact, interactive, fixed\n",
        "import ipywidgets as widgets\n",
        "import matplotlib.pylab as plt\n",
        "from IPython.display import clear_output, display, HTML\n",
        "\n",
        "\n",
        "w_0 = 0.27150786\n",
        "w_1 = 0.37332256\n",
        "\n",
        "BaseYear = 1995\n",
        "x = np.matrix(df_arac.Year[0:]).T-BaseYear\n",
        "y = np.matrix(df_arac.Car[0:]).T/1000000.\n",
        "\n",
        "fig, ax = plt.subplots()\n",
        "\n",
        "f = w_1*x + w_0\n",
        "plt.plot(x+BaseYear, y, 'o-')\n",
        "ln, = plt.plot(x+BaseYear, f, 'r')\n",
        "\n",
        "\n",
        "plt.xlabel('Years')\n",
        "plt.ylabel('Number of Cars (Millions)')\n",
        "ax.set_ylim((-2,13))\n",
        "plt.close(fig)\n",
        "\n",
        "def set_line(w_1, w_0):\n",
        "\n",
        "    f = w_1*x + w_0\n",
        "    e = y - f\n",
        "\n",
        "    ln.set_ydata(f)\n",
        "    ax.set_title('Total Error = {} '.format(np.asscalar(e.T*e/2)))\n",
        "    display(fig)\n",
        "\n",
        "set_line(0.32,3)"
      ],
      "execution_count": null,
      "outputs": [
        {
          "output_type": "display_data",
          "data": {
            "image/png": "[encoded data removed]",
            "text/plain": [
              "<matplotlib.figure.Figure at 0x115d24f60>"
            ]
          },
          "metadata": {
            "tags": []
          }
        }
      ]
    },
    {
      "cell_type": "code",
      "metadata": {
        "scrolled": true,
        "id": "XRDw8ZNBtxlJ",
        "outputId": "b3d3f27a-03dc-4639-ed45-6696c8cbbba0",
        "colab": {
          "referenced_widgets": [
            "0dc1b6b7aa7a48df90342ab0e057075f"
          ]
        }
      },
      "source": [
        "interact(set_line, w_1=(-2, 2, 0.01), w_0=(-5, 5, 0.01));"
      ],
      "execution_count": null,
      "outputs": [
        {
          "output_type": "display_data",
          "data": {
            "application/vnd.jupyter.widget-view+json": {
              "model_id": "0dc1b6b7aa7a48df90342ab0e057075f",
              "version_major": 2,
              "version_minor": 0
            },
            "text/html": [
              "<p>Failed to display Jupyter Widget of type <code>interactive</code>.</p>\n",
              "<p>\n",
              "  If you're reading this message in Jupyter Notebook or JupyterLab, it may mean\n",
              "  that the widgets JavaScript is still loading. If this message persists, it\n",
              "  likely means that the widgets JavaScript library is either not installed or\n",
              "  not enabled. See the <a href=\"https://ipywidgets.readthedocs.io/en/stable/user_install.html\">Jupyter\n",
              "  Widgets Documentation</a> for setup instructions.\n",
              "</p>\n",
              "<p>\n",
              "  If you're reading this message in another notebook frontend (for example, a static\n",
              "  rendering on GitHub or <a href=\"https://nbviewer.jupyter.org/\">NBViewer</a>),\n",
              "  it may mean that your frontend doesn't currently support widgets.\n",
              "</p>\n"
            ],
            "text/plain": [
              "interactive(children=(FloatSlider(value=0.0, description='w_1', max=2.0, min=-2.0, step=0.01), FloatSlider(value=0.0, description='w_0', max=5.0, min=-5.0, step=0.01), Output()), _dom_classes=('widget-interact',))"
            ]
          },
          "metadata": {
            "tags": []
          }
        }
      ]
    },
    {
      "cell_type": "code",
      "metadata": {
        "id": "y4d7mHnFtxlK",
        "outputId": "0081fed8-f9ce-4803-dcb2-a0655629e580"
      },
      "source": [
        "w_0 = 0.27150786\n",
        "w_1 = 0.37332256\n",
        "w_2 = 0.1\n",
        "\n",
        "BaseYear = 1995\n",
        "x = np.array(df_arac.Year[0:]).T-BaseYear\n",
        "y = np.array(df_arac.Car[0:]).T/1000000.\n",
        "\n",
        "fig, ax = plt.subplots()\n",
        "\n",
        "f = w_2*x**2 + w_1*x + w_0\n",
        "plt.plot(x+BaseYear, y, 'o-')\n",
        "ln, = plt.plot(x+BaseYear, f, 'r')\n",
        "\n",
        "\n",
        "plt.xlabel('Yıl')\n",
        "plt.ylabel('Araba Sayısı (Milyon)')\n",
        "ax.set_ylim((-2,13))\n",
        "plt.close(fig)\n",
        "\n",
        "def set_line(w_2, w_1, w_0):\n",
        "    f = w_2*x**2 + w_1*x + w_0\n",
        "    e = y - f\n",
        "    ln.set_ydata(f)\n",
        "    ax.set_title('Ortalama Kare Hata = {} '.format(np.sum(e*e/len(e))))\n",
        "    display(fig)\n",
        "\n",
        "set_line(w_2, w_1, w_0)"
      ],
      "execution_count": null,
      "outputs": [
        {
          "output_type": "display_data",
          "data": {
            "image/png": "[encoded data removed]",
            "text/plain": [
              "<matplotlib.figure.Figure at 0x118945ef0>"
            ]
          },
          "metadata": {
            "tags": []
          }
        }
      ]
    },
    {
      "cell_type": "code",
      "metadata": {
        "scrolled": false,
        "id": "RPUtBaH0txlK",
        "outputId": "b19f2678-3618-41a3-abc6-d3952c96f076",
        "colab": {
          "referenced_widgets": [
            "3728522841be43cabe5d562d38ca7a9f"
          ]
        }
      },
      "source": [
        "interact(set_line, w_2=(-0.1,0.1,0.001), w_1=(-2, 2, 0.01), w_0=(-5, 5, 0.01))"
      ],
      "execution_count": null,
      "outputs": [
        {
          "output_type": "display_data",
          "data": {
            "application/vnd.jupyter.widget-view+json": {
              "model_id": "3728522841be43cabe5d562d38ca7a9f",
              "version_major": 2,
              "version_minor": 0
            },
            "text/html": [
              "<p>Failed to display Jupyter Widget of type <code>interactive</code>.</p>\n",
              "<p>\n",
              "  If you're reading this message in Jupyter Notebook or JupyterLab, it may mean\n",
              "  that the widgets JavaScript is still loading. If this message persists, it\n",
              "  likely means that the widgets JavaScript library is either not installed or\n",
              "  not enabled. See the <a href=\"https://ipywidgets.readthedocs.io/en/stable/user_install.html\">Jupyter\n",
              "  Widgets Documentation</a> for setup instructions.\n",
              "</p>\n",
              "<p>\n",
              "  If you're reading this message in another notebook frontend (for example, a static\n",
              "  rendering on GitHub or <a href=\"https://nbviewer.jupyter.org/\">NBViewer</a>),\n",
              "  it may mean that your frontend doesn't currently support widgets.\n",
              "</p>\n"
            ],
            "text/plain": [
              "interactive(children=(FloatSlider(value=0.0, description='w_2', max=0.1, min=-0.1, step=0.001), FloatSlider(value=0.0, description='w_1', max=2.0, min=-2.0, step=0.01), FloatSlider(value=0.0, description='w_0', max=5.0, min=-5.0, step=0.01), Output()), _dom_classes=('widget-interact',))"
            ]
          },
          "metadata": {
            "tags": []
          }
        },
        {
          "output_type": "execute_result",
          "data": {
            "text/plain": [
              "<function __main__.set_line>"
            ]
          },
          "metadata": {
            "tags": []
          },
          "execution_count": 18
        }
      ]
    },
    {
      "cell_type": "markdown",
      "metadata": {
        "id": "rsOEgfU8txlL"
      },
      "source": [
        "## Örnek 1, devam: Modeli Öğrenmek\n",
        "\n",
        "* Öğrenmek: parametre kestirimi $w = [w_0, w_1]$\n",
        "\n",
        "* Genelde model veriyi hatasız açıklayamayacağı için her veri noktası için bir hata tanımlıyoruz:\n",
        "\n",
        "$$e_i = y_i - f(x_i; w)$$\n",
        "\n",
        "* Toplam kare hata \n",
        "\n",
        "$$\n",
        "E(w) = \\frac{1}{2} \\sum_i (y_i - f(x_i; w))^2 = \\frac{1}{2} \\sum_i e_i^2\n",
        "$$\n",
        "\n",
        "* Toplam kare hatayı $w_0$ ve $w_1$ parametrelerini değiştirerek azaltmaya çalışabiliriz.\n",
        "\n",
        "* Hata yüzeyi "
      ]
    },
    {
      "cell_type": "code",
      "metadata": {
        "scrolled": true,
        "id": "FusUC4ZutxlL",
        "outputId": "ff2a38de-7b8b-47d9-c58a-782340a9d740"
      },
      "source": [
        "from itertools import product\n",
        "\n",
        "BaseYear = 1995\n",
        "x = np.matrix(df_arac.Year[0:]).T-BaseYear\n",
        "y = np.matrix(df_arac.Car[0:]).T/1000000.\n",
        "\n",
        "# Setup the vandermonde matrix\n",
        "N = len(x)\n",
        "A = np.hstack((np.ones((N,1)), x))\n",
        "\n",
        "left = -5\n",
        "right = 15\n",
        "bottom = -4\n",
        "top = 6\n",
        "step = 0.05\n",
        "W0 = np.arange(left,right, step)\n",
        "W1 = np.arange(bottom,top, step)\n",
        "\n",
        "ErrSurf = np.zeros((len(W1),len(W0)))\n",
        "\n",
        "for i,j in product(range(len(W1)), range(len(W0))):\n",
        "    e = y - A*np.matrix([W0[j], W1[i]]).T\n",
        "    ErrSurf[i,j] = e.T*e/2\n",
        "\n",
        "plt.figure(figsize=(7,7))\n",
        "plt.imshow(ErrSurf, interpolation='nearest', \n",
        "           vmin=0, vmax=1000,origin='lower',\n",
        "           extent=(left,right,bottom,top),cmap='Blues_r')\n",
        "plt.xlabel('w0')\n",
        "plt.ylabel('w1')\n",
        "plt.title('Error Surface')\n",
        "plt.colorbar(orientation='horizontal')\n",
        "plt.show()"
      ],
      "execution_count": null,
      "outputs": [
        {
          "output_type": "display_data",
          "data": {
            "image/png": "[encoded data removed]",
            "text/plain": [
              "<matplotlib.figure.Figure at 0x117cd6e80>"
            ]
          },
          "metadata": {
            "tags": []
          }
        }
      ]
    },
    {
      "cell_type": "markdown",
      "metadata": {
        "id": "53jqZAOetxlL"
      },
      "source": [
        "# Modeli Nasıl Kestirebiliriz?\n",
        "\n",
        "## Fikir: En küçük kare hata \n",
        "(Gauss 1795, Legendre 1805)\n",
        "\n",
        "* Toplam hatanın $w_0$ ve $w_1$'e göre türevini hesapla, sıfıra eşitle ve çıkan denklemleri çöz\n",
        "\n",
        "\n",
        "\n",
        "\\begin{eqnarray}\n",
        "\\left(\n",
        "\\begin{array}{c}\n",
        "y_0 \\\\ y_1 \\\\ \\vdots \\\\ y_{N-1} \n",
        "\\end{array}\n",
        "\\right)\n",
        "\\approx\n",
        "\\left(\n",
        "\\begin{array}{cc}\n",
        "1 & x_0 \\\\ 1 & x_1 \\\\ \\vdots \\\\ 1 & x_{N-1}  \n",
        "\\end{array}\n",
        "\\right) \n",
        "\\left(\n",
        "\\begin{array}{c}\n",
        " w_0 \\\\ w_1  \n",
        "\\end{array}\n",
        "\\right)\n",
        "\\end{eqnarray}\n",
        "\n",
        "\\begin{eqnarray}\n",
        "y \\approx A w\n",
        "\\end{eqnarray}\n",
        "\n",
        "> $A = A(x)$: Model Matrisi\n",
        "\n",
        "> $w$: Model Parametreleri\n",
        "\n",
        "> $y$: Gözlemler\n",
        "\n",
        "* Hata vektörü: $$e = y - Aw$$\n",
        "\n",
        "\\begin{eqnarray}\n",
        "E(w) & = & \\frac{1}{2}e^\\top e = \\frac{1}{2}(y - Aw)^\\top (y - Aw)\\\\\n",
        "& = & \\frac{1}{2}y^\\top y - \\frac{1}{2} y^\\top Aw - \\frac{1}{2} w^\\top A^\\top y + \\frac{1}{2} w^\\top A^\\top Aw \\\\\n",
        "& = & \\frac{1}{2} y^\\top y - y^\\top Aw + \\frac{1}{2} w^\\top A^\\top Aw \\\\\n",
        "\\end{eqnarray}\n",
        "\n",
        "### Gradyan\n",
        "https://tr.khanacademy.org/math/multivariable-calculus/multivariable-derivatives/partial-derivative-and-gradient-articles/a/the-gradient\n",
        "\n",
        "\\begin{eqnarray}\n",
        "\\frac{d E}{d w } & = & \\left(\\begin{array}{c}\n",
        " \\partial E/\\partial w_0 \\\\ \\partial E/\\partial w_1 \\\\ \\vdots \\\\  \\partial E/\\partial w_{K-1}\n",
        "\\end{array}\\right)\n",
        "\\end{eqnarray}\n",
        "  \n",
        "Toplam hatanın gradyanı\n",
        "\\begin{eqnarray}\n",
        "\\frac{d}{d w }E(w) & = & \\frac{d}{d w }(\\frac{1}{2} y^\\top y) &+ \\frac{d}{d w }(- y^\\top Aw) &+ \\frac{d}{d w }(\\frac{1}{2} w^\\top A^\\top Aw) \\\\\n",
        "& = & 0 &- A^\\top y &+ A^\\top A w \\\\\n",
        "& = & - A^\\top (y - Aw) \\\\\n",
        "& = & - A^\\top e \\\\\n",
        "& \\equiv & \\nabla E(w)\n",
        "\\end{eqnarray}\n",
        "\n",
        "### Yapay zekaya gönül veren herkesin bilmesi gereken eşitlikler\n",
        "* Vektör iç çarpımının gradyeni\n",
        "\\begin{eqnarray}\n",
        "\\frac{d}{d w }(h^\\top w) & = & h\n",
        "\\end{eqnarray}\n",
        "\n",
        "* Karesel bir ifadenin gradyeni\n",
        "\\begin{eqnarray}\n",
        "\\frac{d}{d w }(w^\\top K w) & = & (K+K^\\top) w\n",
        "\\end{eqnarray}\n",
        "\n",
        "\n",
        "### En küçük kare hata çözümü doğrusal modellerde doğrusal denklemlerin çözümü ile bulunabiliyor\n",
        "\n",
        "\n",
        "\\begin{eqnarray}\n",
        "w^* & = & \\arg\\min_{w} E(w)\n",
        "\\end{eqnarray}\n",
        "\n",
        "* Eniyileme Şartı (gradyan sıfır olmalı )\n",
        "\n",
        "\\begin{eqnarray}\n",
        "\\nabla E(w^*) & = & 0\n",
        "\\end{eqnarray}\n",
        "\n",
        "\\begin{eqnarray}\n",
        "0 & = & - A^\\top y + A^\\top A w^*  \\\\\n",
        "A^\\top y & = &  A^\\top A w^* \\\\\n",
        "w^* & = & (A^\\top A)^{-1} A^\\top y \n",
        "\\end{eqnarray}\n",
        "\n",
        "* Geometrik (Projeksyon) yorumu:\n",
        "\n",
        "\\begin{eqnarray}\n",
        "f & = A w^*  = A (A^\\top A)^{-1} A^\\top y \n",
        "\\end{eqnarray}\n",
        "\n"
      ]
    },
    {
      "cell_type": "code",
      "metadata": {
        "scrolled": true,
        "id": "i3AC2-p_txlM",
        "outputId": "6dcfc5b6-3daa-4970-fa83-7846a115fba5"
      },
      "source": [
        "# Solving the Normal Equations\n",
        "\n",
        "# Setup the Design matrix\n",
        "N = len(x)\n",
        "A = np.hstack((np.ones((N,1)), x))\n",
        "\n",
        "#plt.imshow(A, interpolation='nearest')\n",
        "# Solve the least squares problem\n",
        "w_ls,E,rank,sigma = np.linalg.lstsq(A, y)\n",
        "\n",
        "print('Parametreler: \\nw0 = ', w_ls[0],'\\nw1 = ', w_ls[1] )\n",
        "print('Toplam Kare Hata:', E/2)\n",
        "\n",
        "f = np.asscalar(w_ls[1])*x + np.asscalar(w_ls[0])\n",
        "plt.plot(x+BaseYear, y, 'o-')\n",
        "plt.plot(x+BaseYear, f, 'r')\n",
        "\n",
        "\n",
        "plt.xlabel('Yıl')\n",
        "plt.ylabel('Araba sayısı (Milyon)')\n",
        "plt.show()"
      ],
      "execution_count": null,
      "outputs": [
        {
          "output_type": "stream",
          "text": [
            "Parametreler: \n",
            "w0 =  [[ 4.13258253]] \n",
            "w1 =  [[ 0.20987778]]\n",
            "Toplam Kare Hata: [[ 37.19722385]]\n"
          ],
          "name": "stdout"
        },
        {
          "output_type": "display_data",
          "data": {
            "image/png": "[encoded data removed]",
            "text/plain": [
              "<matplotlib.figure.Figure at 0x119bfd710>"
            ]
          },
          "metadata": {
            "tags": []
          }
        }
      ]
    },
    {
      "cell_type": "markdown",
      "metadata": {
        "id": "tNZqhpOOtxlM"
      },
      "source": [
        "## Polinomlar \n",
        "\n",
        "\n",
        "### Parabol\n",
        "\\begin{eqnarray}\n",
        "\\left(\n",
        "\\begin{array}{c}\n",
        "y_0 \\\\ y_1 \\\\ \\vdots \\\\ y_{N-1} \n",
        "\\end{array}\n",
        "\\right)\n",
        "\\approx\n",
        "\\left(\n",
        "\\begin{array}{ccc}\n",
        "1 & x_0 & x_0^2 \\\\ 1 & x_1 & x_1^2 \\\\ \\vdots \\\\ 1 & x_{N-1} & x_{N-1}^2   \n",
        "\\end{array}\n",
        "\\right) \n",
        "\\left(\n",
        "\\begin{array}{c}\n",
        " w_0 \\\\ w_1  \\\\ w_2\n",
        "\\end{array}\n",
        "\\right)\n",
        "\\end{eqnarray}\n",
        "\n",
        "### $K$ derecesinde polinom\n",
        "\\begin{eqnarray}\n",
        "\\left(\n",
        "\\begin{array}{c}\n",
        "y_0 \\\\ y_1 \\\\ \\vdots \\\\ y_{N-1} \n",
        "\\end{array}\n",
        "\\right)\n",
        "\\approx\n",
        "\\left(\n",
        "\\begin{array}{ccccc}\n",
        "1 & x_0 & x_0^2 & \\dots & x_0^K \\\\ 1 & x_1 & x_1^2 & \\dots & x_1^K\\\\ \\vdots \\\\ 1 & x_{N-1} & x_{N-1}^2 & \\dots & x_{N-1}^K  \n",
        "\\end{array}\n",
        "\\right) \n",
        "\\left(\n",
        "\\begin{array}{c}\n",
        " w_0 \\\\ w_1  \\\\ w_2 \\\\ \\vdots \\\\ w_K\n",
        "\\end{array}\n",
        "\\right)\n",
        "\\end{eqnarray}\n",
        "\n",
        "\n",
        "\\begin{eqnarray}\n",
        "y \\approx A w\n",
        "\\end{eqnarray}\n",
        "\n",
        "> $A = A(x)$: Model matrisi \n",
        "\n",
        "> $w$: Model Parametreleri\n",
        "\n",
        "> $y$: Gözlemler\n",
        "\n",
        "Polinom oturtmada ortaya çıkan özel yapılı matrislere  __Vandermonde__ matrisleri de denmektedir."
      ]
    },
    {
      "cell_type": "code",
      "metadata": {
        "scrolled": true,
        "id": "bM0PoPc2txlN",
        "outputId": "eb2e1dae-f4f9-44fa-c48e-60122fe311ca"
      },
      "source": [
        "x = np.array([10, 8, 13, 9, 11, 14, 6, 4, 12, 7, 5])\n",
        "N = len(x)\n",
        "x = x.reshape((N,1))\n",
        "y = np.array([8.04, 6.95, 7.58, 8.81, 8.33, 9.96, 7.24, 4.26, 10.84, 4.82, 5.68]).reshape((N,1))\n",
        "#y = np.array([9.14, 8.14, 8.74, 8.77, 9.26, 8.10, 6.13, 3.10, 9.13, 7.26, 4.74]).reshape((N,1))\n",
        "#y = np.array([7.46, 6.77, 12.74, 7.11, 7.81, 8.84, 6.08, 5.39, 8.15, 6.42, 5.73]).reshape((N,1))\n",
        "\n",
        "def fit_and_plot_poly(degree):\n",
        "\n",
        "    #A = np.hstack((np.power(x,0), np.power(x,1), np.power(x,2)))\n",
        "    A = np.hstack((np.power(x,i) for i in range(degree+1)))\n",
        "    # Setup the vandermonde matrix\n",
        "    xx = np.matrix(np.linspace(np.asscalar(min(x))-1,np.asscalar(max(x))+1,300)).T\n",
        "    A2 = np.hstack((np.power(xx,i) for i in range(degree+1)))\n",
        "\n",
        "    #plt.imshow(A, interpolation='nearest')\n",
        "    # Solve the least squares problem\n",
        "    w_ls,E,rank,sigma = np.linalg.lstsq(A, y)\n",
        "    f = A2*w_ls\n",
        "    plt.plot(x, y, 'o')\n",
        "    plt.plot(xx, f, 'r')\n",
        "\n",
        "    plt.xlabel('x')\n",
        "    plt.ylabel('y')\n",
        "\n",
        "    plt.gca().set_ylim((0,20))\n",
        "    #plt.gca().set_xlim((1950,2025))\n",
        "    \n",
        "    if E:\n",
        "        plt.title('Mertebe = '+str(degree)+' Hata='+str(E[0]))\n",
        "    else:\n",
        "        plt.title('Mertebe = '+str(degree)+' Hata= 0')\n",
        "        \n",
        "    plt.show()\n",
        "\n",
        "fit_and_plot_poly(0)"
      ],
      "execution_count": null,
      "outputs": [
        {
          "output_type": "display_data",
          "data": {
            "image/png": "[encoded data removed]",
            "text/plain": [
              "<matplotlib.figure.Figure at 0x117bacc88>"
            ]
          },
          "metadata": {
            "tags": []
          }
        }
      ]
    },
    {
      "cell_type": "code",
      "metadata": {
        "scrolled": false,
        "id": "z90tXpq2txlO",
        "outputId": "6f36ab18-9f00-4f10-b05e-62c9a9d1e38d",
        "colab": {
          "referenced_widgets": [
            "cdfbe9366f90479595f42905e0441088"
          ]
        }
      },
      "source": [
        "interact(fit_and_plot_poly, degree=(0,10))"
      ],
      "execution_count": null,
      "outputs": [
        {
          "output_type": "display_data",
          "data": {
            "application/vnd.jupyter.widget-view+json": {
              "model_id": "cdfbe9366f90479595f42905e0441088",
              "version_major": 2,
              "version_minor": 0
            },
            "text/html": [
              "<p>Failed to display Jupyter Widget of type <code>interactive</code>.</p>\n",
              "<p>\n",
              "  If you're reading this message in Jupyter Notebook or JupyterLab, it may mean\n",
              "  that the widgets JavaScript is still loading. If this message persists, it\n",
              "  likely means that the widgets JavaScript library is either not installed or\n",
              "  not enabled. See the <a href=\"https://ipywidgets.readthedocs.io/en/stable/user_install.html\">Jupyter\n",
              "  Widgets Documentation</a> for setup instructions.\n",
              "</p>\n",
              "<p>\n",
              "  If you're reading this message in another notebook frontend (for example, a static\n",
              "  rendering on GitHub or <a href=\"https://nbviewer.jupyter.org/\">NBViewer</a>),\n",
              "  it may mean that your frontend doesn't currently support widgets.\n",
              "</p>\n"
            ],
            "text/plain": [
              "interactive(children=(IntSlider(value=5, description='degree', max=10), Output()), _dom_classes=('widget-interact',))"
            ]
          },
          "metadata": {
            "tags": []
          }
        },
        {
          "output_type": "execute_result",
          "data": {
            "text/plain": [
              "<function __main__.fit_and_plot_poly>"
            ]
          },
          "metadata": {
            "tags": []
          },
          "execution_count": 15
        }
      ]
    },
    {
      "cell_type": "markdown",
      "metadata": {
        "id": "Q9qdBHiptxlO"
      },
      "source": [
        "Overfit: Aşırı uyum"
      ]
    }
  ]
}