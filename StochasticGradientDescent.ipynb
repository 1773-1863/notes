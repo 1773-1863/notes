{
 "cells": [
  {
   "cell_type": "markdown",
   "metadata": {},
   "source": [
    "# Maximum Likelihood Estimation\n",
    "\n",
    "Suppose we wish to estimate the parameter $\\theta$, given conditionally independent observations\n",
    "$$\n",
    "p(x| \\theta) = \\prod_{i=1}^N p(x_i| \\theta)\n",
    "$$\n",
    "The maximum-likelihood estimator $\\theta^*$ maximizes the log likelihood function\n",
    "\\begin{align}\n",
    "\\theta^* = \\arg\\max_\\theta \\mathcal{L}(\\theta) \n",
    "\\end{align}\n",
    "\n",
    "The likelihood function can be written as the sum \n",
    "$$\n",
    "\\mathcal{L}(\\theta) = \\sum_{i=1}^N \\mathcal{L}_i(\\theta) \n",
    "$$\n",
    "\n",
    "$\\mathcal{L}_i(\\theta) \\equiv \\log p(x_i| \\theta)$"
   ]
  },
  {
   "cell_type": "markdown",
   "metadata": {},
   "source": [
    "## Example: Estimating the variance parameter of a Gaussian\n",
    "\n",
    "Assume for $i=1\\dots N$, we have conditionally independent observations \n",
    "$$\n",
    "x_i \\sim \\mathcal{N}(x; 0, \\theta)\n",
    "$$\n",
    "\n",
    "The likelihood contribution of a single data point is \n",
    "$$\\log p(x_i|\\theta) = \\mathcal{L}_i =  - \\frac{1}{2} \\frac{x_i^2}{\\theta} -\\frac{1}{2}\\log 2\\pi \\theta$$\n",
    "\n",
    "The total log-likelihood is the sum of individual data terms \n",
    "$$\\log p(x|\\theta) = \\mathcal{L}(\\theta) = \\sum_{i=1}^N \\mathcal{L}_i =  - \\frac{1}{2} \\frac{\\sum_{i=1}^N x_i^2}{\\theta} -\\frac{N}{2}\\log 2\\pi \\theta$$\n",
    "\n",
    "$$\\frac{\\partial \\mathcal{L}(\\theta)}{\\partial \\theta} = g(\\theta) = -\\frac{N}{2 \\theta} + \\frac{1}{2} \\frac{\\sum_i x_i^2}{\\theta^2}$$\n",
    "\n",
    "This problem has a solution in closed form:\n",
    "\n",
    "\\begin{align}                                                                                                                                                                                                                                                                                                                                                    g(\\theta) & = 0 = -\\frac{N}{2 \\theta} + \\frac{1}{2} \\frac{\\sum_i x_i^2}{\\theta^2} \\\\\n",
    "                                                                                                                                                                                                                                                                                                                                                    \\theta^* & = \\frac{\\sum_i x_i^2}{N}\n",
    "                                                                                                                                                                                                                                                                                                                                                    \\end{align}"
   ]
  },
  {
   "cell_type": "markdown",
   "metadata": {},
   "source": [
    "## Recursive estimation\n",
    "\n",
    "Let's denote the estimate at $N$'th step as\n",
    "\\begin{align}\n",
    "\\theta^*_{N} & = \\frac{\\sum_{i=1}^N x_i^2}{N} \\\\\n",
    "N \\theta^*_{N} & = \\sum_{i=1}^{N-1} x_i^2 + x_{N}^2 \\\\\n",
    "\\theta^*_{N} & = \\frac{1}{N}\\sum_{i=1}^{N-1} x_i^2 + \\frac{1}{N} x_{N}^2 \\\\\n",
    " & = \\frac{N-1}{N} \\theta^*_{N-1} + \\frac{1}{N} x_{N}^2 \\\\\n",
    "& = \\theta^*_{N-1} + \\frac{1}{N} (x_{N}^2 - \\theta^*_{N-1})\n",
    "\\end{align}"
   ]
  },
  {
   "cell_type": "markdown",
   "metadata": {},
   "source": [
    "Generate sample data from the true model"
   ]
  },
  {
   "cell_type": "code",
   "execution_count": 89,
   "metadata": {
    "collapsed": true
   },
   "outputs": [],
   "source": [
    "%matplotlib inline\n",
    "import matplotlib as mpl\n",
    "import matplotlib.pyplot as plt\n",
    "import numpy as np\n",
    "import scipy as sc\n",
    "import pandas as pd\n",
    "\n",
    "mpl.rc('font',**{'size': 20, 'family':'sans-serif','sans-serif':['Helvetica']})\n",
    "mpl.rc('text', usetex=True)\n",
    "\n",
    "N = 1000\n",
    "x = np.random.randn(N)\n",
    "\n",
    "def g(th, N, s):\n",
    "    return -0.5/th + 0.5*s/N/th**2\n"
   ]
  },
  {
   "cell_type": "markdown",
   "metadata": {},
   "source": [
    "Exact recursive maximum likelihood"
   ]
  },
  {
   "cell_type": "code",
   "execution_count": 55,
   "metadata": {},
   "outputs": [
    {
     "data": {
      "image/png": "[encoded data removed]",
      "text/plain": [
       "<matplotlib.figure.Figure at 0x119a634e0>"
      ]
     },
     "metadata": {},
     "output_type": "display_data"
    }
   ],
   "source": [
    "th_star = np.mean(x**2)\n",
    "th = 0\n",
    "TH = []\n",
    "for n in range(N):\n",
    "    th = th + (x[n]**2 - th)/(n+1)\n",
    "    TH.append(th)\n",
    "\n",
    "plt.figure(figsize=(12,3))\n",
    "plt.plot(TH)\n",
    "plt.axhline(th_star, ls=':')\n",
    "plt.show()"
   ]
  },
  {
   "cell_type": "markdown",
   "metadata": {},
   "source": [
    "The following panel illustrates the true gradient of the likelihood $\\mathcal{L}$ with \n",
    "estimates obtained on random subsets deoted by $\\Omega$. The expectation of the random gradients\n",
    "is the true gradient\n",
    "\n",
    "$$\n",
    "g(\\theta) = \\left\\langle{g_\\Omega(\\theta)}\\right\\rangle\n",
    "$$\n"
   ]
  },
  {
   "cell_type": "code",
   "execution_count": 90,
   "metadata": {
    "scrolled": false
   },
   "outputs": [
    {
     "data": {
      "application/vnd.jupyter.widget-view+json": {
       "model_id": "4320dba45ba44e3583e7f5c76b9bcd26",
       "version_major": 2,
       "version_minor": 0
      },
      "text/html": [
       "<p>Failed to display Jupyter Widget of type <code>interactive</code>.</p>\n",
       "<p>\n",
       "  If you're reading this message in Jupyter Notebook or JupyterLab, it may mean\n",
       "  that the widgets JavaScript is still loading. If this message persists, it\n",
       "  likely means that the widgets JavaScript library is either not installed or\n",
       "  not enabled. See the <a href=\"https://ipywidgets.readthedocs.io/en/stable/user_install.html\">Jupyter\n",
       "  Widgets Documentation</a> for setup instructions.\n",
       "</p>\n",
       "<p>\n",
       "  If you're reading this message in another notebook frontend (for example, a static\n",
       "  rendering on GitHub or <a href=\"https://nbviewer.jupyter.org/\">NBViewer</a>),\n",
       "  it may mean that your frontend doesn't currently support widgets.\n",
       "</p>\n"
      ],
      "text/plain": [
       "interactive(children=(IntSlider(value=1, description='B', max=500, min=1, step=10), IntSlider(value=10, description='NumOfBatches', max=400, min=10, step=10), Output()), _dom_classes=('widget-interact',))"
      ]
     },
     "metadata": {},
     "output_type": "display_data"
    }
   ],
   "source": [
    "\n",
    "from ipywidgets import interact, interactive, fixed\n",
    "import ipywidgets as widgets\n",
    "from IPython.display import clear_output, display, HTML\n",
    "from matplotlib import rc\n",
    "\n",
    "\n",
    "\n",
    "def plot_batch(B=1, NumOfBatches=10):\n",
    "    th = np.linspace(0.4,2)\n",
    "\n",
    "    for J in range(NumOfBatches):\n",
    "        s = np.sum(np.random.choice(x, size=B,replace=False)**2)\n",
    "        plt.plot(th, g(th, B, s), ls='-', alpha=0.3, color='blue')\n",
    "\n",
    "    s = np.sum(x**2)\n",
    "    plt.plot(th, g(th, N, s), ls=':', linewidth=4, color='red',label='true')\n",
    "\n",
    "    plt.gca().set_ylim([-0.2,1])\n",
    "    plt.grid()\n",
    "\n",
    "    plt.xlabel('$\\\\theta$/Parameter')\n",
    "    plt.ylabel('$g$/Gradient Estimate')\n",
    "    #plt.legend(['$g_\\Omega$','$g(\\\\theta)$'])\n",
    "    plt.title('True gradient versus mini-batch')\n",
    "    plt.show()\n",
    "    \n",
    "res = interact(plot_batch, NumOfBatches=(10,400,10), B=(1,500,10))"
   ]
  },
  {
   "cell_type": "markdown",
   "metadata": {},
   "source": [
    "# SGD\n",
    "\n",
    "* Local search algorithms have the form :\n",
    "\\begin{align}\n",
    "w_0 & = \\text{some initial value} \\\\\n",
    "\\text{for}\\;\\; & \\tau = 1, 2,\\dots \\\\\n",
    "& w_\\tau = w_{\\tau-1} + \\eta_\\tau s_\\tau\n",
    "\\end{align}\n",
    "\n",
    "$\\eta_\\tau$ is a learning rate and $s_\\tau$ is a search direction. \n",
    "\n",
    "At each iteration $\\tau$, minibatch SGD selects random $i$ from $1\\dots N$. Set the search direction \n",
    "$$\n",
    "s_\\tau = \\nabla\\mathcal{L}_i(\\theta_{\\tau-1})\n",
    "$$\n",
    "\n",
    "\n",
    "\n",
    "# Minibatch SGD\n",
    "\n",
    "\n",
    "\n",
    "\n",
    "\n",
    "\n",
    "At each iteration $\\tau$, minibatch SGD selects a random subset $\\Omega_\\tau$ of size $B_\\tau$ of $1\\dots N$. Set the search direction \n",
    "$$\n",
    "s_\\tau = \\frac{1}{B_\\tau}\\sum_{i\\in \\Omega_\\tau} \\nabla\\mathcal{L}_i(\\theta_{\\tau-1})\n",
    "$$\n",
    "\n",
    "When the batch size is one ($B=1$), the minibatch SGD algorithm is SGD."
   ]
  },
  {
   "cell_type": "markdown",
   "metadata": {},
   "source": [
    "\\begin{align}\n",
    "g_\\Omega(\\theta)/B & = -\\frac{1}{2 \\theta} + \\frac{1}{2} \\frac{\\sum_{i\\in \\Omega} x_i^2}{B\\theta^2} \\\\\n",
    "& = \\frac{1}{2\\theta^2}\\left(-\\theta + \\frac{1}{B}\\sum_{i\\in \\Omega} x_i^2\\right)\n",
    "\\end{align}\n"
   ]
  },
  {
   "cell_type": "code",
   "execution_count": 62,
   "metadata": {
    "scrolled": true
   },
   "outputs": [
    {
     "data": {
      "application/vnd.jupyter.widget-view+json": {
       "model_id": "ed48615113d74f9a9eaa871ab58b6816",
       "version_major": 2,
       "version_minor": 0
      },
      "text/html": [
       "<p>Failed to display Jupyter Widget of type <code>interactive</code>.</p>\n",
       "<p>\n",
       "  If you're reading this message in Jupyter Notebook or JupyterLab, it may mean\n",
       "  that the widgets JavaScript is still loading. If this message persists, it\n",
       "  likely means that the widgets JavaScript library is either not installed or\n",
       "  not enabled. See the <a href=\"https://ipywidgets.readthedocs.io/en/stable/user_install.html\">Jupyter\n",
       "  Widgets Documentation</a> for setup instructions.\n",
       "</p>\n",
       "<p>\n",
       "  If you're reading this message in another notebook frontend (for example, a static\n",
       "  rendering on GitHub or <a href=\"https://nbviewer.jupyter.org/\">NBViewer</a>),\n",
       "  it may mean that your frontend doesn't currently support widgets.\n",
       "</p>\n"
      ],
      "text/plain": [
       "interactive(children=(IntSlider(value=1, description='B', min=1), FloatSlider(value=1.0, description='eta', max=5.0, min=0.01, step=0.01), IntSlider(value=0, description='seed'), Output()), _dom_classes=('widget-interact',))"
      ]
     },
     "metadata": {},
     "output_type": "display_data"
    }
   ],
   "source": [
    "\n",
    "th_true = np.sum(x**2)/N\n",
    "\n",
    "def plot_path(B=1, eta=1., seed=0):\n",
    "    np.random.seed(seed)\n",
    "    theta = 1.5\n",
    "\n",
    "    MAX_ITER = 1000\n",
    "    \n",
    "    TH = []\n",
    "    TH.append(theta)\n",
    "    for tau in range(MAX_ITER):\n",
    "        eta_tau = eta/(tau+1)\n",
    "        x_omega = np.random.choice(x, size=B)\n",
    "        theta = theta + eta_tau*(-0.5/theta + 0.5*np.sum(x_omega**2)/B/theta**2 )\n",
    "        TH.append(theta)\n",
    "\n",
    "    TH = np.array(TH)\n",
    "    plt.figure(figsize=(12,3))\n",
    "    plt.plot(TH)\n",
    "    plt.axhline(th_true)\n",
    "    plt.ylabel('$\\\\theta_\\\\tau$/Estimate at $\\\\tau$')\n",
    "    plt.xlabel('$\\\\tau$/Iteration')\n",
    "    \n",
    "    plt.ylim([0.75, 1.5])\n",
    "\n",
    "    plt.show()\n",
    "    \n",
    "res = interact(plot_path, B=(1,100), eta=(0.01,5,0.01), seed=(0,100))"
   ]
  },
  {
   "cell_type": "markdown",
   "metadata": {},
   "source": [
    "A model for outliers\n",
    "\n",
    "$$\n",
    "x_i \\sim \\frac{1}{2}\\mathcal{N}(x; 0, \\theta) + \\frac{1}{2}\\mathcal{N}(x; 0, 100)\n",
    "$$\n"
   ]
  },
  {
   "cell_type": "code",
   "execution_count": 64,
   "metadata": {},
   "outputs": [
    {
     "data": {
      "text/latex": [
       "$\\DeclareMathOperator{\\trace}{Tr}$"
      ],
      "text/plain": [
       "<IPython.core.display.Latex object>"
      ]
     },
     "metadata": {},
     "output_type": "display_data"
    },
    {
     "data": {
      "text/latex": [
       "$$\\mathcal{N}(s; \\mu, v)=\\frac{1}{\\sqrt{2\\pi v} } \\exp\\left(-\\frac12 \\frac{(s - \\mu )^2}{v}\\right)=\\exp\\left(-\\frac{1}{2}\\frac{s^2}{v} + \\frac{s \\mu }{v} -\\frac{1}{2}\\frac{\\mu^2}{v} -\\frac{1}{2}\\log(2{\\pi}v)    \\right)$$"
      ],
      "text/plain": [
       "<IPython.core.display.Math object>"
      ]
     },
     "metadata": {},
     "output_type": "display_data"
    },
    {
     "data": {
      "text/latex": [
       "\\mathcal{N}(s; \\mu, v)=\\frac{1}{\\sqrt{2\\pi v} } \\exp\\left(-\\frac12 \\frac{(s - \\mu )^2}{v}\\right)=\\exp\\left(-\\frac{1}{2}\\frac{s^2}{v} + \\frac{s \\mu }{v} -\\frac{1}{2}\\frac{\\mu^2}{v} -\\frac{1}{2}\\log(2{\\pi}v)    \\right)"
      ],
      "text/plain": [
       "<IPython.core.display.Latex object>"
      ]
     },
     "metadata": {},
     "output_type": "display_data"
    },
    {
     "data": {
      "text/html": [
       "<table width=100%><tr><td align=\"center\">\\begin{eqnarray}\\mathcal{N}(s; \\mu, v)\\end{eqnarray}</td><td>\\mathcal{N}(s; \\mu, v)</td></tr><tr><td align=\"center\">\\begin{eqnarray}\\frac{1}{\\sqrt{2\\pi v} } \\exp\\left(-\\frac12 \\frac{(s - \\mu )^2}{v}\\right)\\end{eqnarray}</td><td>\\frac{1}{\\sqrt{2\\pi v} } \\exp\\left(-\\frac12 \\frac{(s - \\mu )^2}{v}\\right)</td></tr><tr><td align=\"center\">\\begin{eqnarray}\\exp\\left(-\\frac{1}{2}\\frac{s^2}{v} + \\frac{s \\mu }{v} -\\frac{1}{2}\\frac{\\mu^2}{v} -\\frac{1}{2}\\log(2{\\pi}v)    \\right)\\end{eqnarray}</td><td>\\exp\\left(-\\frac{1}{2}\\frac{s^2}{v} + \\frac{s \\mu }{v} -\\frac{1}{2}\\frac{\\mu^2}{v} -\\frac{1}{2}\\log(2{\\pi}v)    \\right)</td></tr><tr><td align=\"center\">\\begin{eqnarray}-\\frac{1}{2}\\frac{s^2}{v} + \\frac{s \\mu }{v} -\\frac{1}{2}\\frac{\\mu^2}{v} -\\frac{1}{2}\\log v -\\frac{1}{2}\\log 2\\pi\\end{eqnarray}</td><td>-\\frac{1}{2}\\frac{s^2}{v} + \\frac{s \\mu }{v} -\\frac{1}{2}\\frac{\\mu^2}{v} -\\frac{1}{2}\\log v -\\frac{1}{2}\\log 2\\pi</td></tr></table>"
      ],
      "text/plain": [
       "<IPython.core.display.HTML object>"
      ]
     },
     "metadata": {},
     "output_type": "display_data"
    }
   ],
   "source": [
    "from IPython.display import display, Math, Latex, HTML\n",
    "import notes_utilities as nut\n",
    "from importlib import reload\n",
    "#reload(nut)\n",
    "display(Latex(r'$\\DeclareMathOperator{\\trace}{Tr}$'))\n",
    "\n",
    "L = nut.pdf2latex_gauss(x=r's', m=r'\\mu',v=r'v')\n",
    "#L = nut.pdf2latex_mvnormal(x=r's', m=r'\\mu',v=r'\\Sigma')\n",
    "#L = nut.pdf2latex_mvnormal(x=r'x_t', m=r'(Ax_{t-1})',v=r'Q')\n",
    "#L = nut.pdf2latex_mvnormal(x=r'y_t', m=r'(Cx_{t})',v=r'R')\n",
    "#L = nut.pdf2latex_mvnormal(x=r's', m=0,v=r'I')\n",
    "#L = nut.pdf2latex_gamma(x=r'x', a=r'a',b=r'b')\n",
    "#L = nut.pdf2latex_invgamma(x=r'x', a=r'a',b=r'b')\n",
    "#L = nut.pdf2latex_beta(x=r'\\pi', a=r'\\alpha',b=r'\\beta')\n",
    "\n",
    "eq = L[0]+'='+L[1]+'='+L[2]\n",
    "display(Math(eq))\n",
    "display(Latex(eq))\n",
    "display(HTML(nut.eqs2html_table(L)))"
   ]
  },
  {
   "cell_type": "code",
   "execution_count": 87,
   "metadata": {},
   "outputs": [
    {
     "data": {
      "image/png": "[encoded data removed]",
      "text/plain": [
       "<matplotlib.figure.Figure at 0x11958d860>"
      ]
     },
     "metadata": {},
     "output_type": "display_data"
    }
   ],
   "source": [
    "def log_gauss_pdf(x,mu,v):\n",
    "    return -0.5*np.log(2*np.pi*v) - 0.5*(x-mu)**2/v\n",
    "\n",
    "x = np.linspace(-10,10,200)\n",
    "v = 0.1\n",
    "v0 = 40.\n",
    "m = 3.\n",
    "\n",
    "y = np.log(0.006*np.exp(log_gauss_pdf(x,m,v)) + 0.994*np.exp(log_gauss_pdf(x,0,v0)))\n",
    "\n",
    "plt.plot(x,np.exp(y))\n",
    "plt.show()\n"
   ]
  }
 ],
 "metadata": {
  "kernelspec": {
   "display_name": "Python [conda root]",
   "language": "python",
   "name": "conda-root-py"
  },
  "language_info": {
   "codemirror_mode": {
    "name": "ipython",
    "version": 3
   },
   "file_extension": ".py",
   "mimetype": "text/x-python",
   "name": "python",
   "nbconvert_exporter": "python",
   "pygments_lexer": "ipython3",
   "version": "3.6.1"
  },
  "toc": {
   "nav_menu": {},
   "number_sections": true,
   "sideBar": true,
   "skip_h1_title": false,
   "toc_cell": false,
   "toc_position": {},
   "toc_section_display": "block",
   "toc_window_display": false
  }
 },
 "nbformat": 4,
 "nbformat_minor": 2
}
