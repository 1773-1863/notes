{
 "cells": [
  {
   "cell_type": "code",
   "execution_count": 1,
   "metadata": {},
   "outputs": [
    {
     "data": {
      "text/plain": [
       "8"
      ]
     },
     "execution_count": 1,
     "metadata": {},
     "output_type": "execute_result"
    }
   ],
   "source": [
    "3+5"
   ]
  },
  {
   "cell_type": "code",
   "execution_count": 2,
   "metadata": {},
   "outputs": [
    {
     "data": {
      "text/plain": [
       "18"
      ]
     },
     "execution_count": 2,
     "metadata": {},
     "output_type": "execute_result"
    }
   ],
   "source": [
    "3*6"
   ]
  },
  {
   "cell_type": "code",
   "execution_count": 5,
   "metadata": {},
   "outputs": [
    {
     "data": {
      "text/plain": [
       "1"
      ]
     },
     "execution_count": 5,
     "metadata": {},
     "output_type": "execute_result"
    }
   ],
   "source": [
    "7 // 4"
   ]
  },
  {
   "cell_type": "code",
   "execution_count": 6,
   "metadata": {
    "collapsed": true
   },
   "outputs": [],
   "source": [
    "x = 5"
   ]
  },
  {
   "cell_type": "code",
   "execution_count": 7,
   "metadata": {},
   "outputs": [
    {
     "data": {
      "text/plain": [
       "30"
      ]
     },
     "execution_count": 7,
     "metadata": {},
     "output_type": "execute_result"
    }
   ],
   "source": [
    "x*6"
   ]
  },
  {
   "cell_type": "code",
   "execution_count": 8,
   "metadata": {
    "collapsed": true
   },
   "outputs": [],
   "source": [
    "y = x"
   ]
  },
  {
   "cell_type": "code",
   "execution_count": 9,
   "metadata": {
    "collapsed": true
   },
   "outputs": [],
   "source": [
    "x = x*2"
   ]
  },
  {
   "cell_type": "code",
   "execution_count": 21,
   "metadata": {},
   "outputs": [
    {
     "name": "stdout",
     "output_type": "stream",
     "text": [
      "Energy 12*3.8^2/2 = 86.64  \n"
     ]
    }
   ],
   "source": [
    "m = 12\n",
    "v = 3.8\n",
    "\n",
    "E = 1/2*m*v**2\n",
    "print('Energy {}*{}^2/2 = {}  '.format(m, v, E))"
   ]
  },
  {
   "cell_type": "code",
   "execution_count": 26,
   "metadata": {},
   "outputs": [
    {
     "data": {
      "text/plain": [
       "12.513502532843182"
      ]
     },
     "execution_count": 26,
     "metadata": {},
     "output_type": "execute_result"
    }
   ],
   "source": [
    "import math\n",
    "\n",
    "math.sqrt(2)\n",
    "math.pow(3, 2.3)"
   ]
  },
  {
   "cell_type": "code",
   "execution_count": 30,
   "metadata": {
    "scrolled": true
   },
   "outputs": [
    {
     "name": "stdout",
     "output_type": "stream",
     "text": [
      "1 1.0\n",
      "2 1.4142135623730951\n",
      "3 1.7320508075688772\n",
      "4 2.0\n"
     ]
    }
   ],
   "source": [
    "print(1, math.sqrt(1))\n",
    "print(2, math.sqrt(2))\n",
    "print(3, math.sqrt(3))\n",
    "print(4, math.sqrt(4))"
   ]
  },
  {
   "cell_type": "markdown",
   "metadata": {},
   "source": [
    "Computes $y = \\sqrt{x}$"
   ]
  },
  {
   "cell_type": "code",
   "execution_count": 34,
   "metadata": {
    "scrolled": true
   },
   "outputs": [
    {
     "name": "stdout",
     "output_type": "stream",
     "text": [
      "1 1.0\n",
      "2 1.4142135623730951\n",
      "3 1.7320508075688772\n",
      "4 2.0\n",
      "5 2.23606797749979\n",
      "6 2.449489742783178\n",
      "7 2.6457513110645907\n",
      "8 2.8284271247461903\n",
      "9 3.0\n",
      "10 3.1622776601683795\n"
     ]
    }
   ],
   "source": [
    "# My comment\n",
    "for i in range(1,11):\n",
    "    print(i, math.sqrt(i))"
   ]
  },
  {
   "cell_type": "code",
   "execution_count": 1,
   "metadata": {
    "scrolled": true
   },
   "outputs": [
    {
     "name": "stdout",
     "output_type": "stream",
     "text": [
      "1 2 3 4 5 6 7 8 9 10 \n",
      "2 4 6 8 10 12 14 16 18 20 \n",
      "3 6 9 12 15 18 21 24 27 30 \n",
      "4 8 12 16 20 24 28 32 36 40 \n",
      "5 10 15 20 25 30 35 40 45 50 \n",
      "6 12 18 24 30 36 42 48 54 60 \n",
      "7 14 21 28 35 42 49 56 63 70 \n",
      "8 16 24 32 40 48 56 64 72 80 \n",
      "9 18 27 36 45 54 63 72 81 90 \n",
      "10 20 30 40 50 60 70 80 90 100 \n"
     ]
    }
   ],
   "source": [
    "for i in range(1,11):\n",
    "    for j in range(1,11):\n",
    "        print(i*j, end=' ')\n",
    "    print()"
   ]
  },
  {
   "cell_type": "code",
   "execution_count": 47,
   "metadata": {
    "scrolled": true
   },
   "outputs": [
    {
     "ename": "IndentationError",
     "evalue": "expected an indented block (<ipython-input-47-24e5a3a45e12>, line 2)",
     "output_type": "error",
     "traceback": [
      "\u001b[0;36m  File \u001b[0;32m\"<ipython-input-47-24e5a3a45e12>\"\u001b[0;36m, line \u001b[0;32m2\u001b[0m\n\u001b[0;31m    print(i/2, (i/2)**2, (i/2)**3, end=\"\")\u001b[0m\n\u001b[0m        ^\u001b[0m\n\u001b[0;31mIndentationError\u001b[0m\u001b[0;31m:\u001b[0m expected an indented block\n"
     ]
    }
   ],
   "source": [
    "for i in range(2,41):\n",
    "    print(i/2, (i/2)**2, (i/2)**3, end=\"\")\n",
    "\n",
    "    \n",
    "    \n"
   ]
  },
  {
   "cell_type": "code",
   "execution_count": 54,
   "metadata": {
    "scrolled": true
   },
   "outputs": [
    {
     "name": "stdout",
     "output_type": "stream",
     "text": [
      "1\n",
      "0 1 1\n",
      "1 1 2\n",
      "1 2 3\n"
     ]
    }
   ],
   "source": [
    "x_2 = 0\n",
    "x_1 = 1\n",
    "print(x_1, end=\"\\n\")\n",
    "for i in range(3):\n",
    "    y = x_1 + x_2\n",
    "    print(x_2, x_1, y, end=\"\\n\")\n",
    "    x_2 = x_1\n",
    "    x_1 = y\n"
   ]
  },
  {
   "cell_type": "code",
   "execution_count": 5,
   "metadata": {
    "scrolled": true
   },
   "outputs": [
    {
     "name": "stdout",
     "output_type": "stream",
     "text": [
      "0 100.0\n",
      "1 102.02013400267558\n",
      "2 104.08107741923882\n",
      "3 106.18365465453596\n",
      "4 108.32870676749586\n",
      "5 110.51709180756477\n",
      "6 112.74968515793758\n",
      "7 115.02737988572274\n",
      "8 117.35108709918103\n",
      "9 119.72173631218101\n",
      "10 122.14027581601698\n",
      "11 124.60767305873807\n",
      "12 127.12491503214048\n"
     ]
    }
   ],
   "source": [
    "import math\n",
    "\n",
    "r = 0.24\n",
    "T = 13\n",
    "S0 = 100\n",
    "for i in range(T):\n",
    "    print(i, S0*math.exp(r*i/12))\n",
    "\n",
    "    "
   ]
  },
  {
   "cell_type": "code",
   "execution_count": 8,
   "metadata": {
    "scrolled": true
   },
   "outputs": [
    {
     "data": {
      "image/png": "[encoded data removed]",
      "text/plain": [
       "<matplotlib.figure.Figure at 0x108f00898>"
      ]
     },
     "metadata": {},
     "output_type": "display_data"
    }
   ],
   "source": [
    "import matplotlib.pylab as plt\n",
    "\n",
    "r = 0.24\n",
    "T = 130\n",
    "S0 = 100\n",
    "S = [S0*math.exp(r*i/12) for i in range(T)]\n",
    "\n",
    "plt.plot(range(T), S, 'o-')\n",
    "plt.xlabel('month')\n",
    "plt.show()\n"
   ]
  },
  {
   "cell_type": "code",
   "execution_count": 12,
   "metadata": {
    "scrolled": true
   },
   "outputs": [
    {
     "data": {
      "image/png": "[encoded data removed]",
      "text/plain": [
       "<matplotlib.figure.Figure at 0x114137198>"
      ]
     },
     "metadata": {},
     "output_type": "display_data"
    }
   ],
   "source": [
    "plt.plot([1,2,5],'ro-')\n",
    "plt.show()"
   ]
  },
  {
   "cell_type": "code",
   "execution_count": 13,
   "metadata": {},
   "outputs": [
    {
     "data": {
      "text/plain": [
       "[0, 2, 4, 6, 8, 10]"
      ]
     },
     "execution_count": 13,
     "metadata": {},
     "output_type": "execute_result"
    }
   ],
   "source": [
    "[2*i for i in range(6)]"
   ]
  },
  {
   "cell_type": "code",
   "execution_count": 14,
   "metadata": {},
   "outputs": [
    {
     "data": {
      "text/plain": [
       "[0, 1, 16]"
      ]
     },
     "execution_count": 14,
     "metadata": {},
     "output_type": "execute_result"
    }
   ],
   "source": [
    "[i*i for i in [j*j for j in [0,1,2]]]"
   ]
  },
  {
   "cell_type": "code",
   "execution_count": 16,
   "metadata": {},
   "outputs": [
    {
     "data": {
      "text/plain": [
       "[[], [0], [0, 1], [0, 1, 2], [0, 1, 2, 3]]"
      ]
     },
     "execution_count": 16,
     "metadata": {},
     "output_type": "execute_result"
    }
   ],
   "source": [
    "[[j for j in range(i)] for i in range(5)]"
   ]
  },
  {
   "cell_type": "code",
   "execution_count": 17,
   "metadata": {
    "scrolled": false
   },
   "outputs": [
    {
     "data": {
      "text/plain": [
       "[[0, 0, 0],\n",
       " [1, 1, 1],\n",
       " [2, 4, 8],\n",
       " [3, 9, 27],\n",
       " [4, 16, 64],\n",
       " [5, 25, 125],\n",
       " [6, 36, 216],\n",
       " [7, 49, 343],\n",
       " [8, 64, 512],\n",
       " [9, 81, 729]]"
      ]
     },
     "execution_count": 17,
     "metadata": {},
     "output_type": "execute_result"
    }
   ],
   "source": [
    "[[j,j**2,j**3] for j in range(10)]"
   ]
  },
  {
   "cell_type": "markdown",
   "metadata": {},
   "source": [
    "$\\pi\\alpha \\frac{3}{\\eta}$"
   ]
  },
  {
   "cell_type": "code",
   "execution_count": 25,
   "metadata": {
    "scrolled": true
   },
   "outputs": [
    {
     "data": {
      "image/png": "[encoded data removed]",
      "text/plain": [
       "<matplotlib.figure.Figure at 0x114096668>"
      ]
     },
     "metadata": {},
     "output_type": "display_data"
    }
   ],
   "source": [
    "plt.rcParams['text.usetex'] = True\n",
    "plt.rcParams['text.latex.unicode'] = True\n",
    "\n",
    "TH = [th/360*2*math.pi  for th in range(-360,361)]\n",
    "s = [math.sin(th/360*2*math.pi)  for th in range(-360,361)]\n",
    "c = [math.cos(th/360*2*math.pi)  for th in range(-360,361)]\n",
    "\n",
    "plt.plot(TH, s, 'r')\n",
    "plt.plot(TH, c, 'b')\n",
    "plt.xticks([-2*math.pi, 0, 2*math.pi],[r'$2\\pi$','$0$','$2\\pi$'])\n",
    "plt.show()"
   ]
  },
  {
   "cell_type": "code",
   "execution_count": 38,
   "metadata": {
    "scrolled": true
   },
   "outputs": [
    {
     "data": {
      "text/plain": [
       "[-0.011807548202017385,\n",
       " -1.9461209461814122,\n",
       " -0.19915561901992593,\n",
       " 0.014018501616641324,\n",
       " -1.1135523666417193,\n",
       " 0.5650925003202028,\n",
       " -1.3649613232322169,\n",
       " -0.8578819286343073,\n",
       " 0.29608270427347755,\n",
       " -1.7431289548048878,\n",
       " 0.5740837571534304,\n",
       " 0.028971275503692513,\n",
       " -0.9214042180742472,\n",
       " 0.3803763882434338,\n",
       " -0.8432556874760836,\n",
       " -0.6556679673540551,\n",
       " -0.7452150931854018,\n",
       " -1.313188673536765,\n",
       " -1.007198536949276,\n",
       " -0.6784674760177831,\n",
       " 0.78621532098595,\n",
       " 0.4758270222516398,\n",
       " 0.9290871126086258,\n",
       " 0.406731610597391,\n",
       " -0.21300443992543538,\n",
       " -0.09268908348848165,\n",
       " -0.6136902203900447,\n",
       " -0.0249986371533532,\n",
       " 1.8254440925237343,\n",
       " -0.2708690970348345,\n",
       " -0.9937868918668932,\n",
       " -0.20974192447458403,\n",
       " -0.10361862030665692,\n",
       " 2.053606415294265,\n",
       " -0.7801719352143298,\n",
       " -2.5125096136471967,\n",
       " -1.3934962829375763,\n",
       " 0.1730272370835621,\n",
       " -0.5541528280663021,\n",
       " 0.8544210011930802,\n",
       " -0.5180083314765113,\n",
       " 0.8697357328782106,\n",
       " 1.4475802287813024,\n",
       " -0.7144457225790304,\n",
       " 1.0349380104762815,\n",
       " 0.8996132100094439,\n",
       " 0.32150879603723753,\n",
       " -0.15759991759080547,\n",
       " 0.05105606165886863,\n",
       " 1.035991435357906,\n",
       " -1.006061142215128,\n",
       " -0.12222671787454199,\n",
       " 0.26811817612022054,\n",
       " 0.3045796576148536,\n",
       " -0.5791198067024285,\n",
       " -0.8802961589120581,\n",
       " -0.31220601908548207,\n",
       " -0.3187368746642745,\n",
       " -0.47947629174766554,\n",
       " 0.17391059649362578,\n",
       " 0.7603939079135105,\n",
       " 1.1626530097837955,\n",
       " 1.3524290035612094,\n",
       " -0.5704790806832066,\n",
       " -1.952270750970555,\n",
       " -0.6967792895694571,\n",
       " 1.3490088168436438,\n",
       " -0.3359986029314487,\n",
       " 0.44787859748209424,\n",
       " 0.08457355078510183,\n",
       " 1.6032845072125474,\n",
       " 0.6484154527415774,\n",
       " 0.668075901743347,\n",
       " 0.22521644178701597,\n",
       " -0.6505745823612619,\n",
       " 0.09710022714363602,\n",
       " -0.866912919003709,\n",
       " -0.167808112972553,\n",
       " 0.38188780040363424,\n",
       " -0.5659157768975556,\n",
       " -1.2574278903881668,\n",
       " 0.8389978689387926,\n",
       " 0.03826191716348811,\n",
       " 0.20769534371865292,\n",
       " -1.0530318342990455,\n",
       " -0.4906013381964353,\n",
       " -1.60587441762734,\n",
       " 2.0072190764673277,\n",
       " 1.6546784864046558,\n",
       " 0.8024202875964558,\n",
       " 1.5323004575812509,\n",
       " -0.31416056823691424,\n",
       " 0.20175049023577982,\n",
       " 1.9006837950156665,\n",
       " -0.9152838267521616,\n",
       " 0.20982887457462102,\n",
       " -1.053114177700731,\n",
       " 0.11880205498438184,\n",
       " 0.17768251229484647,\n",
       " 0.08017383533250486]"
      ]
     },
     "execution_count": 38,
     "metadata": {},
     "output_type": "execute_result"
    }
   ],
   "source": [
    "import numpy as np\n",
    "\n",
    "[np.random.randn() for i in range(100)]"
   ]
  },
  {
   "cell_type": "code",
   "execution_count": 2,
   "metadata": {
    "scrolled": true
   },
   "outputs": [
    {
     "data": {
      "image/png": "[encoded data removed]",
      "text/plain": [
       "<matplotlib.figure.Figure at 0x106f27668>"
      ]
     },
     "metadata": {},
     "output_type": "display_data"
    }
   ],
   "source": [
    "import numpy as np\n",
    "import matplotlib.pylab as plt\n",
    "\n",
    "plt.plot(np.random.randn(100))\n",
    "plt.show()"
   ]
  },
  {
   "cell_type": "code",
   "execution_count": 5,
   "metadata": {
    "scrolled": true
   },
   "outputs": [
    {
     "data": {
      "image/png": "[encoded data removed]",
      "text/plain": [
       "<matplotlib.figure.Figure at 0x11a2610f0>"
      ]
     },
     "metadata": {},
     "output_type": "display_data"
    }
   ],
   "source": [
    "x = np.random.randn(10000)\n",
    "plt.hist(x, bins=200)\n",
    "plt.show()"
   ]
  },
  {
   "cell_type": "code",
   "execution_count": 8,
   "metadata": {},
   "outputs": [
    {
     "name": "stdout",
     "output_type": "stream",
     "text": [
      "5.25\n"
     ]
    }
   ],
   "source": [
    "x = [2,3,7,9]\n",
    "\n",
    "sum = 0.\n",
    "for i in range(len(x)):\n",
    "    sum+= x[i]\n",
    "\n",
    "print(sum/len(x))"
   ]
  },
  {
   "cell_type": "code",
   "execution_count": 1,
   "metadata": {},
   "outputs": [
    {
     "ename": "NameError",
     "evalue": "name 'x' is not defined",
     "output_type": "error",
     "traceback": [
      "\u001b[0;31m---------------------------------------------------------------------------\u001b[0m",
      "\u001b[0;31mNameError\u001b[0m                                 Traceback (most recent call last)",
      "\u001b[0;32m<ipython-input-1-414e5e2baaa8>\u001b[0m in \u001b[0;36m<module>\u001b[0;34m()\u001b[0m\n\u001b[1;32m      1\u001b[0m \u001b[0mSum\u001b[0m \u001b[0;34m=\u001b[0m \u001b[0;36m0.\u001b[0m\u001b[0;34m\u001b[0m\u001b[0m\n\u001b[0;32m----> 2\u001b[0;31m \u001b[0;32mfor\u001b[0m \u001b[0me\u001b[0m \u001b[0;32min\u001b[0m \u001b[0mx\u001b[0m\u001b[0;34m:\u001b[0m\u001b[0;34m\u001b[0m\u001b[0m\n\u001b[0m\u001b[1;32m      3\u001b[0m     \u001b[0mSum\u001b[0m\u001b[0;34m+=\u001b[0m \u001b[0me\u001b[0m\u001b[0;34m\u001b[0m\u001b[0m\n\u001b[1;32m      4\u001b[0m \u001b[0;34m\u001b[0m\u001b[0m\n\u001b[1;32m      5\u001b[0m \u001b[0mprint\u001b[0m\u001b[0;34m(\u001b[0m\u001b[0mSum\u001b[0m\u001b[0;34m/\u001b[0m\u001b[0mlen\u001b[0m\u001b[0;34m(\u001b[0m\u001b[0mx\u001b[0m\u001b[0;34m)\u001b[0m\u001b[0;34m)\u001b[0m\u001b[0;34m\u001b[0m\u001b[0m\n",
      "\u001b[0;31mNameError\u001b[0m: name 'x' is not defined"
     ]
    }
   ],
   "source": [
    "Sum = 0.\n",
    "for e in x:\n",
    "    Sum += e\n",
    "\n",
    "print(Sum/len(x))"
   ]
  },
  {
   "cell_type": "code",
   "execution_count": 10,
   "metadata": {
    "scrolled": true
   },
   "outputs": [
    {
     "data": {
      "image/png": "[encoded data removed]",
      "text/plain": [
       "<matplotlib.figure.Figure at 0x114f6a8d0>"
      ]
     },
     "metadata": {},
     "output_type": "display_data"
    }
   ],
   "source": [
    "sig = 0.5\n",
    "N = 100\n",
    "L = 10\n",
    "e = [sig*np.random.randn() for i in range(N)]\n",
    "\n",
    "x = [0]*N\n",
    "for i in range(N-1):\n",
    "    x[i+1] = x[i] + e[i]\n",
    "\n",
    "y = [0]*N\n",
    "\n",
    "for i in range(N):\n",
    "    y[i] = np.mean(x[max(i-L,0):(i+1)])\n",
    "    \n",
    "\n",
    "plt.plot(x)\n",
    "\n",
    "plt.plot(y, 'r')\n",
    "plt.show()"
   ]
  },
  {
   "cell_type": "markdown",
   "metadata": {},
   "source": [
    "Algorithmic trade"
   ]
  },
  {
   "cell_type": "code",
   "execution_count": 46,
   "metadata": {
    "scrolled": false
   },
   "outputs": [
    {
     "data": {
      "image/png": "[encoded data removed]",
      "text/plain": [
       "<matplotlib.figure.Figure at 0x1070b0a90>"
      ]
     },
     "metadata": {},
     "output_type": "display_data"
    }
   ],
   "source": [
    "%matplotlib inline\n",
    "\n",
    "plt.figure(figsize=(12,5))\n",
    "\n",
    "L = 30  # Moving average window\n",
    "N = 500 # Number of timesteps\n",
    "\n",
    "# Generate Gaussian noise\n",
    "e = np.random.randn(N)\n",
    "\n",
    "# Brownian walk\n",
    "y = np.zeros_like(e)\n",
    "\n",
    "y[0] = e[0]\n",
    "for t in range(1,N):\n",
    "    y[t] = y[t-1] + e[t]\n",
    "\n",
    "mav = np.zeros_like(e)\n",
    "\n",
    "for t in range(1,N):\n",
    "    idx0 = max(0, t-L)\n",
    "    mav[t] = np.sum(y[idx0:t])/L\n",
    "    \n",
    "    #print(len(y[idx0:t]))\n",
    "\n",
    "buy = []\n",
    "sell = []\n",
    "\n",
    "for t in range(1,N):\n",
    "    if y[t-1]<mav[t-1] and y[t]>mav[t]:\n",
    "        buy.append(t)\n",
    "    \n",
    "    if y[t-1]>mav[t-1] and y[t]<mav[t]:\n",
    "        sell.append(t)\n",
    "    \n",
    "\n",
    "plt.plot(y)\n",
    "plt.plot(mav)\n",
    "plt.plot(sell, mav[sell],'vr')\n",
    "plt.plot(buy,mav[buy], '^b')\n",
    "plt.show()\n"
   ]
  },
  {
   "cell_type": "code",
   "execution_count": 28,
   "metadata": {
    "scrolled": true
   },
   "outputs": [
    {
     "data": {
      "text/plain": [
       "array([ 0.69180989, -1.16526685, -0.79924475, -0.69122179, -1.57623787,\n",
       "       -0.77022945,  0.87183719])"
      ]
     },
     "execution_count": 28,
     "metadata": {},
     "output_type": "execute_result"
    }
   ],
   "source": [
    "e[1:8]"
   ]
  },
  {
   "cell_type": "code",
   "execution_count": 42,
   "metadata": {},
   "outputs": [
    {
     "data": {
      "text/plain": [
       "[5, 3, 1]"
      ]
     },
     "execution_count": 42,
     "metadata": {},
     "output_type": "execute_result"
    }
   ],
   "source": [
    "v = [0,1,2,3,4,5]\n",
    "\n",
    "v[-1:-6:-2]"
   ]
  },
  {
   "cell_type": "code",
   "execution_count": 112,
   "metadata": {},
   "outputs": [
    {
     "name": "stdout",
     "output_type": "stream",
     "text": [
      "0.04329\n"
     ]
    }
   ],
   "source": [
    "a = 5\n",
    "b = 6\n",
    "mu = 1\n",
    "sig = 3\n",
    "\n",
    "N = 100000\n",
    "\n",
    "z = mu + sig*np.random.randn(N)\n",
    "\n",
    "#plt.hist(z, bins=50)\n",
    "#plt.show()\n",
    "\n",
    "count = 0\n",
    "for i in range(N):\n",
    "    if z[i]>=a and z[i]<=b:\n",
    "        count+=1\n",
    "\n",
    "print(count/N)\n"
   ]
  }
 ],
 "metadata": {
  "kernelspec": {
   "display_name": "Python (py36)",
   "language": "python",
   "name": "py36"
  },
  "language_info": {
   "codemirror_mode": {
    "name": "ipython",
    "version": 3
   },
   "file_extension": ".py",
   "mimetype": "text/x-python",
   "name": "python",
   "nbconvert_exporter": "python",
   "pygments_lexer": "ipython3",
   "version": "3.6.1"
  },
  "toc": {
   "nav_menu": {},
   "number_sections": true,
   "sideBar": true,
   "skip_h1_title": false,
   "toc_cell": false,
   "toc_position": {},
   "toc_section_display": "block",
   "toc_window_display": false
  }
 },
 "nbformat": 4,
 "nbformat_minor": 2
}
