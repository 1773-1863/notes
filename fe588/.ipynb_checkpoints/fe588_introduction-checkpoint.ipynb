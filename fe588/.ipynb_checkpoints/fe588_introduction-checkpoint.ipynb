{
 "cells": [
  {
   "cell_type": "markdown",
   "metadata": {},
   "source": [
    "Installinf Python. \n",
    "\n",
    "jupyter --no-browser\n",
    "\n",
    "In the favorite browser, type\n",
    "http://localhost:8888 (or the port that is assigned)\n",
    "\n",
    "\n",
    "Basic usage of jupyter notebooks.\n",
    "- create a newdocument by clicking the New Notebook\n",
    "- start typing code in the shaded textbox\n",
    "- execute the code"
   ]
  },
  {
   "cell_type": "code",
   "execution_count": 14,
   "metadata": {
    "collapsed": false,
    "scrolled": true
   },
   "outputs": [
    {
     "name": "stdout",
     "output_type": "stream",
     "text": [
      "f(0.1) = -0.99\n"
     ]
    }
   ],
   "source": [
    "\n",
    "x = 0.1\n",
    "N = 3\n",
    "\n",
    "a = 1\n",
    "b = 0\n",
    "c = -1\n",
    "\n",
    "print('f(' + str(x) + ') = ' + str(a*x**2 + b*x + c))\n",
    "\n",
    "\n",
    "\n"
   ]
  },
  {
   "cell_type": "code",
   "execution_count": 16,
   "metadata": {
    "collapsed": false
   },
   "outputs": [
    {
     "name": "stdout",
     "output_type": "stream",
     "text": [
      "(1, 2, 3, 4)\n",
      "(2, 4, 6, 8)\n",
      "(3, 6, 9, 12)\n",
      "(4, 8, 12, 16)\n"
     ]
    }
   ],
   "source": [
    "a = 1\n",
    "b = 1\n",
    "print(a*b,a*(b+1),a*(b+2),a*(b+3))\n",
    "\n",
    "a = 2\n",
    "print(a*b,a*(b+1),a*(b+2),a*(b+3))\n",
    "      \n",
    "a = 3\n",
    "print(a*b,a*(b+1),a*(b+2),a*(b+3))\n",
    "      \n",
    "a = 4\n",
    "print(a*b,a*(b+1),a*(b+2),a*(b+3))\n",
    " "
   ]
  },
  {
   "cell_type": "markdown",
   "metadata": {
    "collapsed": true
   },
   "source": [
    "Fibionacci Series\n"
   ]
  },
  {
   "cell_type": "code",
   "execution_count": 6,
   "metadata": {
    "collapsed": false
   },
   "outputs": [],
   "source": [
    "N = 0\n",
    "\n",
    "a_1 = 1\n",
    "a_2 = 0\n",
    "\n",
    "x = 1\n",
    "if N>0:\n",
    "    print('x_' + str(0) + ' = ' + str(x) )\n",
    "\n",
    "    \n",
    "for i in range(1,N):\n",
    "    x = a_1 + a_2\n",
    "    print('x_' + str(i) + ' = ' + str(x) )\n",
    "    a_2 = a_1\n",
    "    a_1 = x\n",
    "    "
   ]
  },
  {
   "cell_type": "code",
   "execution_count": 6,
   "metadata": {
    "collapsed": false
   },
   "outputs": [
    {
     "name": "stdout",
     "output_type": "stream",
     "text": [
      "--------------------\n",
      "|  x |  3*x**2 + 2*x + 3 | \n",
      "--------------------\n",
      "|  -1.0 |  4.0 | \n",
      "--------------------\n",
      "|  -0.9 |  3.63 | \n",
      "--------------------\n",
      "|  -0.8 |  3.32 | \n",
      "--------------------\n",
      "|  -0.7 |  3.07 | \n",
      "--------------------\n",
      "|  -0.6 |  2.88 | \n",
      "--------------------\n",
      "|  -0.5 |  2.75 | \n",
      "--------------------\n",
      "|  -0.4 |  2.68 | \n",
      "--------------------\n",
      "|  -0.3 |  2.67 | \n",
      "--------------------\n",
      "|  -0.2 |  2.72 | \n",
      "--------------------\n",
      "|  -0.1 |  2.83 | \n",
      "--------------------\n",
      "|  0.0 |  3.0 | \n",
      "--------------------\n",
      "|  0.1 |  3.23 | \n",
      "--------------------\n",
      "|  0.2 |  3.52 | \n",
      "--------------------\n",
      "|  0.3 |  3.87 | \n",
      "--------------------\n",
      "|  0.4 |  4.28 | \n",
      "--------------------\n",
      "|  0.5 |  4.75 | \n",
      "--------------------\n",
      "|  0.6 |  5.28 | \n",
      "--------------------\n",
      "|  0.7 |  5.87 | \n",
      "--------------------\n",
      "|  0.8 |  6.52 | \n",
      "--------------------\n",
      "|  0.9 |  7.23 | \n",
      "--------------------\n",
      "|  1.0 |  8.0 | \n"
     ]
    }
   ],
   "source": [
    "l = -1\n",
    "r = 1\n",
    "delta = 0.1\n",
    "steps = (r-l)/delta+1\n",
    "\n",
    "print '-'*20\n",
    "print('| '),\n",
    "print('x'),\n",
    "print('| '),\n",
    "print('3*x**2 + 2*x + 3'),\n",
    "print('| ')\n",
    "\n",
    "for i in range(0,int(steps)):\n",
    "    x = l+i*delta\n",
    "    print '-'*20\n",
    "    print('| '),\n",
    "    print(x),\n",
    "    print('| '),\n",
    "    print(3*x**2 + 2*x + 3),\n",
    "    print('| ')\n"
   ]
  },
  {
   "cell_type": "code",
   "execution_count": 9,
   "metadata": {
    "collapsed": false,
    "scrolled": true
   },
   "outputs": [
    {
     "name": "stdout",
     "output_type": "stream",
     "text": [
      "-1.0 4.0\n",
      "-0.9 3.63\n",
      "-0.8 3.32\n",
      "-0.7 3.07\n",
      "-0.6 2.88\n",
      "-0.5 2.75\n",
      "-0.4 2.68\n",
      "-0.3 2.67\n",
      "-0.2 2.72\n",
      "-0.1 2.83\n",
      "0.0 3.0\n",
      "0.1 3.23\n",
      "0.2 3.52\n",
      "0.3 3.87\n",
      "0.4 4.28\n",
      "0.5 4.75\n",
      "0.6 5.28\n",
      "0.7 5.87\n",
      "0.8 6.52\n",
      "0.9 7.23\n"
     ]
    }
   ],
   "source": [
    "def f(x):\n",
    "    return 3*x**2 + 2*x + 3\n",
    "\n",
    "l = -1\n",
    "r = 1\n",
    "delta = 0.1\n",
    "\n",
    "steps = (r-l)/delta\n",
    "\n",
    "for i in range(0,int(steps)):\n",
    "    x = l+i*delta\n",
    "    print x,\n",
    "    print f(x)"
   ]
  },
  {
   "cell_type": "code",
   "execution_count": 7,
   "metadata": {
    "collapsed": false,
    "scrolled": true
   },
   "outputs": [
    {
     "name": "stdout",
     "output_type": "stream",
     "text": [
      "1 112.0\n",
      "2 125.44\n",
      "3 140.4928\n",
      "4 157.351936\n",
      "5 176.23416832\n",
      "6 197.382268518\n",
      "7 221.068140741\n",
      "8 247.596317629\n",
      "9 277.307875745\n"
     ]
    }
   ],
   "source": [
    "def f(r, T, S_0):\n",
    "    return S_0*(1+r)**T\n",
    "\n",
    "interest_rate = 0.12\n",
    "T = 10\n",
    "S_0 = 100\n",
    "\n",
    "l = 1\n",
    "r = T\n",
    "delta = 1\n",
    "\n",
    "steps = (r-l)/delta\n",
    "\n",
    "for i in range(0,int(steps)):\n",
    "    T = l+i*delta\n",
    "    print T,\n",
    "    print f(interest_rate, T, S_0)"
   ]
  },
  {
   "cell_type": "markdown",
   "metadata": {},
   "source": [
    "Arrays, lists"
   ]
  },
  {
   "cell_type": "code",
   "execution_count": 14,
   "metadata": {
    "collapsed": false
   },
   "outputs": [
    {
     "name": "stdout",
     "output_type": "stream",
     "text": [
      "Asli\n",
      "4\n"
     ]
    }
   ],
   "source": [
    "a = [1,2,5,7,5, 3.2, 7]\n",
    "names = ['Ali','Veli','Fatma','Asli']\n",
    "\n",
    "#for s in names:\n",
    "#    print(s)\n",
    "\n",
    "print(names[3])\n",
    "\n",
    "print(len(names))"
   ]
  },
  {
   "cell_type": "code",
   "execution_count": 18,
   "metadata": {
    "collapsed": false,
    "scrolled": true
   },
   "outputs": [
    {
     "name": "stdout",
     "output_type": "stream",
     "text": [
      "Asli\n",
      "Fatma\n",
      "Veli\n",
      "Ali\n"
     ]
    }
   ],
   "source": [
    "for i in range(len(names)-1,-1,-1):\n",
    "    print(names[i])\n",
    "    \n",
    "for i in range(len(names)):\n",
    "    print(names[len(names)-i])\n"
   ]
  },
  {
   "cell_type": "code",
   "execution_count": 20,
   "metadata": {
    "collapsed": false,
    "scrolled": true
   },
   "outputs": [
    {
     "name": "stdout",
     "output_type": "stream",
     "text": [
      "Asli\n",
      "Fatma\n",
      "Veli\n",
      "Ali\n"
     ]
    }
   ],
   "source": [
    "for n in reversed(names):\n",
    "    print(n)"
   ]
  },
  {
   "cell_type": "markdown",
   "metadata": {},
   "source": [
    "Average and standard deviation\n",
    "\n",
    "\n",
    "\n",
    "\n"
   ]
  },
  {
   "cell_type": "code",
   "execution_count": 21,
   "metadata": {
    "collapsed": true
   },
   "outputs": [],
   "source": [
    "x = [0.1,3,-2.1,5,12,3,17]\n",
    "\n",
    "s1 = 0.0\n",
    "s2 = 0.0\n",
    "\n",
    "for a in x:\n",
    "    s1 += a\n",
    "\n",
    "mean = s1/len(x)\n",
    "for a in x:\n",
    "    s2 += (a-mean)**2\n",
    "\n",
    "variance = s2/len(x)\n",
    "\n",
    "print('mean     = '),\n",
    "print(mean)\n",
    "print('variance = '),\n",
    "print(variance)\n"
   ]
  }
 ],
 "metadata": {
  "kernelspec": {
   "display_name": "Python 2",
   "language": "python",
   "name": "python2"
  },
  "language_info": {
   "codemirror_mode": {
    "name": "ipython",
    "version": 2
   },
   "file_extension": ".py",
   "mimetype": "text/x-python",
   "name": "python",
   "nbconvert_exporter": "python",
   "pygments_lexer": "ipython2",
   "version": "2.7.12"
  }
 },
 "nbformat": 4,
 "nbformat_minor": 0
}
