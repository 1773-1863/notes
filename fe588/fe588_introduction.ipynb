{
 "cells": [
  {
   "cell_type": "markdown",
   "metadata": {},
   "source": [
    "Installinf Python. \n",
    "\n",
    "jupyter --no-browser\n",
    "\n",
    "In the favorite browser, type\n",
    "http://localhost:8888 (or the port that is assigned)\n",
    "\n",
    "\n",
    "Basic usage of jupyter notebooks.\n",
    "- create a newdocument by clicking the New Notebook\n",
    "- start typing code in the shaded textbox\n",
    "- execute the code"
   ]
  },
  {
   "cell_type": "code",
   "execution_count": 14,
   "metadata": {
    "collapsed": false,
    "scrolled": true
   },
   "outputs": [
    {
     "name": "stdout",
     "output_type": "stream",
     "text": [
      "f(0.1) = -0.99\n"
     ]
    }
   ],
   "source": [
    "\n",
    "x = 0.1\n",
    "N = 3\n",
    "\n",
    "a = 1\n",
    "b = 0\n",
    "c = -1\n",
    "\n",
    "print('f(' + str(x) + ') = ' + str(a*x**2 + b*x + c))\n",
    "\n",
    "\n",
    "\n"
   ]
  },
  {
   "cell_type": "code",
   "execution_count": 16,
   "metadata": {
    "collapsed": false
   },
   "outputs": [
    {
     "name": "stdout",
     "output_type": "stream",
     "text": [
      "(1, 2, 3, 4)\n",
      "(2, 4, 6, 8)\n",
      "(3, 6, 9, 12)\n",
      "(4, 8, 12, 16)\n"
     ]
    }
   ],
   "source": [
    "a = 1\n",
    "b = 1\n",
    "print(a*b,a*(b+1),a*(b+2),a*(b+3))\n",
    "\n",
    "a = 2\n",
    "print(a*b,a*(b+1),a*(b+2),a*(b+3))\n",
    "      \n",
    "a = 3\n",
    "print(a*b,a*(b+1),a*(b+2),a*(b+3))\n",
    "      \n",
    "a = 4\n",
    "print(a*b,a*(b+1),a*(b+2),a*(b+3))\n",
    " "
   ]
  },
  {
   "cell_type": "markdown",
   "metadata": {
    "collapsed": true
   },
   "source": [
    "Fibionacci Series\n"
   ]
  },
  {
   "cell_type": "code",
   "execution_count": 6,
   "metadata": {
    "collapsed": false
   },
   "outputs": [],
   "source": [
    "N = 0\n",
    "\n",
    "a_1 = 1\n",
    "a_2 = 0\n",
    "\n",
    "x = 1\n",
    "if N>0:\n",
    "    print('x_' + str(0) + ' = ' + str(x) )\n",
    "\n",
    "    \n",
    "for i in range(1,N):\n",
    "    x = a_1 + a_2\n",
    "    print('x_' + str(i) + ' = ' + str(x) )\n",
    "    a_2 = a_1\n",
    "    a_1 = x\n",
    "    "
   ]
  },
  {
   "cell_type": "code",
   "execution_count": 6,
   "metadata": {
    "collapsed": false
   },
   "outputs": [
    {
     "name": "stdout",
     "output_type": "stream",
     "text": [
      "--------------------\n",
      "|  x |  3*x**2 + 2*x + 3 | \n",
      "--------------------\n",
      "|  -1.0 |  4.0 | \n",
      "--------------------\n",
      "|  -0.9 |  3.63 | \n",
      "--------------------\n",
      "|  -0.8 |  3.32 | \n",
      "--------------------\n",
      "|  -0.7 |  3.07 | \n",
      "--------------------\n",
      "|  -0.6 |  2.88 | \n",
      "--------------------\n",
      "|  -0.5 |  2.75 | \n",
      "--------------------\n",
      "|  -0.4 |  2.68 | \n",
      "--------------------\n",
      "|  -0.3 |  2.67 | \n",
      "--------------------\n",
      "|  -0.2 |  2.72 | \n",
      "--------------------\n",
      "|  -0.1 |  2.83 | \n",
      "--------------------\n",
      "|  0.0 |  3.0 | \n",
      "--------------------\n",
      "|  0.1 |  3.23 | \n",
      "--------------------\n",
      "|  0.2 |  3.52 | \n",
      "--------------------\n",
      "|  0.3 |  3.87 | \n",
      "--------------------\n",
      "|  0.4 |  4.28 | \n",
      "--------------------\n",
      "|  0.5 |  4.75 | \n",
      "--------------------\n",
      "|  0.6 |  5.28 | \n",
      "--------------------\n",
      "|  0.7 |  5.87 | \n",
      "--------------------\n",
      "|  0.8 |  6.52 | \n",
      "--------------------\n",
      "|  0.9 |  7.23 | \n",
      "--------------------\n",
      "|  1.0 |  8.0 | \n"
     ]
    }
   ],
   "source": [
    "l = -1\n",
    "r = 1\n",
    "delta = 0.1\n",
    "steps = (r-l)/delta+1\n",
    "\n",
    "print '-'*20\n",
    "print('| '),\n",
    "print('x'),\n",
    "print('| '),\n",
    "print('3*x**2 + 2*x + 3'),\n",
    "print('| ')\n",
    "\n",
    "for i in range(0,int(steps)):\n",
    "    x = l+i*delta\n",
    "    print '-'*20\n",
    "    print('| '),\n",
    "    print(x),\n",
    "    print('| '),\n",
    "    print(3*x**2 + 2*x + 3),\n",
    "    print('| ')\n"
   ]
  },
  {
   "cell_type": "code",
   "execution_count": 9,
   "metadata": {
    "collapsed": false,
    "scrolled": true
   },
   "outputs": [
    {
     "name": "stdout",
     "output_type": "stream",
     "text": [
      "-1.0 4.0\n",
      "-0.9 3.63\n",
      "-0.8 3.32\n",
      "-0.7 3.07\n",
      "-0.6 2.88\n",
      "-0.5 2.75\n",
      "-0.4 2.68\n",
      "-0.3 2.67\n",
      "-0.2 2.72\n",
      "-0.1 2.83\n",
      "0.0 3.0\n",
      "0.1 3.23\n",
      "0.2 3.52\n",
      "0.3 3.87\n",
      "0.4 4.28\n",
      "0.5 4.75\n",
      "0.6 5.28\n",
      "0.7 5.87\n",
      "0.8 6.52\n",
      "0.9 7.23\n"
     ]
    }
   ],
   "source": [
    "def f(x):\n",
    "    return 3*x**2 + 2*x + 3\n",
    "\n",
    "l = -1\n",
    "r = 1\n",
    "delta = 0.1\n",
    "\n",
    "steps = (r-l)/delta\n",
    "\n",
    "for i in range(0,int(steps)):\n",
    "    x = l+i*delta\n",
    "    print x,\n",
    "    print f(x)"
   ]
  },
  {
   "cell_type": "code",
   "execution_count": 7,
   "metadata": {
    "collapsed": false,
    "scrolled": true
   },
   "outputs": [
    {
     "name": "stdout",
     "output_type": "stream",
     "text": [
      "1 112.0\n",
      "2 125.44\n",
      "3 140.4928\n",
      "4 157.351936\n",
      "5 176.23416832\n",
      "6 197.382268518\n",
      "7 221.068140741\n",
      "8 247.596317629\n",
      "9 277.307875745\n"
     ]
    }
   ],
   "source": [
    "def f(r, T, S_0):\n",
    "    return S_0*(1+r)**T\n",
    "\n",
    "interest_rate = 0.12\n",
    "T = 10\n",
    "S_0 = 100\n",
    "\n",
    "l = 1\n",
    "r = T\n",
    "delta = 1\n",
    "\n",
    "steps = (r-l)/delta\n",
    "\n",
    "for i in range(0,int(steps)):\n",
    "    T = l+i*delta\n",
    "    print T,\n",
    "    print f(interest_rate, T, S_0)"
   ]
  },
  {
   "cell_type": "markdown",
   "metadata": {},
   "source": [
    "Arrays, lists"
   ]
  },
  {
   "cell_type": "code",
   "execution_count": 14,
   "metadata": {
    "collapsed": false
   },
   "outputs": [
    {
     "name": "stdout",
     "output_type": "stream",
     "text": [
      "Asli\n",
      "4\n"
     ]
    }
   ],
   "source": [
    "a = [1,2,5,7,5, 3.2, 7]\n",
    "names = ['Ali','Veli','Fatma','Asli']\n",
    "\n",
    "#for s in names:\n",
    "#    print(s)\n",
    "\n",
    "print(names[3])\n",
    "\n",
    "print(len(names))"
   ]
  },
  {
   "cell_type": "code",
   "execution_count": 18,
   "metadata": {
    "collapsed": false,
    "scrolled": true
   },
   "outputs": [
    {
     "name": "stdout",
     "output_type": "stream",
     "text": [
      "Asli\n",
      "Fatma\n",
      "Veli\n",
      "Ali\n"
     ]
    }
   ],
   "source": [
    "for i in range(len(names)-1,-1,-1):\n",
    "    print(names[i])\n",
    "    \n",
    "for i in range(len(names)):\n",
    "    print(names[len(names)-i])\n"
   ]
  },
  {
   "cell_type": "code",
   "execution_count": 20,
   "metadata": {
    "collapsed": false,
    "scrolled": true
   },
   "outputs": [
    {
     "name": "stdout",
     "output_type": "stream",
     "text": [
      "Asli\n",
      "Fatma\n",
      "Veli\n",
      "Ali\n"
     ]
    }
   ],
   "source": [
    "for n in reversed(names):\n",
    "    print(n)"
   ]
  },
  {
   "cell_type": "markdown",
   "metadata": {},
   "source": [
    "Average and standard deviation\n"
   ]
  },
  {
   "cell_type": "code",
   "execution_count": 25,
   "metadata": {
    "collapsed": false,
    "scrolled": true
   },
   "outputs": [
    {
     "name": "stdout",
     "output_type": "stream",
     "text": [
      "mean     =  0.0\n",
      "variance =  0.666666666667\n"
     ]
    }
   ],
   "source": [
    "#x = [0.1,3,-2.1,5,12,3,17]\n",
    "x = [1,-1,0]\n",
    "\n",
    "s1 = 0.0\n",
    "for a in x:\n",
    "    s1 += a\n",
    "\n",
    "mean = s1/len(x)\n",
    "\n",
    "s2 = 0.0\n",
    "for a in x:\n",
    "    s2 += (a-mean)**2\n",
    "\n",
    "variance = s2/len(x)\n",
    "\n",
    "print('mean     = '),\n",
    "print(mean)\n",
    "print('variance = '),\n",
    "print(variance)\n"
   ]
  },
  {
   "cell_type": "markdown",
   "metadata": {},
   "source": [
    "Find the minimum in an array"
   ]
  },
  {
   "cell_type": "code",
   "execution_count": 27,
   "metadata": {
    "collapsed": false,
    "scrolled": true
   },
   "outputs": [
    {
     "name": "stdout",
     "output_type": "stream",
     "text": [
      "-4\n"
     ]
    }
   ],
   "source": [
    "a = [2,5,1.2, 0,-4, 3]\n",
    "mn = a[0]\n",
    "\n",
    "for i in range(1,len(a)):\n",
    "    if a[i]<mn:\n",
    "        mn = a[i]\n",
    "\n",
    "print(mn)"
   ]
  },
  {
   "cell_type": "code",
   "execution_count": 28,
   "metadata": {
    "collapsed": true
   },
   "outputs": [],
   "source": [
    "a.sort()"
   ]
  },
  {
   "cell_type": "code",
   "execution_count": 30,
   "metadata": {
    "collapsed": false
   },
   "outputs": [],
   "source": [
    "a.append(-7)"
   ]
  },
  {
   "cell_type": "code",
   "execution_count": 32,
   "metadata": {
    "collapsed": false
   },
   "outputs": [],
   "source": [
    "v = a.pop()"
   ]
  },
  {
   "cell_type": "code",
   "execution_count": 35,
   "metadata": {
    "collapsed": false
   },
   "outputs": [],
   "source": [
    "a.reverse()"
   ]
  },
  {
   "cell_type": "code",
   "execution_count": 37,
   "metadata": {
    "collapsed": false
   },
   "outputs": [],
   "source": [
    "v = a.pop(0)"
   ]
  },
  {
   "cell_type": "code",
   "execution_count": 39,
   "metadata": {
    "collapsed": false
   },
   "outputs": [
    {
     "data": {
      "text/plain": [
       "[3, 2, 1.2, 0, -4]"
      ]
     },
     "execution_count": 39,
     "metadata": {},
     "output_type": "execute_result"
    }
   ],
   "source": [
    "a.sort"
   ]
  },
  {
   "cell_type": "code",
   "execution_count": 40,
   "metadata": {
    "collapsed": true
   },
   "outputs": [],
   "source": [
    "a = 5"
   ]
  },
  {
   "cell_type": "code",
   "execution_count": null,
   "metadata": {
    "collapsed": true
   },
   "outputs": [],
   "source": [
    "a.bit_length"
   ]
  },
  {
   "cell_type": "markdown",
   "metadata": {},
   "source": [
    "Homework: Value counts given an array of integers"
   ]
  },
  {
   "cell_type": "code",
   "execution_count": 47,
   "metadata": {
    "collapsed": false,
    "scrolled": false
   },
   "outputs": [
    {
     "name": "stdout",
     "output_type": "stream",
     "text": [
      "[5, 3, 1, 6, 2]\n",
      "(5, 1)\n",
      "(3, 2)\n",
      "(1, 2)\n",
      "(6, 1)\n",
      "(2, 1)\n"
     ]
    }
   ],
   "source": [
    "a = [5, 3, 1, 1, 6, 3, 2]\n",
    "\n",
    "ua = []\n",
    "\n",
    "for j in a:\n",
    "    found = False\n",
    "    for i in ua:\n",
    "        if j==i:\n",
    "            found = True;\n",
    "            break;\n",
    "    if not found:\n",
    "        ua.append(j)\n",
    "        \n",
    "print(ua)            \n",
    "            \n",
    "\n",
    "for i in ua:\n",
    "    s = 0\n",
    "    for j in a:\n",
    "        if i==j:\n",
    "            s = s+1\n",
    "\n",
    "    print(i, s)\n",
    "\n",
    "\n",
    "\n",
    "\n"
   ]
  },
  {
   "cell_type": "code",
   "execution_count": 49,
   "metadata": {
    "collapsed": false
   },
   "outputs": [
    {
     "name": "stdout",
     "output_type": "stream",
     "text": [
      "[0, 5, 8, 9, 10, 16, 19, 21]\n"
     ]
    }
   ],
   "source": [
    "a = [5, 3, 1, 1, 6, 3, 2]\n",
    "\n",
    "ca = []\n",
    "sum = 0\n",
    "\n",
    "for j in a:\n",
    "    ca.append(sum)\n",
    "    sum += j\n",
    "\n",
    "ca.append(sum)\n",
    "\n",
    "print(ca)\n",
    "#ca = [0, 5, 8, 9, 10, 16, 19, 21]\n"
   ]
  },
  {
   "cell_type": "code",
   "execution_count": 50,
   "metadata": {
    "collapsed": false,
    "scrolled": true
   },
   "outputs": [
    {
     "data": {
      "text/plain": [
       "[3, 6, 7, 2, 2, 7, 6, 3]"
      ]
     },
     "execution_count": 50,
     "metadata": {},
     "output_type": "execute_result"
    }
   ],
   "source": [
    "a = [3, 6, 7, 2]\n",
    "\n",
    "#oa = [3, 6, 7, 2, 2, 7, 6, 3]\n",
    "\n",
    "oa = a\n",
    "for i in reversed(a):\n",
    "    oa.append(i)\n",
    "\n",
    "oa\n",
    "\n",
    "oa = a\n",
    "for i in range()\n"
   ]
  },
  {
   "cell_type": "code",
   "execution_count": 66,
   "metadata": {
    "collapsed": false,
    "scrolled": true
   },
   "outputs": [
    {
     "name": "stdout",
     "output_type": "stream",
     "text": [
      "[3, 4, 6]\n"
     ]
    },
    {
     "data": {
      "text/plain": [
       "[3, 4, 6, 6, 4, 3]"
      ]
     },
     "execution_count": 66,
     "metadata": {},
     "output_type": "execute_result"
    }
   ],
   "source": [
    "a = [3, 4, 6]\n",
    "\n",
    "oa = list(a)\n",
    "oa = a\n",
    "\n",
    "print(a)\n",
    "\n",
    "for i in range(1,len(a)+1):\n",
    "#    print(a[-i])\n",
    "    oa.append(a[-i]) \n",
    "    \n",
    "oa"
   ]
  },
  {
   "cell_type": "code",
   "execution_count": 69,
   "metadata": {
    "collapsed": false
   },
   "outputs": [
    {
     "data": {
      "text/plain": [
       "[3, 4, 6, 6, 4, 3]"
      ]
     },
     "execution_count": 69,
     "metadata": {},
     "output_type": "execute_result"
    }
   ],
   "source": [
    "a+list(reversed(a))"
   ]
  },
  {
   "cell_type": "code",
   "execution_count": 88,
   "metadata": {
    "collapsed": false
   },
   "outputs": [
    {
     "name": "stdout",
     "output_type": "stream",
     "text": [
      "[True, True, False, False, True, True, False, True, False]\n",
      "[False, False, True, True, False, False, True, False, False]\n"
     ]
    }
   ],
   "source": [
    "a0 = 0\n",
    "a = [2, 6, 3, 1, 4, 8, 3, 5, 5]\n",
    "\n",
    "prev = a0\n",
    "\n",
    "Inc = []\n",
    "Dec = []\n",
    "for i in a:\n",
    "    Inc.append(i>prev)\n",
    "    Dec.append(i<prev)\n",
    "    prev = i\n",
    "\n",
    "print(Inc)\n",
    "print(Dec)\n",
    "\n",
    "#Inc = [True, True, False, False, True, True, False, True, False]\n",
    "#Dec = [False, False, True, True,False, False, True, False, False]\n",
    "\n",
    "\n"
   ]
  },
  {
   "cell_type": "markdown",
   "metadata": {},
   "source": [
    "Generate random walk in an array"
   ]
  },
  {
   "cell_type": "code",
   "execution_count": 100,
   "metadata": {
    "collapsed": false
   },
   "outputs": [
    {
     "name": "stdout",
     "output_type": "stream",
     "text": [
      "[0, 0.07173293905450501, -0.3652340160453349, -0.07610430577230803, -1.4172015782500376, -0.31469586619290335, -1.4458834127459201, -0.7189045208807692, 0.9895551731951309, 0.1012103597338051, -1.0353093339238497]\n"
     ]
    },
    {
     "data": {
      "text/plain": [
       "11"
      ]
     },
     "execution_count": 100,
     "metadata": {},
     "output_type": "execute_result"
    }
   ],
   "source": [
    "import random\n",
    "\n",
    "N = 10\n",
    "mu = 0\n",
    "sig = 1\n",
    "\n",
    "x = 0\n",
    "a = [x]\n",
    "for i in range(N):\n",
    "    w = random.gauss(mu, sig)\n",
    "    x = x + w\n",
    "    a.append(x)\n",
    "\n",
    "print(a)\n",
    "len(a)"
   ]
  },
  {
   "cell_type": "markdown",
   "metadata": {},
   "source": [
    "List Comprehension"
   ]
  },
  {
   "cell_type": "code",
   "execution_count": 114,
   "metadata": {
    "collapsed": false,
    "scrolled": false
   },
   "outputs": [],
   "source": [
    "\n",
    "\n",
    "N = 100\n",
    "mu = 0\n",
    "sig = 1\n",
    "\n",
    "a = [random.gauss(mu, sig) for i in range(N)]\n",
    "\n",
    "\n",
    "for i in range(len(a)-1):\n",
    "    a[i+1] = a[i] + a[i+1]"
   ]
  },
  {
   "cell_type": "code",
   "execution_count": 115,
   "metadata": {
    "collapsed": false,
    "scrolled": true
   },
   "outputs": [
    {
     "data": {
      "image/png": "[encoded data removed]",
      "text/plain": [
       "<matplotlib.figure.Figure at 0x10f51cb50>"
      ]
     },
     "metadata": {},
     "output_type": "display_data"
    }
   ],
   "source": [
    "%matplotlib inline\n",
    "import matplotlib.pylab as plt\n",
    "\n",
    "plt.plot(a)\n",
    "plt.show()"
   ]
  },
  {
   "cell_type": "markdown",
   "metadata": {},
   "source": [
    "Moving Average"
   ]
  },
  {
   "cell_type": "code",
   "execution_count": 118,
   "metadata": {
    "collapsed": false
   },
   "outputs": [
    {
     "data": {
      "image/png": "[encoded data removed]",
      "text/plain": [
       "<matplotlib.figure.Figure at 0x10eec8550>"
      ]
     },
     "metadata": {},
     "output_type": "display_data"
    }
   ],
   "source": [
    "# Window Lenght\n",
    "W = 20\n",
    "\n",
    "y = []\n",
    "for i in range(len(a)):\n",
    "    s = 0\n",
    "    n = 0\n",
    "    for j in range(W):\n",
    "        if i-j < 0:\n",
    "            break;\n",
    "        \n",
    "        s = s + a[i-j]\n",
    "        n = n + 1\n",
    "    y.append(s/n)\n",
    "\n",
    "plt.plot(a)\n",
    "plt.plot(y)\n",
    "plt.show()\n"
   ]
  },
  {
   "cell_type": "code",
   "execution_count": 104,
   "metadata": {
    "collapsed": false
   },
   "outputs": [
    {
     "data": {
      "text/plain": [
       "[0, 1, 4, 9, 16, 25, 36, 49, 64, 81]"
      ]
     },
     "execution_count": 104,
     "metadata": {},
     "output_type": "execute_result"
    }
   ],
   "source": [
    "a = [i**2 for i in range(10)]\n",
    "a"
   ]
  },
  {
   "cell_type": "code",
   "execution_count": 73,
   "metadata": {
    "collapsed": false
   },
   "outputs": [
    {
     "name": "stdout",
     "output_type": "stream",
     "text": [
      "Enter Price 12\n",
      "Enter Capital 34\n",
      "Number of Items\n",
      "2.83333333333\n"
     ]
    }
   ],
   "source": [
    "p = raw_input('Enter Price ')\n",
    "C = raw_input('Enter Capital ')\n",
    "print 'Number of Items'\n",
    "print float(C)/int(p)"
   ]
  }
 ],
 "metadata": {
  "kernelspec": {
   "display_name": "Python 2",
   "language": "python",
   "name": "python2"
  },
  "language_info": {
   "codemirror_mode": {
    "name": "ipython",
    "version": 2
   },
   "file_extension": ".py",
   "mimetype": "text/x-python",
   "name": "python",
   "nbconvert_exporter": "python",
   "pygments_lexer": "ipython2",
   "version": "2.7.12"
  }
 },
 "nbformat": 4,
 "nbformat_minor": 0
}
