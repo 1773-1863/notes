{
 "cells": [
  {
   "cell_type": "code",
   "execution_count": 1,
   "metadata": {
    "collapsed": false,
    "scrolled": true
   },
   "outputs": [
    {
     "data": {
      "image/png": "[encoded data removed]",
      "text/plain": [
       "<matplotlib.figure.Figure at 0x106340810>"
      ]
     },
     "metadata": {},
     "output_type": "display_data"
    }
   ],
   "source": [
    "%matplotlib inline\n",
    "import numpy as np\n",
    "import matplotlib as mpl\n",
    "\n",
    "import matplotlib.pyplot as plt\n",
    "\n",
    "\n",
    "\n",
    "A = np.mat('[1, 2; 3, 4; 5 0; -1, -5; -1 1; -1 0; 0.1 1]')\n",
    "b = np.mat('[1;2;1; 0; 2; 1.35; 0.8]')\n",
    "#print(A)\n",
    "\n",
    "def oracle(x, A, b):\n",
    "    y = A*x - b\n",
    "    return np.all(y <= 0)\n",
    "\n",
    "def binsearch(x, d, A, b):\n",
    "    t = d\n",
    "    while oracle(x+t, A, b):\n",
    "        t = 2*t    \n",
    "    l = x\n",
    "    r = x+t \n",
    "    for i in range(20):\n",
    "        m = (l+r)/2\n",
    "        if oracle(m, A, b):\n",
    "            l = m\n",
    "        else:\n",
    "            r = m   \n",
    "    return m\n",
    "\n",
    "for i in range(1000):\n",
    "    x0 = np.random.randn(2,1)\n",
    "    if oracle(x0, A, b):\n",
    "        break\n",
    "\n",
    "#print(y.T)\n",
    "#plt.plot(x[0], x[1] ,'.')\n",
    "x = x0\n",
    "plt.figure(figsize=(5,5))\n",
    "plt.gca().set_xlim((-1.5,0.3))\n",
    "plt.gca().set_ylim((-0.2,1))\n",
    "for i in range(500):\n",
    "    d = np.random.randn(2,1)\n",
    "    d = d/np.linalg.norm(d)\n",
    "    \n",
    "    left = binsearch(x, d, A, b)\n",
    "    right = binsearch(x, -d, A, b)\n",
    "    \n",
    "    lam = np.random.rand(1,1)\n",
    "    x = (lam*left+(1-lam)*right)\n",
    "    # plt.plot([x[0],y[0]],[x[1],y[1]])\n",
    "    plt.plot(x[0],x[1],'.')\n"
   ]
  },
  {
   "cell_type": "markdown",
   "metadata": {},
   "source": [
    "Sample from $\\exp(-\\frac{1}{T} c^\\top x)$\n",
    "\n",
    "where $x = \\lambda x_0 + (1-\\lambda) x_1$\n",
    "\n",
    "$c_0 = c^\\top x_0$ and $c_1 = c^\\top x_1$\n",
    "\n",
    "$\\exp(-\\frac{1}{T} ( \\lambda (c_0-c_1) + c_1)) \\propto \\exp(-\\frac{\\lambda}{T}  (c_0-c_1)) $\n",
    "\n",
    "\\begin{eqnarray}\n",
    "\\int \\exp(-\\frac{(c_0-c_1)}{T} \\tau  ) d \\tau & = &  -\\frac{T}{(c_0-c_1)} \\exp(-\\frac{(c_0-c_1)}{T} \\tau  ) |_{0}^\\lambda \\\\\n",
    "& = &  -\\frac{T}{(c_0-c_1)} (1-\\exp(-\\frac{(c_0-c_1)}{T} \\lambda) )  \\\\\n",
    "Z & = & \\frac{1}{\\beta} (\\exp(-\\beta)-1)\n",
    "\\end{eqnarray}\n",
    "\\begin{eqnarray}\n",
    "u & = & \\frac{1}{Z \\beta} (\\exp(-\\beta \\lambda) -1 ) \n",
    "\\end{eqnarray}\n",
    "\n",
    "\n",
    "draw $u \\sim \\mathcal{U}[0, 1] $\n",
    "\n",
    "Compute\n",
    "\n",
    "$$\n",
    "-\\frac{1}{\\beta} \\log(Z \\beta u + 1) =   \\lambda  \n",
    "$$\n",
    "\n",
    "$$\n",
    "-\\frac{1}{\\beta} \\log(exp(-\\beta)u - u + 1) =   \\lambda  \n",
    "$$\n"
   ]
  },
  {
   "cell_type": "code",
   "execution_count": null,
   "metadata": {
    "collapsed": true
   },
   "outputs": [],
   "source": [
    "c0 = 1000\n",
    "c1 = 1000\n",
    "T = 0.001;\n",
    "\n",
    "def draw_lambda(c0, c1, T):\n",
    "    beta = (c0-c1)/T\n",
    "    if beta== 0:\n",
    "        return np.random.rand(1)\n",
    "    else:\n",
    "        u = np.random.rand(1)\n",
    "        r = np.max([np.log(1-u),-beta+np.log(u)])\n",
    "        lam = -1.0/beta * (r + np.log(np.exp(-beta + np.log(u) - r) + np.exp(np.log(1-u)-r)))\n",
    "        return lam\n",
    "        \n",
    "\n",
    "        "
   ]
  },
  {
   "cell_type": "code",
   "execution_count": null,
   "metadata": {
    "collapsed": false,
    "scrolled": false
   },
   "outputs": [],
   "source": [
    "%matplotlib inline\n",
    "import time\n",
    "import pylab as plt\n",
    "from IPython import display\n",
    "\n",
    "x = x0\n",
    "x = np.mat('[-0.5;0.4]')\n",
    "#c = np.mat('[-1;-0.5]')\n",
    "c = np.mat('[0;0]')\n",
    "T = 0.1\n",
    "\n",
    "fig = plt.figure(figsize=(5,5))\n",
    "plt.gca().set_xlim((-1.5,0.3))\n",
    "plt.gca().set_ylim((-0.2,1))\n",
    "ax = fig.gca()\n",
    "ln = plt.Line2D(xdata=(x0[0], x0[0]), ydata=(x0[1], x0[1]), marker='o', linestyle='-',linewidth=1)\n",
    "ax.add_line(ln)\n",
    "\n",
    "for i in range(500):\n",
    "    d = np.random.randn(2,1)\n",
    "    d = d/np.linalg.norm(d)\n",
    "    \n",
    "    left  = binsearch(x, d, A, b)\n",
    "    right = binsearch(x,-d, A, b)\n",
    "    \n",
    "    ln.set_xdata((left[0],right[0]))\n",
    "    ln.set_ydata((left[1],right[1]))\n",
    "    \n",
    "    c0 = c.T*left\n",
    "    c1 = c.T*right\n",
    "    \n",
    "    lam = draw_lambda(c0, c1, T=1/(i+1))\n",
    "    #x = (lam[0,0]*left+(1-lam[0,0])*right)\n",
    "    x = (lam[0]*left+(1-lam[0])*right)\n",
    "    # plt.plot([x[0],y[0]],[x[1],y[1]])\n",
    "\n",
    "    display.clear_output(wait=True)\n",
    "    display.display(plt.gcf())\n",
    "    time.sleep(0.05)\n",
    "    plt.plot(x[0],x[1],'bo', alpha=0.5, markersize=5)"
   ]
  },
  {
   "cell_type": "code",
   "execution_count": null,
   "metadata": {
    "collapsed": false
   },
   "outputs": [],
   "source": [
    "%matplotlib inline\n",
    "import time\n",
    "import pylab as plt\n",
    "from IPython import display\n",
    "\n",
    "x = x0\n",
    "x = np.mat('[-0.5;0.4]')\n",
    "#c = np.mat('[-1;-0.5]')\n",
    "c = np.mat('[0;0]')\n",
    "T = 0.1\n",
    "\n",
    "fig = plt.figure(figsize=(5,5))\n",
    "plt.gca().set_xlim((-1.5,0.3))\n",
    "plt.gca().set_ylim((-0.2,1))\n",
    "ax = fig.gca()\n",
    "ln = plt.Line2D(xdata=(x0[0], x0[0]), ydata=(x0[1], x0[1]), marker='o', linestyle='-',linewidth=1)\n",
    "ax.add_line(ln)\n",
    "\n",
    "for i in range(500):\n",
    "    d = np.random.randn(2,1)\n",
    "    d = d/np.linalg.norm(d)\n",
    "    \n",
    "    left  = binsearch(x, d, A, b)\n",
    "    right = binsearch(x,-d, A, b)\n",
    "    \n",
    "#    ln.set_xdata((left[0],right[0]))\n",
    "#    ln.set_ydata((left[1],right[1]))\n",
    "    \n",
    "    c0 = c.T*left\n",
    "    c1 = c.T*right\n",
    "    \n",
    "    lam = draw_lambda(c0, c1, T=1/(i+1))\n",
    "    #x = (lam[0,0]*left+(1-lam[0,0])*right)\n",
    "    xx = (lam[0]*left+(1-lam[0])*right)\n",
    "    # plt.plot([x[0],y[0]],[x[1],y[1]])\n",
    "\n",
    "    display.clear_output(wait=True)\n",
    "    display.display(plt.gcf())\n",
    "    time.sleep(0.05)\n",
    "#    plt.plot(xx[0],xx[1],'bo', alpha=0.5, markersize=5)   \n",
    "    plt.plot(np.hstack((left[0],right[0])), np.hstack((left[1],right[1])) , '-', alpha=0.5)"
   ]
  },
  {
   "cell_type": "code",
   "execution_count": null,
   "metadata": {
    "collapsed": false
   },
   "outputs": [],
   "source": [
    "np.hstack((left[0],right[0]))"
   ]
  },
  {
   "cell_type": "code",
   "execution_count": null,
   "metadata": {
    "collapsed": false,
    "scrolled": true
   },
   "outputs": [],
   "source": [
    "%matplotlib inline\n",
    "fig = plt.figure(figsize=(5,5))\n",
    "plt.gca().set_xlim((-1,1))\n",
    "plt.gca().set_ylim((-1,1))\n",
    "ax = fig.gca()\n",
    "theta = np.pi/128\n",
    "T = np.mat([[np.cos(theta), np.sin(theta)],[-np.sin(theta), np.cos(theta)]])\n",
    "\n",
    "r = np.mat('[1, -1;0, 0]')\n",
    "\n",
    "ln = plt.Line2D(xdata=r[0,:], ydata=r[1,:], marker='o', linestyle='-',linewidth=1)\n",
    "ax.add_line(ln)\n",
    "\n",
    "for i in range(20):\n",
    "    ln.set_xdata(r[0,:])\n",
    "    ln.set_ydata(r[1,:])\n",
    "    #plt.plot()\n",
    "    \n",
    "    r = T*r\n",
    "    \n",
    "    display.clear_output(wait=True)\n",
    "    display.display(plt.gcf())\n",
    "    time.sleep(0.1)\n",
    "    #plt.show()"
   ]
  },
  {
   "cell_type": "code",
   "execution_count": null,
   "metadata": {
    "collapsed": false
   },
   "outputs": [],
   "source": [
    "a = np.mat('[1,2]')\n",
    "b = np.mat('[1;2]')\n",
    "\n",
    "print(a*b)\n",
    "\n",
    "a = np.array(a)\n",
    "b = np.array(b)\n",
    "\n",
    "a+b\n",
    "a*b"
   ]
  }
 ],
 "metadata": {
  "kernelspec": {
   "display_name": "Python 3",
   "language": "python",
   "name": "python3"
  },
  "language_info": {
   "codemirror_mode": {
    "name": "ipython",
    "version": 3
   },
   "file_extension": ".py",
   "mimetype": "text/x-python",
   "name": "python",
   "nbconvert_exporter": "python",
   "pygments_lexer": "ipython3",
   "version": "3.3.5"
  }
 },
 "nbformat": 4,
 "nbformat_minor": 0
}
