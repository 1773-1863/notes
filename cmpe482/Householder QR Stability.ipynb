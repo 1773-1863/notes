{
 "cells": [
  {
   "cell_type": "code",
   "execution_count": 3,
   "metadata": {
    "collapsed": false,
    "scrolled": false
   },
   "outputs": [
    {
     "name": "stdout",
     "output_type": "stream",
     "text": [
      "N =  50\r\n"
     ]
    }
   ],
   "source": [
    "N = 50\n",
    "\n",
    "R = triu(randn(N));\n",
    "\n",
    "[Q, X] = qr(randn(N));\n",
    "\n",
    "A = Q*R;\n",
    "\n",
    "[Q2, R2] = qr(A);\n",
    "\n",
    "A2 = Q2*R2;\n",
    "\n",
    "[Q3, R3] = qr(A2);"
   ]
  },
  {
   "cell_type": "code",
   "execution_count": 4,
   "metadata": {
    "collapsed": false,
    "scrolled": true
   },
   "outputs": [
    {
     "name": "stdout",
     "output_type": "stream",
     "text": [
      "ans =  0.55169\n",
      "ans =  1.9999\n",
      "ans =    7.5513e-16\n",
      " 0.55876\n"
     ]
    }
   ],
   "source": [
    "norm(R2-R)/norm(R)\n",
    "norm(Q2-Q)/norm(Q)\n",
    "\n",
    "norm(A-Q2*R2)/norm(A)\n",
    "\n",
    "disp(norm(R3-R2)/norm(R2))\n",
    "\n"
   ]
  },
  {
   "cell_type": "code",
   "execution_count": 7,
   "metadata": {
    "collapsed": false
   },
   "outputs": [
    {
     "name": "stdout",
     "output_type": "stream",
     "text": [
      "'norm' is a built-in function from the file libinterp/corefcn/data.cc\n",
      "\n",
      " -- Built-in Function:  norm (A)\n",
      " -- Built-in Function:  norm (A, P)\n",
      " -- Built-in Function:  norm (A, P, OPT)\n",
      "     Compute the p-norm of the matrix A.\n",
      "\n",
      "     If the second argument is missing, `p = 2' is assumed.\n",
      "\n",
      "     If A is a matrix (or sparse matrix):\n",
      "\n",
      "    P = `1'\n",
      "          1-norm, the largest column sum of the absolute values of A.\n",
      "\n",
      "    P = `2'\n",
      "          Largest singular value of A.\n",
      "\n",
      "    P = `Inf' or \"inf\"\n",
      "          Infinity norm, the largest row sum of the absolute values of\n",
      "          A.\n",
      "\n",
      "    P = \"fro\"\n",
      "          Frobenius norm of A, `sqrt (sum (diag (A' * A)))'.\n",
      "\n",
      "    other P, `P > 1'\n",
      "          maximum `norm (A*x, p)' such that `norm (x, p) == 1'\n",
      "\n",
      "     If A is a vector or a scalar:\n",
      "\n",
      "    P = `Inf' or \"inf\"\n",
      "          `max (abs (A))'.\n",
      "\n",
      "    P = `-Inf'\n",
      "          `min (abs (A))'.\n",
      "\n",
      "    P = \"fro\"\n",
      "          Frobenius norm of A, `sqrt (sumsq (abs (A)))'.\n",
      "\n",
      "    P = 0\n",
      "          Hamming norm - the number of nonzero elements.\n",
      "\n",
      "    other P, `P > 1'\n",
      "          p-norm of A, `(sum (abs (A) .^ P)) ^ (1/P)'.\n",
      "\n",
      "    other P `P < 1'\n",
      "          the p-pseudonorm defined as above.\n",
      "\n",
      "     If OPT is the value \"rows\", treat each row as a vector and compute\n",
      "     its norm.  The result is returned as a column vector.  Similarly,\n",
      "     if OPT is \"columns\" or \"cols\" then compute the norms of each\n",
      "     column and return a row vector.\n",
      "\n",
      "     See also: cond, svd.\n",
      "\n",
      "\n",
      "Additional help for built-in functions and operators is\n",
      "available in the online version of the manual.  Use the command\n",
      "'doc <topic>' to search the manual index.\n",
      "\n",
      "Help and information about Octave is also available on the WWW\n",
      "at http://www.octave.org and via the help@octave.org\n",
      "mailing list.\n"
     ]
    }
   ],
   "source": [
    "help norm"
   ]
  }
 ],
 "metadata": {
  "kernelspec": {
   "display_name": "Octave",
   "language": "octave",
   "name": "octave"
  },
  "language_info": {
   "codemirror_mode": "Octave",
   "file_extension": ".m",
   "help_links": [
    {
     "text": "MetaKernel Magics",
     "url": "https://github.com/calysto/metakernel/blob/master/metakernel/magics/README.md"
    }
   ],
   "mimetype": "text/x-octave",
   "name": "octave",
   "version": "0.15.3"
  }
 },
 "nbformat": 4,
 "nbformat_minor": 0
}
