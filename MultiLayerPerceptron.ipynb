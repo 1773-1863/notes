{
 "cells": [
  {
   "cell_type": "markdown",
   "metadata": {},
   "source": [
    "# Multi Layer Perceptron (MLP)\n",
    "\n",
    "MLP is one of the most popular and well known deep architectures. The functional form is "
   ]
  },
  {
   "cell_type": "markdown",
   "metadata": {},
   "source": [
    "$$\n",
    "f(x; W, b) = g_D(W_D \\dots g_3(W_3 g_2( W_2 g_1(W_1 x + b_1) + b_2 ) + b_3 ) \\dots + b_D)\n",
    "$$\n",
    "\n",
    "For a $D$ layer network, at layer $i$, we have the weight matrix $W_i$, the bias vector $b_i$ and the (very often nonlinear) function $g_i$, that applies elementwise to its argument\n"
   ]
  },
  {
   "cell_type": "code",
   "execution_count": 21,
   "metadata": {
    "collapsed": true
   },
   "outputs": [],
   "source": [
    "%matplotlib inline\n",
    "import matplotlib as mpl\n",
    "import matplotlib.pyplot as plt\n",
    "import numpy as np\n",
    "import scipy as sc\n"
   ]
  },
  {
   "cell_type": "code",
   "execution_count": 328,
   "metadata": {
    "collapsed": true
   },
   "outputs": [],
   "source": [
    "import torch\n",
    "import torch.autograd\n",
    "from torch.autograd import Variable\n",
    "\n",
    "sizes = [2,20,10,20,3,4]\n",
    "\n",
    "# Generate data from a Waring decomposition\n",
    "N = 100\n",
    "rank = 6\n",
    "order = 2\n",
    "U1 = np.random.randn(rank, sizes[0])\n",
    "U2 = np.random.randn(sizes[-1],rank)/10\n",
    "x = np.random.randn(sizes[0],N)\n",
    "y = np.tanh(U2.dot(U1.dot(x)**order))\n",
    "\n",
    "g = torch.nn.Tanh()\n",
    "Error = torch.nn.MSELoss(size_average=True)\n",
    "\n",
    "# Generate the network\n",
    "D = len(sizes)\n",
    "Weight = []\n",
    "Bias = []\n",
    "Func = []\n",
    "for i in range(D-1):\n",
    "    W = Variable(torch.randn(sizes[i+1],sizes[i]).double(), requires_grad=True)\n",
    "    b = Variable(torch.randn(sizes[i+1],1).double(), requires_grad=True)\n",
    "    Weight.append(W)\n",
    "    Bias.append(b)\n",
    "    Func.append(g)"
   ]
  },
  {
   "cell_type": "code",
   "execution_count": 320,
   "metadata": {},
   "outputs": [],
   "source": [
    "\n",
    "#def mlp_fun(x, Weight, Bias, Func):\n",
    "    \n",
    "\n",
    "eta = 0.005\n",
    "MAX_ITER = 10000\n",
    "BatchSize = 100\n",
    "EE = []\n",
    "for epoch in range(MAX_ITER):\n",
    "    idx = np.random.choice(N, size=BatchSize, replace=False)\n",
    "    #idx = [epoch%N]\n",
    "    f = Variable(torch.DoubleTensor(x[:,idx]), requires_grad=False)\n",
    "    for i in range(D-1):\n",
    "        f = g(torch.matmul(Weight[i], f) + Bias[i])\n",
    "        \n",
    "    E = Error(f, Variable(torch.DoubleTensor(y[:,idx])))\n",
    "    EE.append(E.data.numpy())\n",
    "    E.backward() \n",
    "    \n",
    "    for i in range(D-1):\n",
    "        Weight[i].data.add_(-eta*Weight[i].grad.data)\n",
    "        Bias[i].data.add_(-eta*Bias[i].grad.data)\n",
    "        Weight[i].grad.zero_()\n",
    "        Bias[i].grad.zero_()\n",
    "    \n",
    "    "
   ]
  },
  {
   "cell_type": "code",
   "execution_count": 321,
   "metadata": {
    "scrolled": true
   },
   "outputs": [
    {
     "data": {
      "image/png": "[encoded data removed]",
      "text/plain": [
       "<matplotlib.figure.Figure at 0x1190773c8>"
      ]
     },
     "metadata": {},
     "output_type": "display_data"
    }
   ],
   "source": [
    "plt.plot(EE)\n",
    "plt.show()"
   ]
  },
  {
   "cell_type": "code",
   "execution_count": 322,
   "metadata": {},
   "outputs": [
    {
     "data": {
      "text/plain": [
       "Variable containing:\n",
       " 0.5329\n",
       "-1.4695\n",
       " 1.5401\n",
       " 0.2610\n",
       " 0.8867\n",
       "-0.0026\n",
       "-0.5196\n",
       " 1.2506\n",
       "-0.9792\n",
       " 0.7922\n",
       " 0.7443\n",
       " 0.2446\n",
       " 1.4341\n",
       "-0.8934\n",
       " 0.5749\n",
       " 0.3045\n",
       " 0.5889\n",
       "-2.3111\n",
       " 1.3216\n",
       " 0.4096\n",
       "[torch.DoubleTensor of size 20x1]"
      ]
     },
     "execution_count": 322,
     "metadata": {},
     "output_type": "execute_result"
    }
   ],
   "source": [
    "idx = [18]\n",
    "f = Variable(torch.DoubleTensor(x[:,idx]), requires_grad=False)\n",
    "torch.matmul(Weight[0], f)"
   ]
  },
  {
   "cell_type": "code",
   "execution_count": 325,
   "metadata": {
    "scrolled": false
   },
   "outputs": [
    {
     "name": "stdout",
     "output_type": "stream",
     "text": [
      "Variable containing:\n",
      "-0.9035\n",
      " 0.8587\n",
      " 0.7793\n",
      "-0.6354\n",
      "[torch.DoubleTensor of size 4x1]\n",
      "\n",
      "[[-0.89082718]\n",
      " [ 0.99662228]\n",
      " [ 0.52026339]\n",
      " [-0.78996949]]\n"
     ]
    }
   ],
   "source": [
    "idx = [1]\n",
    "f = Variable(torch.DoubleTensor(x[:,idx]), requires_grad=False)\n",
    "for i in range(D-1):\n",
    "    #print(f)\n",
    "    f = g(torch.matmul(Weight[i], f) + Bias[i])\n",
    "\n",
    "print(f)\n",
    "print(y[:,idx])"
   ]
  },
  {
   "cell_type": "code",
   "execution_count": 163,
   "metadata": {
    "scrolled": true
   },
   "outputs": [
    {
     "data": {
      "text/plain": [
       "Variable containing:\n",
       "-1.3209 -1.1514  0.5652 -0.5197  0.1485 -2.0634 -1.1099  1.3475 -0.6163  0.2242\n",
       " 0.7550  1.2839  0.6789  2.1288  0.2809 -0.1979 -0.5285  0.0090 -0.1808 -1.8460\n",
       "-1.1613  0.7516 -0.5483 -0.5283 -0.6651  0.4904 -1.3772 -0.8368 -1.2510  0.4022\n",
       "[torch.DoubleTensor of size 3x10]"
      ]
     },
     "execution_count": 163,
     "metadata": {},
     "output_type": "execute_result"
    }
   ],
   "source": [
    "idx = range(10)\n",
    "f = Variable(torch.DoubleTensor(x[:,idx]), requires_grad=False)\n",
    "i = 0\n",
    "torch.matmul(Weight[i], f)\n",
    "\n",
    "#f = g(torch.mm(Weight[i], f) + Bias[i])\n",
    "f"
   ]
  },
  {
   "cell_type": "code",
   "execution_count": 165,
   "metadata": {},
   "outputs": [
    {
     "data": {
      "text/plain": [
       "Variable containing:\n",
       "\n",
       "Columns 0 to 9 \n",
       " 0.7469 -0.9551  0.9961  0.3624  0.9757 -0.0178 -0.9434  0.9629  0.4486  0.9995\n",
       "-0.6732  0.4722  0.9850 -0.5244  0.9054  0.0314 -0.9669  0.0204  0.9631  0.5500\n",
       " 0.4719 -0.6089  0.0709 -0.5079  0.9563 -0.6942 -0.3735 -0.9716  0.4458  0.7643\n",
       " 0.7537 -0.7161  0.9802  0.6725  0.9982 -0.1459 -0.9956  0.2194  0.8836  0.9978\n",
       " 0.3926 -0.7413  0.5073 -0.5968  0.8957 -0.6260 -0.1179 -0.8687  0.2898  0.8554\n",
       "-0.8582 -0.0450  0.9970 -0.8704 -0.2185  0.1987 -0.5361  0.9245  0.8617  0.5640\n",
       " 0.5850 -0.9722  0.9810 -0.4774  0.6759 -0.3060  0.0988  0.9035 -0.2978  0.9967\n",
       " 0.5556 -0.7152 -0.8572 -0.7888  0.8827 -0.8655  0.7451 -0.9981 -0.1850  0.1866\n",
       " 0.6324 -0.9523  0.9351 -0.4264  0.8378 -0.4455 -0.0563  0.4886 -0.1574  0.9924\n",
       "-0.9248  0.3207 -0.6821 -0.9960 -0.9547 -0.7916  0.9957 -0.9946  0.0055 -0.9950\n",
       "\n",
       "Columns 10 to 19 \n",
       " 0.7519 -0.9565 -0.7985 -0.2928  0.9984 -0.9349  0.4765  0.1362  0.2425 -0.9931\n",
       "-0.9892 -0.9949 -0.6197 -0.9541  0.9931 -0.9401  0.9079 -0.2460  0.6300 -0.1410\n",
       " 0.1073 -0.9718 -0.8037  0.0019  0.9977 -0.8948  0.8655 -0.3914  0.8208 -0.9904\n",
       "-0.7840 -0.9997  0.0217 -0.5140  1.0000 -0.8874  0.8998  0.7090  0.9743 -0.9932\n",
       " 0.5192 -0.8843 -0.8939 -0.0571  0.9908 -0.9161  0.7655 -0.5615  0.4555 -0.9861\n",
       "-0.8086 -0.3639 -0.9599 -0.9615  0.2082 -0.9698  0.5671 -0.8418 -0.8859  0.5030\n",
       " 0.9801  0.1921 -0.9713  0.0459  0.9162 -0.9504  0.0718 -0.6843 -0.7813 -0.9902\n",
       " 0.8103 -0.8057 -0.9235  0.5533  0.9906 -0.8840  0.8384 -0.7317  0.7053 -0.9964\n",
       " 0.9524 -0.4334 -0.9490  0.1324  0.9756 -0.9370  0.3696 -0.5848 -0.3758 -0.9933\n",
       " 0.3499  0.9630 -0.9966 -0.6667 -0.9645 -0.9605  0.6413 -0.9927 -0.9606  0.1740\n",
       "[torch.DoubleTensor of size 10x20]"
      ]
     },
     "execution_count": 165,
     "metadata": {},
     "output_type": "execute_result"
    }
   ],
   "source": [
    "g(torch.mm(Weight[i], f).transpose(-1,0) + Bias[i])"
   ]
  },
  {
   "cell_type": "code",
   "execution_count": 327,
   "metadata": {
    "scrolled": true
   },
   "outputs": [
    {
     "data": {
      "text/plain": [
       "Variable containing:\n",
       "-0.8908\n",
       " 0.9966\n",
       " 0.5203\n",
       "-0.7900\n",
       "[torch.DoubleTensor of size 4x1]"
      ]
     },
     "execution_count": 327,
     "metadata": {},
     "output_type": "execute_result"
    }
   ],
   "source": [
    "Variable(torch.DoubleTensor(y[:,idx]))"
   ]
  },
  {
   "cell_type": "code",
   "execution_count": 247,
   "metadata": {},
   "outputs": [],
   "source": [
    "A = torch.DoubleTensor([[1,2,3],[4,5,6]])\n",
    "T = torch.rand([3,5,2])\n",
    "u = torch.DoubleTensor([[7],[8]])\n",
    "w = torch.rand([5,3]).double()"
   ]
  }
 ],
 "metadata": {
  "kernelspec": {
   "display_name": "Python [conda root]",
   "language": "python",
   "name": "conda-root-py"
  },
  "language_info": {
   "codemirror_mode": {
    "name": "ipython",
    "version": 3
   },
   "file_extension": ".py",
   "mimetype": "text/x-python",
   "name": "python",
   "nbconvert_exporter": "python",
   "pygments_lexer": "ipython3",
   "version": "3.6.1"
  },
  "toc": {
   "nav_menu": {},
   "number_sections": true,
   "sideBar": true,
   "skip_h1_title": false,
   "toc_cell": false,
   "toc_position": {},
   "toc_section_display": "block",
   "toc_window_display": false
  }
 },
 "nbformat": 4,
 "nbformat_minor": 2
}
