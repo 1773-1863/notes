{
 "cells": [
  {
   "cell_type": "markdown",
   "metadata": {},
   "source": [
    "$\\newcommand{\\ind}[1]{\\left[#1\\right]}$\n",
    "\n",
    "### Model\n",
    "\n",
    "- Data set\n",
    "$$ {\\cal D} = \\{ x_1, \\dots  x_N \\} $$\n",
    "- Model with parameter $\\theta$\n",
    "$$ p(\\cal D | \\theta) $$\n",
    "\n",
    "<img src=\"images/fig13b.png\" width='360' align='center'>\n",
    "\n",
    "\n",
    "### Maximum Likelihood\n",
    "\n",
    "- Maximum Likelihood (ML)\n",
    "$$ \\theta^{\\text{ML}} = \\arg\\max_{\\theta} \\log p({\\cal D} | \\theta) $$\n",
    "- Predictive distribution\n",
    "$$ p(x_{N+1} |  {\\cal D} ) \\approx  p(x_{N+1} |  \\theta^{\\text{ML}})  $$\n",
    "\n",
    "### Maximum Aposteriori\n",
    "\n",
    "- Prior\n",
    "$$ p(\\theta) $$\n",
    "\n",
    "- Maximum a-posteriori (MAP) : Regularised Maximum Likelihood\n",
    "$$\n",
    "\\theta^{\\text{MAP}} = \\arg\\max_{\\theta} \\log p({\\cal D} | \\theta) p(\\theta)\n",
    "$$\n",
    "\n",
    "- Predictive distribution\n",
    "$$ p(x_{N+1} |  {\\cal D} ) \\approx  p(x_{N+1} |  \\theta^{\\text{MAP}})  $$\n",
    "\n",
    "### Bayesian Learning\n",
    "\n",
    "- We treat parameters on the same footing as all other variables\n",
    "- We integrate over unknown parameters rather than using point estimates (remember the many-dice example)\n",
    " - Self-regularisation, avoids overfitting\n",
    " - Natural setup for online adaptation\n",
    " - Model selection\n",
    "\n",
    "\n",
    "- Predictive distribution\n",
    "\\begin{eqnarray}\n",
    "p(x_{N+1} ,  {\\cal D} ) &=& \\int d\\theta \\;\\; p(x_{N+1} |  \\theta) p( {\\cal D}| \\theta) p(\\theta)  \\\\\n",
    " &=& \\int d\\theta \\;\\; p(x_{N+1}|  \\theta) p( {\\cal D}, \\theta)   \\\\\n",
    " &=& \\int d\\theta \\;\\; p(x_{N+1}|  \\theta) p(  \\theta| {\\cal D}) p({\\cal D})   \\\\\n",
    " &=&  p({\\cal D}) \\int d\\theta \\;\\; p(x_{N+1}|  \\theta) p(  \\theta| {\\cal D})  \\\\\n",
    "p(x_{N+1} |  {\\cal D} ) &=& \\int d\\theta \\;\\; p(x_{N+1} |  \\theta) p(\\theta | {\\cal D}) \n",
    "\\end{eqnarray}\n",
    "\n",
    "The interpretation is that past data provides an 'update' to the recent prior to be used for the current prediction.\n",
    "\n",
    "- Bayesian learning is just inference ...\n",
    "\n",
    "\n",
    "\n",
    "\n",
    "### Independent Coin Flips\n",
    "\n",
    "Suppose we have a coin, flipped several times independently. A vague question one can ask is if one can predict the outcome of the next flip.\n",
    "\n",
    "It depends. If we already know that the coin is fair, there is nothing that we can learn from past data and indeed the future flips are independent of the previous flips. However, if we don't know the probability of the coin, we could estimate the parameter from past data to create a better prediction. Mathematically, the model is identical to  \n",
    "\n",
    "<img src=\"images/fig13b.png\" width='320' align='center'>\n",
    "\n",
    "Here, $\\theta$ is the parameter of the coin.\n",
    "\n",
    "#### Maximum Likelihood Estimation\n",
    "\n",
    "We observe the outcome of $N$ coin flips $\\{x^{(n)}\\}_{n=1\\dots N}$ where $x^{(n)} \\in \\left\\{0,1\\right\\}$. The model is a Bernoulli distribution with parameter $\\pi = (\\pi_0, \\pi_1)$. We have $\\pi_0 = 1 - \\pi_1$ where $0 \\leq \\pi_1 \\leq 1$. \n",
    "\n",
    "\\begin{eqnarray}\n",
    "x^{(n)} & \\sim & p(x|\\pi) = (1-\\pi_1)^{1-x^{(n)} } \\pi_1^{x^{(n)} }\n",
    "\\end{eqnarray}\n",
    "\n",
    "The loglikelihood is \n",
    "\n",
    "\\begin{eqnarray}\n",
    "{\\cal L}(\\pi_1) & = & \\sum_{n=1}^N (1- x^{(n)}) \\log (1 - \\pi_1) + \\sum_{n=1}^N x^{(n)} \\log (\\pi_1)  \\\\\n",
    "& = & \\log (1 - \\pi_1) \\sum_{n=1}^N (1- x^{(n)})  + \\log (\\pi_1) \\sum_{n=1}^N x^{(n)}  \n",
    "\\end{eqnarray}\n",
    "\n",
    "We define the number of $0$'s  \n",
    "\\begin{eqnarray}\n",
    "c_0 = \\sum_{n=1}^N (1- x^{(n)})\n",
    "\\end{eqnarray}\n",
    "and $1$'s as\n",
    "\\begin{eqnarray}\n",
    "c_1 = \\sum_{n=1}^N  x^{(n)}\n",
    "\\end{eqnarray}\n",
    "\n",
    "\\begin{eqnarray}\n",
    "{\\cal L}(\\pi_1) & = & \\log (1 - \\pi_1) c_0  + \\log (\\pi_1) c_1  \n",
    "\\end{eqnarray}\n",
    "\n",
    "We compute the gradient \n",
    "\\begin{eqnarray}\n",
    "\\frac{\\partial}{\\partial \\pi_1} {\\cal L}(\\pi_1) & = & - \\frac{c_0}{1 - \\pi_1} + \\frac{c_1}{\\pi_1}  = 0 \n",
    "\\end{eqnarray}\n",
    "\n",
    "The solution is quite predictable\n",
    "\\begin{eqnarray}\n",
    "\\pi_1 & = &\\frac{c_1}{c_0 + c_1}  = \\frac{c_1}{N}  \n",
    "\\end{eqnarray}\n",
    "\n",
    "#### Maximum A-posteriori estimation\n",
    "\n",
    "We need a prior over the probability parameter. One choice is the beta distribution\n",
    "\n",
    "\\begin{eqnarray}\n",
    "p(\\pi_1) & = & \\mathcal{B}(\\pi_1; \\alpha, \\beta) =  \\frac{\\Gamma(\\alpha + \\beta)}{\\Gamma(\\alpha) \\Gamma(\\beta) } \\pi_1^{\\alpha-1} (1-\\pi_1)^{\\beta-1}\n",
    "\\end{eqnarray}\n",
    "\n",
    "The log joint ditribution of data is\n",
    "\\begin{eqnarray}\n",
    "\\log p(X, \\pi_1) & = & \\log p(\\pi_1) + \\log \\sum_{n=1}^N \\log p(x^{(n)}|\\pi_1) \\\\\n",
    "& = & \\log \\Gamma(\\alpha + \\beta) -\\log \\Gamma(\\alpha) - \\log \\Gamma(\\beta) \\\\\n",
    "& & + (\\alpha-1) \\log \\pi_1 + (\\beta-1) \\log(1-\\pi_1) \\\\\n",
    "& & + c_1 \\log (\\pi_1)  + c_0 \\log (1 - \\pi_1) \\\\\n",
    "& = & \\log \\Gamma(\\alpha + \\beta) -\\log \\Gamma(\\alpha) - \\log \\Gamma(\\beta) \\\\\n",
    "& & + (\\alpha + c_1 -1) \\log \\pi_1 + (\\beta + c_0 -1) \\log(1-\\pi_1) \n",
    "\\end{eqnarray}\n",
    "\n",
    "The gradient is \n",
    "\n",
    "\\begin{eqnarray}\n",
    "\\frac{\\partial}{\\partial \\pi_1} \\log p(X, \\pi_1)  & = & - \\frac{\\beta + c_0 -1}{1 - \\pi_1} + \\frac{\\alpha + c_1 -1}{\\pi_1}  = 0 \n",
    "\\end{eqnarray}\n",
    "\n",
    "We can solve for the parameter.\n",
    "\\begin{eqnarray}\n",
    "\\pi_1 (\\beta + c_0 -1) & = & (1 - \\pi_1) (\\alpha + c_1 -1) \\\\ \n",
    "\\pi_1 \\beta + \\pi_1 c_0 - \\pi_1 & = & \\alpha  + c_1  - 1 - \\pi_1 \\alpha - \\pi_1 c_1 + \\pi_1 \\\\ \n",
    "\\pi_1  & = & \\frac{\\alpha - 1  + c_1}{\\alpha + \\beta  - 2 + c_0 + c_1}    \\\\ \n",
    "\\end{eqnarray}\n",
    "\n",
    "When the prior is flat, i.e., when $\\alpha = \\beta = 1$, MAP and ML solutions coincide.\n",
    "\n",
    "#### Full Bayesian inference\n",
    "\n",
    "We infer the posterior\n",
    "\n",
    "\\begin{eqnarray}\n",
    "p(\\pi_1| X) & = & \\frac{p(\\pi_1, X)}{p(X)} \n",
    "\\end{eqnarray}\n",
    "\n",
    "\n",
    "The log joint density is \n",
    "\\begin{eqnarray}\n",
    "\\log p(X, \\pi_1) & = & \\log \\Gamma(\\alpha + \\beta) -\\log \\Gamma(\\alpha) - \\log \\Gamma(\\beta) \\\\\n",
    "& & + (\\alpha + c_1 -1) \\log \\pi_1 + (\\beta + c_0 -1) \\log(1-\\pi_1) \n",
    "\\end{eqnarray}\n",
    "\n",
    "At this stage, we may try to evaluate the integral \n",
    "$$\n",
    "p(X)  =  \\int d\\pi_1 p(X, \\pi_1) \n",
    "$$\n",
    "\n",
    "Rather than trying to evaluate this integral directly, a simple approach is known as 'completing the square': we add an substract terms to obtain an expression that corresponds to a known, normalized density. This typically involves adding and substracting an expression that will make us identify a normalized density. \n",
    "\n",
    "\\begin{eqnarray}\n",
    "\\log p(X, \\pi_1) & = & \\log \\Gamma(\\alpha + \\beta) -\\log \\Gamma(\\alpha) - \\log \\Gamma(\\beta) \\\\\n",
    "& & - \\log \\Gamma(\\alpha + \\beta + c_0 + c_1) + \\log \\Gamma(\\alpha + c_1) + \\log \\Gamma(\\beta + c_0) \\\\\n",
    "& & + \\log \\Gamma(\\alpha + \\beta + c_0 + c_1) - \\log \\Gamma(\\alpha + c_1) - \\log \\Gamma(\\beta + c_0) \\\\\n",
    "& & + (\\alpha + c_1 -1) \\log \\pi_1 + (\\beta + c_0 -1) \\log(1-\\pi_1) \\\\\n",
    "& = & \\log \\Gamma(\\alpha + \\beta) -\\log \\Gamma(\\alpha) - \\log \\Gamma(\\beta) \\\\\n",
    "& & - \\log \\Gamma(\\alpha + \\beta + c_0 + c_1) + \\log \\Gamma(\\alpha + c_1) + \\log \\Gamma(\\beta + c_0) \\\\\n",
    "& & + \\log \\mathcal{B}(\\alpha + c_1, \\beta + c_0) \\\\\n",
    "& = & \\log p(X) + \\log p(\\pi_1| X)\n",
    "\\end{eqnarray}\n",
    "\n",
    "From the resulting expression, taking the exponent on both sides we see that \n",
    "\\begin{eqnarray}\n",
    "p(\\pi_1| X) & = & \\mathcal{B}(\\alpha + c_1, \\beta + c_0) \\\\\n",
    "p(X) & = & \\frac{\\Gamma(\\alpha + \\beta)}{\\Gamma(\\alpha)\\Gamma(\\beta)} \\frac{\\Gamma(\\alpha + c_1)\\Gamma(\\beta + c_0)}{\\Gamma(\\alpha + \\beta + c_0 + c_1)}\n",
    "\\end{eqnarray}\n",
    "\n",
    "Predictive distribution: Let $a=\\alpha + c_1$ and $b=\\beta+c_0$\n",
    "\n",
    "\\begin{eqnarray}\n",
    "\\int d\\pi_1 p(x|\\pi_1) p(\\pi_1| X) & = & \\int d\\pi_1 \\mathcal{BE}(x; \\pi_1) \\mathcal{B}(\\pi_1; a, b) \\\\\n",
    " & = & \\int d\\pi_1 \\pi_1^{\\ind{x=1}}(1-\\pi_1)^{\\ind{x=0}}\\mathcal{B}(a, b) \\\\\n",
    "\\end{eqnarray}\n",
    "\n",
    "\\begin{eqnarray}\n",
    "p(x) & = & \\frac{\\Gamma(a + b)}{\\Gamma(a)\\Gamma(b)} \\frac{\\Gamma(a + \\ind{x=1})\\Gamma(b + \\ind{x=0})}{\\Gamma(b + a + 1)}\n",
    "\\end{eqnarray}\n",
    "\n",
    "\\begin{eqnarray}\n",
    "p(x=1) & = & \\frac{\\Gamma(a + b)}{\\Gamma(a)\\Gamma(b)} \\frac{\\Gamma(a + 1)\\Gamma(b)}{\\Gamma(b + a + 1)} \\\\\n",
    "& = & \\frac{\\Gamma(a + b)}{\\Gamma(a)\\Gamma(b)} \\frac{a\\Gamma(a)\\Gamma(b)}{(b+a)\\Gamma(b + a)} \\\\\n",
    "& = & \\frac{a}{a+b}\n",
    "\\end{eqnarray}\n",
    "\n",
    "\n",
    "##### Alternative Derivation\n",
    "Alternatively, we may directly write\n",
    "\\begin{eqnarray}\n",
    "p(X, \\pi_1) & = & \\frac{\\Gamma(\\alpha + \\beta)}{\\Gamma(\\alpha)\\Gamma(\\beta)}   \\pi_1^{(\\alpha + c_1 -1)} (1-\\pi_1)^{(\\beta + c_0 -1)} \n",
    "\\end{eqnarray}\n",
    "\n",
    "\\begin{eqnarray}\n",
    "p(X) &=& \\int d\\pi_1 p(X, \\pi_1)  =  \\frac{\\Gamma(\\alpha + \\beta)}{\\Gamma(\\alpha)\\Gamma(\\beta)} \\int d\\pi_1  \\pi_1^{(\\alpha + c_1 -1)} (1-\\pi_1)^{(\\beta + c_0 -1)} \n",
    "\\end{eqnarray}\n",
    "\n",
    "\n",
    "From the definition of the beta distribution, we can arrive at the 'formula' for the integral \n",
    "\\begin{eqnarray}\n",
    "1 &=& \\int d\\pi \\mathcal{B}(\\pi; a, b) \\\\\n",
    "& = & \\int d\\pi \\frac{\\Gamma(a + b)}{\\Gamma(a)\\Gamma(b)} \\pi^{(a -1)} (1-\\pi)^{(b -1)} \\\\\n",
    "\\frac{\\Gamma(a)\\Gamma(b)}{\\Gamma(a + b)} & = & \\int d\\pi \\pi^{(a -1)} (1-\\pi)^{(b -1)}\n",
    "\\end{eqnarray}\n",
    "Just substitute $a = \\alpha + c_1$ and $b = \\beta + c_0$\n",
    "\n",
    "#### An Approximation\n",
    "For large $x$, we have the following approximation\n",
    "\\begin{eqnarray}\n",
    "\\log \\Gamma(x + a) - \\log \\Gamma(x) & \\approx & a \\log(x) \\\\\n",
    "\\Gamma(x + a)  & \\approx & \\Gamma(x) x^a \\\\\n",
    "\\end{eqnarray}\n",
    "\n",
    "When $c_0$ and $c_1$ are large, we obtain:\n",
    "\n",
    "\\begin{eqnarray}\n",
    "p(X) & \\approx & \\frac{\\Gamma(\\alpha + \\beta)}{\\Gamma(\\alpha)\\Gamma(\\beta)} \\frac{\\Gamma(c_1)\\Gamma(c_0)c_0^{\\beta}c_1^{\\alpha}}{\\Gamma(c_0 + c_1)(c_0+c_1)^{\\alpha + \\beta}}\n",
    "\\end{eqnarray}\n",
    "\n",
    "Let $\\hat{\\pi}_1 = c_1/(c_0+c_1)$ and $N = c_0 + c_1$, we have\n",
    "\\begin{eqnarray}\n",
    "p(X) & \\approx &  \\frac{\\Gamma(c_1)\\Gamma(c_0)}{\\Gamma(c_0 + c_1)} (1-\\hat{\\pi}_1) \\hat{\\pi}_1 \\frac{\\Gamma(\\alpha + \\beta)}{\\Gamma(\\alpha)\\Gamma(\\beta)} (1-\\hat{\\pi}_1)^{\\beta-1}\\hat{\\pi}_1^{\\alpha-1}\n",
    "\\end{eqnarray}"
   ]
  },
  {
   "cell_type": "markdown",
   "metadata": {},
   "source": [
    "## Learning Probability of a (possibly fake) coin\n"
   ]
  },
  {
   "cell_type": "code",
   "execution_count": 40,
   "metadata": {
    "collapsed": false
   },
   "outputs": [
    {
     "name": "stderr",
     "output_type": "stream",
     "text": [
      "/Library/Frameworks/Python.framework/Versions/3.5/lib/python3.5/site-packages/ipykernel/__main__.py:9: RuntimeWarning: divide by zero encountered in log\n",
      "/Library/Frameworks/Python.framework/Versions/3.5/lib/python3.5/site-packages/ipykernel/__main__.py:9: RuntimeWarning: invalid value encountered in multiply\n"
     ]
    },
    {
     "data": {
      "image/png": "[encoded data removed]",
      "text/plain": [
       "<matplotlib.figure.Figure at 0x107c98fd0>"
      ]
     },
     "metadata": {},
     "output_type": "display_data"
    },
    {
     "data": {
      "image/png": "[encoded data removed]",
      "text/plain": [
       "<matplotlib.figure.Figure at 0x1081c2128>"
      ]
     },
     "metadata": {},
     "output_type": "display_data"
    },
    {
     "data": {
      "image/png": "[encoded data removed]",
      "text/plain": [
       "<matplotlib.figure.Figure at 0x107e47668>"
      ]
     },
     "metadata": {},
     "output_type": "display_data"
    },
    {
     "data": {
      "image/png": "[encoded data removed]",
      "text/plain": [
       "<matplotlib.figure.Figure at 0x108162080>"
      ]
     },
     "metadata": {},
     "output_type": "display_data"
    },
    {
     "data": {
      "image/png": "[encoded data removed]",
      "text/plain": [
       "<matplotlib.figure.Figure at 0x1087696a0>"
      ]
     },
     "metadata": {},
     "output_type": "display_data"
    },
    {
     "data": {
      "image/png": "[encoded data removed]",
      "text/plain": [
       "<matplotlib.figure.Figure at 0x107e47908>"
      ]
     },
     "metadata": {},
     "output_type": "display_data"
    },
    {
     "data": {
      "image/png": "[encoded data removed]",
      "text/plain": [
       "<matplotlib.figure.Figure at 0x108198588>"
      ]
     },
     "metadata": {},
     "output_type": "display_data"
    },
    {
     "data": {
      "image/png": "[encoded data removed]",
      "text/plain": [
       "<matplotlib.figure.Figure at 0x107c6b0f0>"
      ]
     },
     "metadata": {},
     "output_type": "display_data"
    },
    {
     "data": {
      "image/png": "[encoded data removed]",
      "text/plain": [
       "<matplotlib.figure.Figure at 0x1081c6898>"
      ]
     },
     "metadata": {},
     "output_type": "display_data"
    },
    {
     "data": {
      "image/png": "[encoded data removed]",
      "text/plain": [
       "<matplotlib.figure.Figure at 0x1087695f8>"
      ]
     },
     "metadata": {},
     "output_type": "display_data"
    },
    {
     "data": {
      "image/png": "[encoded data removed]",
      "text/plain": [
       "<matplotlib.figure.Figure at 0x1081c6240>"
      ]
     },
     "metadata": {},
     "output_type": "display_data"
    },
    {
     "data": {
      "image/png": "[encoded data removed]",
      "text/plain": [
       "<matplotlib.figure.Figure at 0x108146cf8>"
      ]
     },
     "metadata": {},
     "output_type": "display_data"
    },
    {
     "data": {
      "image/png": "[encoded data removed]",
      "text/plain": [
       "<matplotlib.figure.Figure at 0x107b88940>"
      ]
     },
     "metadata": {},
     "output_type": "display_data"
    },
    {
     "data": {
      "image/png": "[encoded data removed]",
      "text/plain": [
       "<matplotlib.figure.Figure at 0x10814d860>"
      ]
     },
     "metadata": {},
     "output_type": "display_data"
    },
    {
     "data": {
      "image/png": "[encoded data removed]",
      "text/plain": [
       "<matplotlib.figure.Figure at 0x108198828>"
      ]
     },
     "metadata": {},
     "output_type": "display_data"
    },
    {
     "data": {
      "image/png": "[encoded data removed]",
      "text/plain": [
       "<matplotlib.figure.Figure at 0x1083dd550>"
      ]
     },
     "metadata": {},
     "output_type": "display_data"
    },
    {
     "data": {
      "image/png": "[encoded data removed]",
      "text/plain": [
       "<matplotlib.figure.Figure at 0x107c47cf8>"
      ]
     },
     "metadata": {},
     "output_type": "display_data"
    },
    {
     "data": {
      "image/png": "[encoded data removed]",
      "text/plain": [
       "<matplotlib.figure.Figure at 0x10814da90>"
      ]
     },
     "metadata": {},
     "output_type": "display_data"
    }
   ],
   "source": [
    "%matplotlib inline\n",
    "import matplotlib.pyplot as plt\n",
    "from scipy.special import gammaln\n",
    "import numpy as np\n",
    "import scipy.special as sps\n",
    "\n",
    "def log_beta_pdf(x, a, b):\n",
    "    \n",
    "    y = - gammaln(a) - gammaln(b) + gammaln(a+b) + np.log(x)*(a-1) + np.log(1-x)*(b-1) \n",
    "    idx = np.where(x == 0)\n",
    "    if a==1:\n",
    "        y[idx] = - gammaln(a) - gammaln(b) + gammaln(a+b)\n",
    "    elif a<1:\n",
    "        y[idx] = np.Inf\n",
    "    else:\n",
    "        y[idx] = - np.Inf\n",
    "    \n",
    "    idx = np.where(x == 1)\n",
    "    if b==1:\n",
    "        y[idx] = - gammaln(a) - gammaln(b) + gammaln(a+b)\n",
    "    elif b<1:\n",
    "        y[idx] = np.Inf\n",
    "    else:\n",
    "        y[idx] = - np.Inf\n",
    "    return y\n",
    "\n",
    "a = 1\n",
    "b = 1\n",
    "\n",
    "xx = [1,1,1,1,1,0,1,1, 1,0,1,0,1,1,1,1,0]\n",
    "\n",
    "p = np.arange(0.0,1.01,0.01)\n",
    "\n",
    "c = [0,0]\n",
    "N = 0\n",
    "plt.figure(figsize=(5,3))\n",
    "plt.plot(p, np.exp(log_beta_pdf(p, a+c[1], b+c[0])), 'r')\n",
    "plt.xticks([0,1])\n",
    "plt.yticks([])\n",
    "plt.xlim([-0.1,1.1])\n",
    "plt.ylim([0,6])\n",
    "pi_ML =  (a+c[1])/(a+b+N)\n",
    "plt.plot([pi_ML, pi_ML], yl , 'k:')\n",
    "\n",
    "plt.xlabel('$\\lambda$')\n",
    "plt.savefig('/Users/cemgil/Dropbox/tex/cam/talks/cmpe547/beta{n}.eps'.format(n=N), bbox_inches='tight')\n",
    "plt.show()\n",
    "\n",
    "for x in xx:\n",
    "    c[x] += 1\n",
    "    N += 1\n",
    "    plt.figure(figsize=(5,3))\n",
    "    plt.plot(p, np.exp(log_beta_pdf(p, a+c[1], b+c[0])), 'r')\n",
    "\n",
    "    \n",
    "    pi_ML =  (a+c[1])/(a+b+N)\n",
    "    pi_mode = (a+c[1]-1)/float(a+b+N-2)\n",
    "    tmp = str(int(a+c[1]-1))+'/'+str(a+b+N-2)\n",
    "    plt.xticks([0,pi_mode],('0',tmp))\n",
    "    #plt.xticks([0,pi_mode])\n",
    "    plt.yticks([])\n",
    "    plt.xlim([-0.1,1.1])\n",
    "    plt.ylim([0,6])\n",
    "    \n",
    "    yl = plt.gca().get_ylim()\n",
    "    plt.plot([pi_ML, pi_ML], yl , 'k:')\n",
    "    plt.plot([pi_mode, pi_mode], yl , 'b:')\n",
    "    \n",
    "    plt.xlabel('$\\lambda$')\n",
    "    plt.savefig('/Users/cemgil/Dropbox/tex/cam/talks/cmpe547/beta{n}.eps'.format(n=N), bbox_inches='tight')\n",
    "    plt.show()\n"
   ]
  },
  {
   "cell_type": "markdown",
   "metadata": {},
   "source": [
    "### Fair/Fake Coin\n",
    "\n",
    "We consider the folowing problem: Given a sequence of coin tosses $X = \\{x^{(n)}\\}_{n=1\\dots N}$, determine if the coin is fair or fake.\n",
    "\n",
    "This can be cast as a model selection problem:\n",
    "\n",
    "\\begin{eqnarray}\n",
    "\\pi_1|m & \\sim & \\left\\{ \\begin{array}{cc} \\delta(\\pi_1 - 0.5) & m = 0\\\\ \\mathcal{B}(\\pi; a, b) & m = 1 \\end{array} \\right.\n",
    "\\end{eqnarray}\n",
    "For $n = 1\\dots N$\n",
    "\\begin{eqnarray}\n",
    "x^{(n)}| \\pi_1 & \\sim & \\mathcal{BE}(x; \\pi_1)\n",
    "\\end{eqnarray}\n",
    "\n",
    "This model defines the following:\n",
    "- The indicator $m$, that denotes if the coin is fake,\n",
    "- What a fake coin is: a fake coin is one that has an arbitrary probability $\\pi_1$ between $0$ and $1$. \n",
    "- What a fair coin is: a fair coin has $\\pi_1 = 0.5$\n",
    "\n",
    "We need to calculate the marginal likelihoods for $m=0$ and $m=1$\n",
    "\\begin{eqnarray}\n",
    "p(X| m) & = & \\int d\\pi_1 p(X | \\pi_1) p(\\pi_1|m)\n",
    "\\end{eqnarray}\n",
    "\n",
    "###### Not Fake\n",
    "\\begin{eqnarray}\n",
    "p(X| m) & = & \\int d\\pi_1 p(X| \\pi_1) \\delta(\\pi_1 - 0.5) \\\\\n",
    "& = & \\prod_{n=1}^N \\left(\\frac{1}{2}\\right)^{x^{(n)}} \\left(\\frac{1}{2}\\right)^{1-x^{(n)}} = \\frac{1}{2^N}\n",
    "\\end{eqnarray}\n",
    "\n",
    "###### Fake\n",
    "\n",
    "\\begin{eqnarray}\n",
    "p(X| m) & = & \\int d\\pi_1 p(\\pi_1; a, b) \\prod_{n=1}^{N} p(x^{(n)}| \\pi_1)  \\\\\n",
    "& = &  \\int d\\pi_1 \\left(\\prod_{n=1}^N \\left(1-\\pi_1\\right)^{1-x^{(n)}} \\pi_1^{x^{(n)}} \\right) \\mathcal{B}(\\pi; a, b) \\\\\n",
    "& = & \\frac{\\Gamma(a + b)}{\\Gamma(a)\\Gamma(b)} \\int d\\pi_1 \\left(1-\\pi_1\\right)^{c_0+a-1} \\pi_1^{c_1+b-1} \\\\\n",
    "& = & \\frac{\\Gamma(a + b)}{\\Gamma(a)\\Gamma(b)} \\frac{\\Gamma(c_0+a)\\Gamma(c_1+b)}{\\Gamma(c_0 + c_1 +a + b)}\n",
    "\\end{eqnarray}"
   ]
  },
  {
   "cell_type": "markdown",
   "metadata": {},
   "source": [
    "The log-odds is the ratio of marginal likelihoods\n",
    "\n",
    "$$\n",
    "l(X) = \\log\\left( \\frac{p(X|m = \\text{Fair})}{p(X|m = \\text{Fake})} \\right)\n",
    "$$\n",
    "\n",
    "If $l(X)>0$, we may conclude that the coin is fair and biased when $l<0$."
   ]
  },
  {
   "cell_type": "code",
   "execution_count": 42,
   "metadata": {
    "collapsed": false,
    "scrolled": false
   },
   "outputs": [
    {
     "name": "stdout",
     "output_type": "stream",
     "text": [
      "log_odds =  -0.826678573184\n"
     ]
    }
   ],
   "source": [
    "import numpy as np\n",
    "import scipy.special as sps\n",
    "\n",
    "def log_odds(c_0, c_1, a, b):\n",
    "    # Total number of tosses\n",
    "    N = c_0 + c_1\n",
    "    \n",
    "    M_fair = N*np.log(0.5)\n",
    "    M_fake = sps.gammaln(a+b) - sps.gammaln(a) - sps.gammaln(b) +  sps.gammaln(c_0+a) + sps.gammaln(c_1+b) - sps.gammaln(N+a + b) \n",
    "    return M_fair - M_fake\n",
    "\n",
    "# Number of Zeros observed\n",
    "c_0 = 6\n",
    "# Number of Ones\n",
    "c_1 = 1\n",
    "\n",
    "# Prior\n",
    "a = 1\n",
    "b = 1\n",
    "\n",
    "\n",
    "print('log_odds = ', log_odds(c_0, c_1, a, b) )\n"
   ]
  },
  {
   "cell_type": "code",
   "execution_count": 43,
   "metadata": {
    "collapsed": false,
    "scrolled": true
   },
   "outputs": [
    {
     "data": {
      "image/png": "[encoded data removed]",
      "text/plain": [
       "<matplotlib.figure.Figure at 0x1085784a8>"
      ]
     },
     "metadata": {},
     "output_type": "display_data"
    }
   ],
   "source": [
    "a = 1\n",
    "b = 1\n",
    "N = 10\n",
    "\n",
    "l = np.zeros(N+1)\n",
    "\n",
    "for c in range(0,N+1):\n",
    "    l[c] = log_odds(N-c, c, a, b)\n",
    "\n",
    "plt.plot(range(0,N+1), l, 'o')\n",
    "plt.plot(range(0,N+1), np.zeros(N+1), 'k:')\n",
    "ax = plt.gca()\n",
    "ax.set_xlabel('Number of ones $c_1$')\n",
    "ax.set_ylabel('log-odds $l(X)$')\n",
    "plt.show()"
   ]
  },
  {
   "cell_type": "markdown",
   "metadata": {},
   "source": [
    "We can visualize the region where we would decide that the coin is fake by plotting the points where the log-odds is negative."
   ]
  },
  {
   "cell_type": "code",
   "execution_count": 50,
   "metadata": {
    "collapsed": false
   },
   "outputs": [
    {
     "data": {
      "image/png": "[encoded data removed]",
      "text/plain": [
       "<matplotlib.figure.Figure at 0x107bee748>"
      ]
     },
     "metadata": {},
     "output_type": "display_data"
    }
   ],
   "source": [
    "a = 1\n",
    "b = 1\n",
    "\n",
    "\n",
    "\n",
    "for N in range(1, 25):\n",
    "\n",
    "    l = np.zeros(N+1)\n",
    "\n",
    "    for c in range(0,N+1):\n",
    "        l[c] = log_odds(N-c, c, a, b)\n",
    "    \n",
    "    \n",
    "    idx = np.where( np.array(l)<0 )\n",
    "    p = np.arange(0,N+1)/N\n",
    "    plt.plot(N*np.ones_like(p), p, '.k',markersize=4)    \n",
    "    plt.plot(N*np.ones_like(p[idx]), p[idx], '.r',markersize=20)\n",
    "    \n",
    "\n",
    "ax = plt.gca()\n",
    "ax.set_ylim((0,1))\n",
    "ax.set_xlabel('$N$')\n",
    "ax.set_ylabel('$c_1/N$')\n",
    "plt.show()"
   ]
  },
  {
   "cell_type": "code",
   "execution_count": 187,
   "metadata": {
    "collapsed": false
   },
   "outputs": [
    {
     "data": {
      "image/png": "[encoded data removed]",
      "text/plain": [
       "<matplotlib.figure.Figure at 0x1104c6668>"
      ]
     },
     "metadata": {},
     "output_type": "display_data"
    }
   ],
   "source": [
    "%matplotlib inline\n",
    "import matplotlib.pyplot as plt\n",
    "from scipy.special import gammaln\n",
    "\n",
    "def log_beta_pdf(x, a, b):\n",
    "    return - gammaln(a) - gammaln(b) + gammaln(a+b) + np.log(x)*(a-1) + np.log(1-x)*(b-1) \n",
    "\n",
    "x = np.arange(0.01,1,0.01)\n",
    "\n",
    "c_0 = 1\n",
    "c_1 = 1\n",
    "N = c_0 + c_1\n",
    "\n",
    "pi_ML = c_1/N\n",
    "\n",
    "plt.plot(x, np.exp(log_beta_pdf(x, a, b)), 'b')\n",
    "plt.plot(x, np.exp(log_beta_pdf(x, a+c_1, b+c_0)), 'r')\n",
    "yl = plt.gca().get_ylim()\n",
    "plt.plot([pi_ML, pi_ML], yl , 'k:')\n",
    "plt.legend([\"Prior $\\cal B$ $(a={}, b={})$\".format(a,b), \"Posterior $\\cal B$ $(a={}, b={})$\".format(a+c_1, b+c_0)], loc=\"best\")\n",
    "plt.show()"
   ]
  },
  {
   "cell_type": "markdown",
   "metadata": {},
   "source": [
    "### Estimating a Categorical distribution\n",
    "\n",
    "#### Maximum Likelihood Estimation\n",
    "\n",
    "\n",
    "We observe a dataset $\\{x^{(n)}\\}_{n=1\\dots N}$. The model for a single observation is a categorical distribution with parameter $\\pi = (\\pi_1, \\dots, \\pi_S)$ where \n",
    "\n",
    "\\begin{eqnarray}\n",
    "x^{(n)} & \\sim & p(x|\\pi) = \\prod_{s=1}^{S} \\pi_s^{\\ind{s = x^{(n)}}}\n",
    "\\end{eqnarray}\n",
    "where $\\sum_s \\pi_s  = 1$.\n",
    "\n",
    "The loglikelihood of the entire dataset is\n",
    "\n",
    "\\begin{eqnarray}\n",
    "{\\cal L}(\\pi_1,\\dots,\\pi_S) & = & \\sum_{n=1}^N\\sum_{s=1}^S \\ind{s = x^{(n)}} \\log \\pi_s\n",
    "\\end{eqnarray}\n",
    "This is a constrained optimisation problem.\n",
    "Form the Lagrangian\n",
    "\\begin{eqnarray}\n",
    "\\Lambda(\\pi, \\lambda) & = & \\sum_{n=1}^N\\sum_{s'=1}^S \\ind{s' = x^{(n)}} \\log \\pi_{s'}  + \\lambda \\left( 1 - \\sum_{s'} \\pi_{s'} \\right ) \\\\\n",
    "\\frac{\\partial \\Lambda(\\pi, \\lambda)}{\\partial \\pi_s} & = & \\sum_{n=1}^N \\ind{s = x^{(n)}} \\frac{1}{\\pi_s} - \\lambda = 0 \\\\\n",
    "\\pi_s & = & \\frac{\\sum_{n=1}^N \\ind{s = x^{(n)}}}{\\lambda}\n",
    "\\end{eqnarray}\n",
    "\n",
    "We solve for $\\lambda$\n",
    "\\begin{eqnarray}\n",
    "1 & = & \\sum_s \\pi_s = \\frac{\\sum_{s=1}^S \\sum_{n=1}^N \\ind{s = x^{(n)}}}{\\lambda} \\\\\n",
    "\\lambda & = & \\sum_{s=1}^S \\sum_{n=1}^N \\ind{s = x^{(n)}} =  \\sum_{n=1}^N 1 = N\n",
    "\\end{eqnarray}\n",
    "\n",
    "Hence\n",
    "\\begin{eqnarray}\n",
    "\\pi_s & = & \\frac{\\sum_{n=1}^N \\ind{s = x^{(n)}}}{N}\n",
    "\\end{eqnarray}"
   ]
  },
  {
   "cell_type": "markdown",
   "metadata": {},
   "source": [
    "#### Maximum A-Posteriori Estimation\n"
   ]
  },
  {
   "cell_type": "markdown",
   "metadata": {},
   "source": [
    "#### Full Bayesian Inference"
   ]
  },
  {
   "cell_type": "markdown",
   "metadata": {},
   "source": [
    "Visualizing the Dirichlet [http://blog.bogatron.net/blog/2014/02/02/visualizing-dirichlet-distributions/]"
   ]
  },
  {
   "cell_type": "code",
   "execution_count": 198,
   "metadata": {
    "collapsed": true
   },
   "outputs": [],
   "source": [
    "%matplotlib inline\n",
    "import numpy as np\n",
    "import matplotlib.pyplot as plt\n",
    "import matplotlib.tri as tri\n",
    "from functools import reduce\n",
    "from scipy.special import gammaln\n",
    "\n",
    "corners = np.array([[0, 0], [1, 0], [0.5, 0.75**0.5]])\n",
    "triangle = tri.Triangulation(corners[:, 0], corners[:, 1])\n",
    "\n",
    "refiner = tri.UniformTriRefiner(triangle)\n",
    "trimesh = refiner.refine_triangulation(subdiv=4)\n",
    "\n",
    "\n",
    "# Mid-points of triangle sides opposite of each corner\n",
    "midpoints = [(corners[(i + 1) % 3] + corners[(i + 2) % 3]) / 2.0 \\\n",
    "             for i in range(3)]\n",
    "\n",
    "def xy2bc(xy, tol=1.e-3):\n",
    "    '''Converts 2D Cartesian coordinates to barycentric.'''\n",
    "    s = [(corners[i] - midpoints[i]).dot(xy - midpoints[i]) / 0.75 \\\n",
    "         for i in range(3)]\n",
    "    return np.clip(s, tol, 1.0 - tol)\n",
    "\n",
    "class Dirichlet(object):\n",
    "    def __init__(self, alpha):\n",
    "        self._alpha = np.array(alpha)\n",
    "        self._coef = gammaln(np.sum(self._alpha)) - np.sum(gammaln(self._alpha))\n",
    "    def log_pdf(self, x):\n",
    "        return self._coef + np.sum(np.log(x)*(self._alpha - 1)) \n",
    "    def pdf(self, x):\n",
    "        '''Returns pdf value for `x`.'''\n",
    "        return np.exp(self.log_pdf(x))\n",
    "        \n",
    "def draw_pdf_contours(dist, nlevels=200, subdiv=8, **kwargs):\n",
    "\n",
    "    refiner = tri.UniformTriRefiner(triangle)\n",
    "    trimesh = refiner.refine_triangulation(subdiv=subdiv)\n",
    "    pvals = [dist.pdf(xy2bc(xy)) for xy in zip(trimesh.x, trimesh.y)]\n",
    "\n",
    "    plt.tricontourf(trimesh, pvals, nlevels, **kwargs)\n",
    "    plt.axis('equal')\n",
    "    plt.xlim(0, 1)\n",
    "    plt.ylim(0, 0.75**0.5)\n",
    "    plt.axis('off')"
   ]
  },
  {
   "cell_type": "code",
   "execution_count": 199,
   "metadata": {
    "collapsed": false
   },
   "outputs": [
    {
     "data": {
      "image/png": "[encoded data removed]",
      "text/plain": [
       "<matplotlib.figure.Figure at 0x11047b6a0>"
      ]
     },
     "metadata": {},
     "output_type": "display_data"
    }
   ],
   "source": [
    "draw_pdf_contours(Dirichlet([1, 3, 1]))"
   ]
  },
  {
   "cell_type": "code",
   "execution_count": 156,
   "metadata": {
    "collapsed": false
   },
   "outputs": [
    {
     "data": {
      "image/png": "[encoded data removed]",
      "text/plain": [
       "<matplotlib.figure.Figure at 0x10f5ce978>"
      ]
     },
     "metadata": {},
     "output_type": "display_data"
    }
   ],
   "source": [
    "draw_pdf_contours(Dirichlet([1.99, 3.99, 10.99]))"
   ]
  },
  {
   "cell_type": "markdown",
   "metadata": {},
   "source": [
    "### Change point\n",
    "Coin switch\n",
    "\n",
    "Coal Mining Data\n",
    " Single Change Point\n",
    " Multiple Change Point"
   ]
  },
  {
   "cell_type": "code",
   "execution_count": 171,
   "metadata": {
    "collapsed": false
   },
   "outputs": [
    {
     "name": "stdout",
     "output_type": "stream",
     "text": [
      "{\n",
      "  \"key\": \"5fe2a052-2599-465d-96fa-793a58b02ea2\",\n",
      "  \"transport\": \"tcp\",\n",
      "  \"signature_scheme\": \"hmac-sha256\",\n",
      "  \"shell_port\": 65197,\n",
      "  \"stdin_port\": 65199,\n",
      "  \"ip\": \"127.0.0.1\",\n",
      "  \"hb_port\": 65201,\n",
      "  \"control_port\": 65200,\n",
      "  \"iopub_port\": 65198\n",
      "}\n",
      "\n",
      "Paste the above JSON into a file, and connect with:\n",
      "    $> ipython <app> --existing <file>\n",
      "or, if you are local, you can connect with just:\n",
      "    $> ipython <app> --existing kernel-457030b1-3d25-4222-9094-06fb4bbdbefe.json \n",
      "or even just:\n",
      "    $> ipython <app> --existing \n",
      "if this is the most recent IPython session you have started.\n"
     ]
    }
   ],
   "source": [
    "%connect_info"
   ]
  }
 ],
 "metadata": {
  "kernelspec": {
   "display_name": "Python 3",
   "language": "python",
   "name": "python3"
  },
  "language_info": {
   "codemirror_mode": {
    "name": "ipython",
    "version": 3
   },
   "file_extension": ".py",
   "mimetype": "text/x-python",
   "name": "python",
   "nbconvert_exporter": "python",
   "pygments_lexer": "ipython3",
   "version": "3.5.2"
  }
 },
 "nbformat": 4,
 "nbformat_minor": 0
}
