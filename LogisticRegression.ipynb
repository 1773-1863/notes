{
 "cells": [
  {
   "cell_type": "markdown",
   "metadata": {},
   "source": [
    "# Logistic Regression\n",
    "\n",
    "Logistic Regression is a binary classification method. The key idea is learning a mapping from a feature vector to a probability, a number between $0$ and $1$. It is similar to least-squares in the sense that (apart from some extreme cases) it has a unique solution.\n",
    "\n",
    "Suppose, for a set of objects $X$, each denoted by the feature vector $x_i \\in \\mathbb{R}^D$, we are given the answer to some true-false question, such as 'is object $i$ of class $c$?'. This answer is denoted by $y_i \\in \\{0, 1\\}$. We are given a dataset of feature vectors $x_i$ along with the corresponding 'labels' $y_i$. For $i=1\\dots N$\n",
    "\n",
    "$$(y_i, x_i)$$\n",
    "\n",
    "The model is \n",
    "$$\n",
    "\\Pr\\{y_i = 1\\} = \\sigma(x_i^\\top w)\n",
    "$$\n",
    "Here,\n",
    "$\\sigma(x)$ is the sigmoid function defined as\n",
    "\\begin{eqnarray}\n",
    "\\sigma(x) & = & \\frac{1}{1+e^{-x}}\n",
    "\\end{eqnarray}\n",
    "\n",
    "This is a generative model. To understand logistic regression as a generative model, consider the following metaphor: assume that for each data instance $x_i$, we select a biased coin with probability $p(y_i = 1| w, x) = \\pi_i = \\sigma(w^\\top x_i)$, throw the coin and label the data item with class $y_i$ accordingly. \n",
    "\n",
    "\n",
    "Mathematically, we assume that each label $y_i$ is drawn from a Bernoulli distribution. That is: \n",
    "\\begin{eqnarray}\n",
    "\\pi_i & = & \\sigma(x_i^\\top w) \\\\\n",
    "y_i & \\sim &\\mathcal{BE}(\\pi)\n",
    "\\end{eqnarray}\n",
    "\n",
    "Here, we think of a biased coin with two sides denoted as $1$ and $0$ with probability of side $1$ as $\\pi$, and consequently the probability of side $0$ with $1-\\pi$. We denote the outcome of the coin toss with the random variable $y$. We write the probability as $p(y = 1) = \\pi$ and probability of heads is $p(y = 0) = 1-\\pi$. More compactly, the probability of the outcome of a toss, provided we know $\\pi$, is written as\n",
    "\\begin{eqnarray}\n",
    "p(y|\\pi) = \\pi^y(1-\\pi)^y\n",
    "\\end{eqnarray}"
   ]
  },
  {
   "cell_type": "markdown",
   "metadata": {},
   "source": [
    "In logistic regression, we are given a dataset of form\n",
    "\\begin{eqnarray}\n",
    "X & = &  \\begin{pmatrix}\n",
    "  x_{1,1} & x_{1,2} & \\dots & x_{1,D} \\\\\n",
    "  x_{2,1} & x_{2,2} & \\dots & x_{2,D} \\\\\n",
    "  \\vdots & \\vdots & \\vdots & \\vdots  \\\\\n",
    "  x_{i,1} & x_{i,2} & \\dots & x_{i,D}  \\\\\n",
    "  \\vdots & \\vdots & \\vdots & \\vdots  \\\\\n",
    "  x_{N,1} & x_{N,2} & \\dots & x_{N,D} \\\\\n",
    "\\end{pmatrix} = \n",
    "\\begin{pmatrix}\n",
    "x_1^\\top \\\\\n",
    "x_2^\\top \\\\\n",
    "\\dots \\\\\n",
    "x_i^\\top \\\\\n",
    "\\dots \\\\\n",
    "x_N^\\top\n",
    "\\end{pmatrix} \n",
    "\\\\\n",
    "{y} & = & \\begin{pmatrix}\n",
    "y_1 \\\\\n",
    "y_2 \\\\\n",
    "\\vdots \\\\\n",
    "y_i \\\\\n",
    "\\vdots \\\\\n",
    "y_N\n",
    "\\end{pmatrix}\n",
    "\\end{eqnarray}\n",
    "where $x_{i,j}$ denotes the $j$'th feature of the $i$'th data point. It is customary, to set a column entirely to $1$, for example $x_{i,D}=1$ for all $i$. This 'feature' is artificially added to the dataset to allow a slightly more flexible model. The $y_i$ denote the target class label of the\n",
    "$i$'th object. In logistic regression, we consider the case of binary classification where $y_i \\in \\{0,1\\}$. It is possible to use other encodings such as $y_i \\in \\{-1,1\\}$; the derivations are similar.\n",
    "\n",
    "\n"
   ]
  },
  {
   "cell_type": "markdown",
   "metadata": {},
   "source": [
    "### Properties of the sigmoid function\n",
    "Note that\n",
    "\n",
    "\\begin{eqnarray}\n",
    "\\sigma(x) & = & \\frac{e^x}{(1+e^{-x})e^x} = \\frac{e^x}{1+e^{x}} \\\\\n",
    "1 - \\sigma(x) & = & 1 - \\frac{e^x}{1+e^{x}} = \\frac{1+e^{x} - e^x}{1+e^{x}} = \\frac{1}{1+e^{x}}\n",
    "\\end{eqnarray}\n",
    "\n",
    "\\begin{eqnarray}\n",
    "\\sigma'(x) & = & \\frac{e^x(1+e^{x}) - e^{x} e^x}{(1+e^{x})^2} = \\frac{e^x}{1+e^{x}}\\frac{1}{1+e^{x}} = \\sigma(x) (1-\\sigma(x))\n",
    "\\end{eqnarray}\n",
    "\n",
    "\\begin{eqnarray}\n",
    "\\log \\sigma(x) & = & -\\log(1+e^{-x}) = x - \\log(1+e^{x}) \\\\\n",
    "\\log(1 - \\sigma(x)) & = &  -\\log({1+e^{x}})\n",
    "\\end{eqnarray}\n",
    "\n",
    "\n",
    "\n",
    "\n",
    "Exercise: Plot the sigmoid function and its derivative."
   ]
  },
  {
   "cell_type": "markdown",
   "metadata": {},
   "source": [
    "### Learning the parameters\n",
    "\n",
    "The likelihood of the observations, that is the probability of observing the class sequence is\n",
    "\\begin{eqnarray}\n",
    "p(y_1, y_2, \\dots, y_N|w, x_1, x_2, \\dots, x_N ) &=& \\left(\\prod_{i : y_i=1} \\sigma(w^\\top x_i) \\right) \\left(\\prod_{i : y_i=0}(1- \\sigma(w^\\top x_i)) \\right)\n",
    "\\end{eqnarray}\n",
    "Here, the left product is the expression for examples from class $1$ and the right product is for examples from class $0$.\n",
    "We will look for the particular setting of the weight vector, the so called maximum likelihood solution, denoted by $w^*$.\n",
    "\\begin{eqnarray}\n",
    "w^* & = & \\arg\\max_{w} {\\cal L}(w)\n",
    "\\end{eqnarray}\n",
    "where the loglikelihood function\n",
    "\\begin{eqnarray}\n",
    "{\\cal L}(w) & = & \\log p(y_1, y_2, \\dots, y_N|w, x_1, x_2, \\dots, x_N ) \\\\\n",
    "& = & \\sum_{i : y_i=1} \\log \\sigma(w^\\top x_i) + \\sum_{i : y_i=0} \\log (1- \\sigma(w^\\top x_i)) \\\\\n",
    "& = & \\sum_{i : y_i=1} w^\\top x_i - \\sum_{i : y_i=1} \\log(1+e^{w^\\top x_i}) - \\sum_{i : y_i=0}\\log({1+e^{w^\\top x_i}}) \\\\\n",
    "& = & \\sum_i y_i w^\\top x_i - \\sum_{i} \\log(1+e^{w^\\top x_i}) \\\\\n",
    "& = & y^\\top X w - \\mathbf{1}^\\top logsumexp(0, X w)\n",
    "\\end{eqnarray}\n",
    "\n",
    "Unlike the least-squares problem, an expression for direct evaluation of $w^*$ is not known so we need to resort to numerical optimization. "
   ]
  },
  {
   "cell_type": "markdown",
   "metadata": {},
   "source": [
    "### Optimization via gradient ascent\n",
    "\n",
    "One way for\n",
    "optimization is gradient ascent\n",
    "\\begin{eqnarray}\n",
    "w^{(\\tau)} & \\leftarrow & w^{(\\tau-1)} + \\eta \\nabla_w {\\cal L}\n",
    "\\end{eqnarray}\n",
    "where\n",
    "\\begin{eqnarray}\n",
    "\\nabla_w {\\cal L} & = &\n",
    "\\begin{pmatrix}\n",
    "{\\partial {\\cal L}}/{\\partial w_1} \\\\\n",
    "{\\partial {\\cal L}}/{\\partial w_2} \\\\\n",
    "\\vdots \\\\\n",
    "{\\partial {\\cal L}}/{\\partial w_{D}}\n",
    "\\end{pmatrix}\n",
    "\\end{eqnarray}\n",
    "is the gradient vector.\n",
    "\n",
    "#### Evaluating the gradient\n",
    "The partial derivative of the loglikelihood with respect to the $k$'th entry of the weight vector is given by the chain rule as\n",
    "\\begin{eqnarray}\n",
    "\\frac{\\partial{\\cal L}}{\\partial w_k} & = & \\frac{\\partial{\\cal L}}{\\partial \\sigma(u)} \\frac{\\partial \\sigma(u)}{\\partial u} \\frac{\\partial u}{\\partial w_k}\n",
    "\\end{eqnarray}\n",
    "\n",
    "\\begin{eqnarray}\n",
    "{\\cal L}(w) & = & \\sum_{i : y_i=1} \\log \\sigma(w^\\top x_i) + \\sum_{i : y_i=0} \\log (1- \\sigma(w^\\top x_i))\n",
    "\\end{eqnarray}\n",
    "\n",
    "\\begin{eqnarray}\n",
    "\\frac{\\partial{\\cal L}(\\sigma)}{\\partial \\sigma} & = &  \\sum_{i : y_i=1} \\frac{1}{\\sigma(w^\\top x_i)} - \\sum_{i : y_i=0} \\frac{1}{1- \\sigma(w^\\top x_i)}\n",
    "\\end{eqnarray}\n",
    "\n",
    "\\begin{eqnarray}\n",
    "\\frac{\\partial \\sigma(u)}{\\partial u} & = & \\sigma(w^\\top x_i) (1-\\sigma(w^\\top x_i))\n",
    "\\end{eqnarray}\n",
    "\n",
    "\\begin{eqnarray}\n",
    "\\frac{\\partial w^\\top x_i }{\\partial w_k} & = & x_{i,k}\n",
    "\\end{eqnarray}\n",
    "\n",
    "\n",
    "So the gradient is\n",
    "\\begin{eqnarray}\n",
    "\\frac{\\partial{\\cal L}}{\\partial w_k} & = & \\sum_{i : y_i=1} \\frac{\\sigma(w^\\top x_i) (1-\\sigma(w^\\top x_i))}{\\sigma(w^\\top x_i)} x_{i,k} - \\sum_{i : y_i=0} \\frac{\\sigma(w^\\top x_i) (1-\\sigma(w^\\top x_i))}{1- \\sigma(w^\\top x_i)} x_{i,k} \\\\\n",
    "& = & \\sum_{i : y_i=1} {(1-\\sigma(w^\\top x_i))} x_{i,k} - \\sum_{i : y_i=0} {\\sigma(w^\\top x_i)} x_{i,k}\n",
    "\\end{eqnarray}\n",
    "\n",
    "We can write this expression more compactly by noting\n",
    "\\begin{eqnarray}\n",
    "\\frac{\\partial{\\cal L}}{\\partial w_k} & = & \\sum_{i : y_i=1} {(\\underbrace{1}_{y_i}-\\sigma(w^\\top x_i))} x_{i,k} + \\sum_{i : y_i=0} {(\\underbrace{0}_{y_i} - \\sigma(w^\\top x_i))} x_{i,k} \\\\\n",
    "& = & \\sum_i (y_i - \\sigma(w^\\top x_i)) x_{i,k}\n",
    "\\end{eqnarray}\n",
    "\n",
    "The update rule is\n",
    "\\begin{eqnarray}\n",
    "w^{(\\tau)} = w^{(\\tau-1)} + \\eta X^\\top (y-\\sigma(X w))\n",
    "\\end{eqnarray}\n",
    "\n",
    "\n"
   ]
  },
  {
   "cell_type": "code",
   "execution_count": 1,
   "metadata": {
    "collapsed": false
   },
   "outputs": [
    {
     "name": "stderr",
     "output_type": "stream",
     "text": [
      "/Users/cemgil/anaconda/lib/python2.7/site-packages/matplotlib/font_manager.py:273: UserWarning: Matplotlib is building the font cache using fc-list. This may take a moment.\n",
      "  warnings.warn('Matplotlib is building the font cache using fc-list. This may take a moment.')\n"
     ]
    }
   ],
   "source": [
    "%matplotlib inline\n",
    "from cvxpy import *\n",
    "import numpy as np\n",
    "import matplotlib as mpl\n",
    "import matplotlib.pylab as plt"
   ]
  },
  {
   "cell_type": "code",
   "execution_count": 20,
   "metadata": {
    "collapsed": false,
    "scrolled": true
   },
   "outputs": [
    {
     "name": "stdout",
     "output_type": "stream",
     "text": [
      "[[0]\n",
      " [0]\n",
      " [1]\n",
      " [1]\n",
      " [1]]\n",
      "[[-1.  1.  1.]\n",
      " [ 2. -1.  1.]\n",
      " [-1. -1.  1.]\n",
      " [ 1.  1.  1.]\n",
      " [ 2.  1.  1.]]\n",
      "[[1]\n",
      " [2]\n",
      " [3]]\n",
      "[[ 0.98201379]\n",
      " [ 0.95257413]\n",
      " [ 0.5       ]\n",
      " [ 0.99752738]\n",
      " [ 0.99908895]]\n",
      "[[ 0.          0.63793365]\n",
      " [ 0.          0.52882577]\n",
      " [ 1.          0.47117423]\n",
      " [ 1.          0.67267636]\n",
      " [ 1.          0.68938999]]\n"
     ]
    }
   ],
   "source": [
    "#x = np.matrix('[-2,1; -1,2; 1,5; -1,1; -3,-2; 1,1] ')\n",
    "x = np.matrix('[-1,1;2,-1;-1,-1;1,1;2,1]')\n",
    "#y = np.matrix('[0,0,1,0,0,1]').T\n",
    "y = np.matrix('[0,0,1,1,1]').T\n",
    "N = x.shape[0]\n",
    "#A = np.hstack((np.power(x,0), np.power(x,1), np.power(x,2)))\n",
    "X = np.hstack((x, np.ones((N,1)) ))\n",
    "\n",
    "def sigmoid(x):\n",
    "    return 1/(1+np.exp(-x))\n",
    "\n",
    "print(y)\n",
    "print(X)\n",
    "\n",
    "#w = np.random.randn(3,1)\n",
    "\n",
    "w = np.mat('[1;2;3]')\n",
    "\n",
    "print(w)\n",
    "\n",
    "print(sigmoid(X*w))\n",
    "eta = 0.1\n",
    "\n",
    "for i in range(10000):\n",
    "    pr = sigmoid(X*w)\n",
    "    w = w + eta*X.T*(y-pr)\n",
    "    \n",
    "print(np.hstack((y,pr)))\n",
    "    \n"
   ]
  },
  {
   "cell_type": "code",
   "execution_count": 3,
   "metadata": {
    "collapsed": false
   },
   "outputs": [],
   "source": [
    "N = 1000\n",
    "K = 10\n",
    "Ke = 40-K\n",
    "\n",
    "def sigmoid(x):\n",
    "    return 1/(1+np.exp(-x))\n",
    "\n",
    "x = np.matrix(np.random.randn(N, K))\n",
    "w_true = np.random.randn(K,1)\n",
    "\n",
    "p = sigmoid(x*w_true)\n",
    "u = np.random.rand(N,1)\n",
    "y = (u < p)\n",
    "y = y.astype(np.float64)\n",
    "\n",
    "#A = np.hstack((np.power(x,0), np.power(x,1), np.power(x,2)))\n",
    "X = np.hstack((x, np.random.randn(N, Ke )))\n",
    "\n",
    "\n"
   ]
  },
  {
   "cell_type": "code",
   "execution_count": 4,
   "metadata": {
    "collapsed": false,
    "scrolled": false
   },
   "outputs": [
    {
     "name": "stdout",
     "output_type": "stream",
     "text": [
      "[[ -4.61873692e-01]\n",
      " [ -3.45888873e-11]\n",
      " [ -1.15100442e+00]\n",
      " [  2.96918652e-01]\n",
      " [  6.06625465e-01]\n",
      " [  6.42161156e-01]\n",
      " [ -5.66000985e-01]\n",
      " [ -1.22920576e-10]\n",
      " [ -7.62241790e-01]\n",
      " [  2.26527800e-10]\n",
      " [  5.59296917e-11]\n",
      " [ -1.06575891e-10]\n",
      " [ -3.80442713e-11]\n",
      " [  7.35221115e-10]\n",
      " [  9.11113530e-13]\n",
      " [  7.95399232e-13]\n",
      " [  3.46032187e-11]\n",
      " [ -5.92069678e-13]\n",
      " [ -3.68158703e-11]\n",
      " [ -1.28123391e-11]\n",
      " [ -1.18309432e-11]\n",
      " [ -5.20654701e-12]\n",
      " [ -6.03313857e-11]\n",
      " [ -5.89164342e-12]\n",
      " [ -3.35170186e-10]\n",
      " [  2.63155232e-11]\n",
      " [ -1.37202788e-11]\n",
      " [  3.38273484e-11]\n",
      " [  2.84843711e-11]\n",
      " [ -2.88087419e-11]\n",
      " [ -2.03696923e-11]\n",
      " [ -1.55134247e-11]\n",
      " [  7.06091201e-12]\n",
      " [  3.72090301e-11]\n",
      " [ -3.33548890e-12]\n",
      " [  6.84441048e-12]\n",
      " [ -5.19792493e-10]\n",
      " [ -2.36637916e-11]\n",
      " [ -6.33682911e-12]\n",
      " [  7.44414549e-04]]\n"
     ]
    },
    {
     "data": {
      "image/png": "[encoded data removed]",
      "text/plain": [
       "<matplotlib.figure.Figure at 0x10d404d10>"
      ]
     },
     "metadata": {},
     "output_type": "display_data"
    }
   ],
   "source": [
    "z = np.zeros((N,1))\n",
    "# Construct the problem.\n",
    "w = Variable(K+Ke)\n",
    "objective = Minimize(25.5*norm(w, 1) -y.T*X*w + sum_entries(log_sum_exp(hstack(z, X*w),axis=1)))\n",
    "#constraints = [0 <= x, x <= 10]\n",
    "#prob = Problem(objective, constraints)\n",
    "prob = Problem(objective)\n",
    "\n",
    "# The optimal objective is returned by prob.solve().\n",
    "result = prob.solve()\n",
    "# The optimal value for x is stored in x.value.\n",
    "print(w.value)\n",
    "# The optimal Lagrange multiplier for a constraint\n",
    "# is stored in constraint.dual_value.\n",
    "#print(constraints[0].dual_value)\n",
    "\n",
    "#plt.show()\n",
    "\n",
    "plt.stem(w.value)\n",
    "plt.stem(w_true,markerfmt='xr')\n",
    "\n",
    "plt.gca().set_xlim((-1, K+Ke))\n",
    "plt.show()\n",
    "\n"
   ]
  },
  {
   "cell_type": "code",
   "execution_count": null,
   "metadata": {
    "collapsed": true
   },
   "outputs": [],
   "source": []
  },
  {
   "cell_type": "code",
   "execution_count": 5,
   "metadata": {
    "collapsed": false
   },
   "outputs": [
    {
     "name": "stdout",
     "output_type": "stream",
     "text": [
      "{\n",
      "  \"stdin_port\": 52252, \n",
      "  \"ip\": \"127.0.0.1\", \n",
      "  \"control_port\": 52253, \n",
      "  \"hb_port\": 52254, \n",
      "  \"signature_scheme\": \"hmac-sha256\", \n",
      "  \"key\": \"ea79abbc-0894-4390-90e4-df49b34619e0\", \n",
      "  \"shell_port\": 52250, \n",
      "  \"transport\": \"tcp\", \n",
      "  \"iopub_port\": 52251\n",
      "}\n",
      "\n",
      "Paste the above JSON into a file, and connect with:\n",
      "    $> ipython <app> --existing <file>\n",
      "or, if you are local, you can connect with just:\n",
      "    $> ipython <app> --existing /Users/cemgil/Library/Jupyter/runtime/kernel-0e1f423d-e753-4e58-a8b9-87b5530794df.json \n",
      "or even just:\n",
      "    $> ipython <app> --existing \n",
      "if this is the most recent IPython session you have started.\n"
     ]
    }
   ],
   "source": [
    "%connect_info"
   ]
  },
  {
   "cell_type": "code",
   "execution_count": 9,
   "metadata": {
    "collapsed": false
   },
   "outputs": [
    {
     "data": {
      "text/plain": [
       "Expression(CONVEX, POSITIVE, (1, 1))"
      ]
     },
     "execution_count": 9,
     "metadata": {},
     "output_type": "execute_result"
    }
   ],
   "source": [
    "norm(w,1)"
   ]
  }
 ],
 "metadata": {
  "kernelspec": {
   "display_name": "Python 2",
   "language": "python",
   "name": "python2"
  },
  "language_info": {
   "codemirror_mode": {
    "name": "ipython",
    "version": 2
   },
   "file_extension": ".py",
   "mimetype": "text/x-python",
   "name": "python",
   "nbconvert_exporter": "python",
   "pygments_lexer": "ipython2",
   "version": "2.7.11"
  }
 },
 "nbformat": 4,
 "nbformat_minor": 0
}
