{
 "cells": [
  {
   "cell_type": "markdown",
   "metadata": {},
   "source": [
    "# Logistic Regression\n",
    "\n",
    "Logistic regression is a classification method. Its main goal is learning a function that __returns a yes or no answer__\n",
    "when presented as input a so-called __feature__ vector. \n",
    "\n",
    "As an example, suppose we are given a dataset, such as the one below:\n",
    "\n",
    "| Class| Feature1 | Feature2  |\n",
    "|---| |---|\n",
    "| 0 |5.7| 3.1|\n",
    "| 1|-0.3|2 |\n",
    "|---| |---|\n",
    "|  $y_i$| $x_{i,1}$ | $x_{i,2}$ |\n",
    "|---| |---|\n",
    "| 1|0.4|5 |\n",
    "\n",
    "The goal is learning to predict the labels of a future dataset, where we are given only the features but not the labels:\n",
    "\n",
    "| Class| Feature1 | Feature2  |\n",
    "|---| |---|\n",
    "| ? |4.8| 3.2|\n",
    "| ? |-0.7|2.4 |\n",
    "|---| |---|\n",
    "\n",
    "More formally, the dataset consists of $N$ feature vectors $x_i$ and the associated labels $y_i$ for each example $i=1\\dots N$. The entries of $y$ are referred typically as class labels -- but in reality $y$ could model any answer to a true-false question, such as 'is object $i$ a flower?' or 'will customer $i$ buy product $j$ during the next month?'. We can arrange the features in a matrix $X$ and the labels in a vector $y$:\n",
    "\n",
    "\\begin{eqnarray}\n",
    "X & = &  \\begin{pmatrix}\n",
    "  x_{1,1} & x_{1,2} & \\dots & x_{1,D} \\\\\n",
    "  x_{2,1} & x_{2,2} & \\dots & x_{2,D} \\\\\n",
    "  \\vdots & \\vdots & \\vdots & \\vdots  \\\\\n",
    "  x_{i,1} & x_{i,2} & \\dots & x_{i,D}  \\\\\n",
    "  \\vdots & \\vdots & \\vdots & \\vdots  \\\\\n",
    "  x_{N,1} & x_{N,2} & \\dots & x_{N,D} \\\\\n",
    "\\end{pmatrix} = \n",
    "\\begin{pmatrix}\n",
    "x_1^\\top \\\\\n",
    "x_2^\\top \\\\\n",
    "\\dots \\\\\n",
    "x_i^\\top \\\\\n",
    "\\dots \\\\\n",
    "x_N^\\top\n",
    "\\end{pmatrix} \n",
    "\\\\\n",
    "{y} & = & \\begin{pmatrix}\n",
    "y_1 \\\\\n",
    "y_2 \\\\\n",
    "\\vdots \\\\\n",
    "y_i \\\\\n",
    "\\vdots \\\\\n",
    "y_N\n",
    "\\end{pmatrix}\n",
    "\\end{eqnarray}\n",
    "where $x_{i,j}$ denotes the $j$'th feature of the $i$'th data point. \n",
    "\n",
    "It is common, to set a column of $X$ entirely to $1$'s, for example we take $x_{i,D}=1$ for all $i$. This 'feature' is artificially added to the dataset to allow a slightly more flexible model -- even if we don't measure any feature, the relative numbers of ones and zeros in a dataset can provide a crude estimate of the probability of a true or false answer. \n",
    "\n",
    "Logistic Regression is a method that can be used to solve binary classification problems, like the one above. \n",
    "We will encode the two classes as $y_i \\in \\{0,1\\}$.  The key idea is learning a mapping from a feature vector $x$ to a probability, a number between $0$ and $1$. \n",
    "\n",
    "The generative model is \n",
    "$$\n",
    "\\Pr\\{y_i = 1\\} = \\pi_i = \\sigma(x_i^\\top w)\n",
    "$$\n",
    "Here,\n",
    "$\\sigma(x)$ is the sigmoid function defined as\n",
    "\\begin{eqnarray}\n",
    "\\sigma(x) & = & \\frac{1}{1+e^{-x}}\n",
    "\\end{eqnarray}\n",
    "\n",
    "To understand logistic regression as a generative model, consider the following metaphor: assume that for each data instance $x_i$, we select a biased coin with probability $p(y_i = 1| w, x^\\top_i) = \\pi_i = \\sigma(x_i^\\top w)$, throw the coin and label the data item with class $y_i$ accordingly. \n",
    "\n",
    "Mathematically, we assume that each label $y_i$, or more precisely the answer to our yes-no question rearding the object $i$ with feature vector $w$ is drawn from a Bernoulli distribution. That is: \n",
    "\\begin{eqnarray}\n",
    "\\pi_i & = & \\sigma(x_i^\\top w) \\\\\n",
    "y_i & \\sim &\\mathcal{BE}(\\pi)\n",
    "\\end{eqnarray}\n",
    "\n",
    "Here, we think of a biased coin with two sides denoted as $H$ (head) and $T$ (tail) with probability of side $H$ as $\\pi$, and consequently the probability of side $T$ with $1-\\pi$. \n",
    "\n",
    "We denote the outcome of the coin toss with the random variable $y \\in \\{0, 1\\}$. \n",
    "\n",
    "For each throw $i$, $y_i$ is the answer to the question 'Is the outcome heads?'. We write the probability as $p(y = 1) = \\pi$ and probability of tails is $p(y = 0) = 1-\\pi$. More compactly, the probability of the outcome of a toss, provided we know $\\pi$, is written as\n",
    "\\begin{eqnarray}\n",
    "p(y|\\pi) = \\pi^y(1-\\pi)^{1-y}\n",
    "\\end{eqnarray}"
   ]
  },
  {
   "cell_type": "markdown",
   "metadata": {},
   "source": [
    "### Maximum Likelihood\n",
    "\n",
    "Maximum likelihood (ML) is a method for choosing the unknown parameters of a probability distribution, given some data that is assumed to be drawn from this distribution. The distribution itself is referred as the probability model, or often just the model.\n",
    "\n",
    "#### Example\n",
    "Suppose we are given only $5$ outcomes when a coin is thrown:\n",
    "$$\n",
    "H, T, H, T, T\n",
    "$$\n",
    "\n",
    "What is the probabilty that the outcome is, say heads $H$ if we know that the coin is biased ?.\n",
    "\n",
    "One reasonable answer may be the frequency of heads, $2/5$.\n",
    "\n",
    "The ML solution coincides with this answer. For a derivation, \n",
    "we define $y_i$ for $i = 1,2,\\dots, 5$ as\n",
    "\n",
    "$$\n",
    "y_i  = \\left\\{ \\begin{array}{cc} 1 & \\text{coin $i$ is H} \\\\ 0 & \\text{coin $i$ is T}  \\end{array} \\right. \n",
    "$$\n",
    "hence \n",
    "$$\n",
    "y = [1,0,1,0,0]^\\top\n",
    "$$\n",
    "\n",
    "If we assume that the outcomes were independent, the probability of observing the above sequence as a function of the parameter $\\pi$ is the product of each individual probability\n",
    "$$\n",
    "\\Pr\\{y = [1,0,1,0,0]^\\top\\} = \\pi \\cdot (1-\\pi) \\cdot \\pi \\cdot (1-\\pi) \\cdot(1-\\pi) \n",
    "$$\n",
    "\n",
    "We could try finding the $\\pi$ value that maximizes this function. We will call the corresponding value as the maximum likelhood solution, and denote it as $\\pi^*$. \n",
    "\n",
    "It is often more convenient to work with the logarithm of this function, known as the loglikelihood function.\n",
    "\n",
    "$$\n",
    "\\mathcal{L}(\\pi) = 2 \\log \\pi + 3 \\log (1-\\pi)\n",
    "$$\n",
    "For finding the maximum, we take the derivative with respect to $\\pi$ and set to zero.\n",
    "$$\n",
    "\\frac{d \\mathcal{L}(\\pi)}{d \\pi} = \\frac{2}{\\pi^*} -  \\frac{3}{1-\\pi^*} = 0 \n",
    "$$\n",
    "When we solve we obtain $$ \\pi^* = \\frac{2}{5} $$"
   ]
  },
  {
   "cell_type": "markdown",
   "metadata": {},
   "source": [
    "More generally, when we observe $y_i$ for $i=1 \\dots N$, the loglikelihood is\n",
    "\n",
    "\\begin{eqnarray}\n",
    "\\mathcal{L}(\\pi)& = & \\log \\left(\\prod_{i : y_i=1} \\pi \\right) \\left(\\prod_{i : y_i=0}(1- \\pi) \\right) \\\\\n",
    "& = & \\log \\prod_{i = 1}^N \\pi^{y_i} (1- \\pi)^{1-y_i} \\\\\n",
    "& = & \\log  \\pi^{ \\sum_i y_i} (1- \\pi)^{\\sum_i (1-y_i) } \\\\\n",
    "& = & \\left(\\sum_i y_i\\right) \\log \\pi + \\left(\\sum_i (1-y_i) \\right) \\log (1- \\pi) \n",
    "\\end{eqnarray}\n",
    "\n",
    "If we define the number of observed $0$'s and $1$'s by $c_0$ and $c_1$ respectively, we have \n",
    "\n",
    "\\begin{eqnarray}\n",
    "\\mathcal{L}(\\pi)& = & c_1 \\log \\pi + c_0 \\log (1- \\pi) \n",
    "\\end{eqnarray}\n",
    "\n",
    "Taking the derivative and setting to $0$ results in\n",
    "\n",
    "$$\n",
    "\\pi^* = \\frac{c_1}{c_0+c_1} = \\frac{c_1}{N} \n",
    "$$\n",
    "\n"
   ]
  },
  {
   "cell_type": "code",
   "execution_count": 3,
   "metadata": {
    "collapsed": true
   },
   "outputs": [],
   "source": [
    "%matplotlib inline\n",
    "import numpy as np\n",
    "import matplotlib as mpl\n",
    "import matplotlib.pylab as plt\n",
    "\n",
    "from ipywidgets import interact, interactive, fixed\n",
    "import ipywidgets as widgets\n",
    "from IPython.display import clear_output, display, HTML\n",
    "from matplotlib import rc\n",
    "\n",
    "import scipy as sc\n",
    "import scipy.optimize as opt\n",
    "\n",
    "mpl.rc('font',**{'size': 20, 'family':'sans-serif','sans-serif':['Helvetica']})\n",
    "mpl.rc('text', usetex=True)\n"
   ]
  },
  {
   "cell_type": "code",
   "execution_count": 4,
   "metadata": {
    "collapsed": true
   },
   "outputs": [],
   "source": [
    "\n",
    "def sigmoid(x):\n",
    "    return 1/(1+np.exp(-x))\n",
    "\n",
    "def dsigmoid(x):\n",
    "    s = sigmoid(x)\n",
    "    return s*(1-s)\n",
    "\n",
    "def inv_sigmoid(p=0.5):\n",
    "    xs = opt.bisect(lambda x: sigmoid(x)-p, a=-100, b=100)\n",
    "    return xs\n",
    "\n",
    "def inv_sigmoid1D(w, b, p=0.5):\n",
    "    xs = opt.bisect(lambda x: sigmoid(w*x+b)-p, a=-100, b=100)\n",
    "    return xs\n",
    "    "
   ]
  },
  {
   "cell_type": "markdown",
   "metadata": {},
   "source": [
    "### Plotting the Sigmoid"
   ]
  },
  {
   "cell_type": "code",
   "execution_count": 21,
   "metadata": {},
   "outputs": [
    {
     "data": {
      "application/vnd.jupyter.widget-view+json": {
       "model_id": "53c7042ad588478c94d149e2f59c2d3c",
       "version_major": 2,
       "version_minor": 0
      },
      "text/html": [
       "<p>Failed to display Jupyter Widget of type <code>interactive</code>.</p>\n",
       "<p>\n",
       "  If you're reading this message in Jupyter Notebook or JupyterLab, it may mean\n",
       "  that the widgets JavaScript is still loading. If this message persists, it\n",
       "  likely means that the widgets JavaScript library is either not installed or\n",
       "  not enabled. See the <a href=\"https://ipywidgets.readthedocs.io/en/stable/user_install.html\">Jupyter\n",
       "  Widgets Documentation</a> for setup instructions.\n",
       "</p>\n",
       "<p>\n",
       "  If you're reading this message in another notebook frontend (for example, a static\n",
       "  rendering on GitHub or <a href=\"https://nbviewer.jupyter.org/\">NBViewer</a>),\n",
       "  it may mean that your frontend doesn't currently support widgets.\n",
       "</p>\n"
      ],
      "text/plain": [
       "interactive(children=(FloatSlider(value=1.0, description='w', max=5.0, min=-5.0), FloatSlider(value=0.0, description='b', max=10.0, min=-10.0), Output()), _dom_classes=('widget-interact',))"
      ]
     },
     "metadata": {},
     "output_type": "display_data"
    }
   ],
   "source": [
    "  \n",
    "fig = plt.figure(figsize=(10,6))\n",
    "ax = fig.gca()\n",
    "ax.set_ylim([-0.1,1.1])\n",
    "x = np.linspace(-10,10,100)\n",
    "ax.set_xlim([-10,10])\n",
    "\n",
    "ln = plt.Line2D(x, sigmoid(x))\n",
    "ln2 = plt.axvline([0], ls= ':', color='k')\n",
    "ln_left = plt.axvline([0], ls= ':', color='b')\n",
    "ln_right = plt.axvline([0], ls= ':', color='r')\n",
    "\n",
    "ax.add_line(ln)\n",
    "plt.close(fig)\n",
    "ax.set_xlabel('$x$')\n",
    "ax.set_ylabel('$\\sigma(wx + b)$')\n",
    "\n",
    "def plot_fun(w=1, b=0):\n",
    "    ln.set_ydata(sigmoid(w*x+b))\n",
    "    if np.abs(w)>0.00001:\n",
    "        ln2.set_xdata(inv_sigmoid1D(w,b,0.5))\n",
    "        ln_left.set_xdata(inv_sigmoid1D(w,b,0.25))\n",
    "        ln_right.set_xdata(inv_sigmoid1D(w,b,0.75))\n",
    "    display(fig)\n",
    "    \n",
    "res = interact(plot_fun, w=(-5, 5, 0.1), b=(-10.0,10.0,0.1)) "
   ]
  },
  {
   "cell_type": "code",
   "execution_count": 22,
   "metadata": {
    "scrolled": false
   },
   "outputs": [
    {
     "data": {
      "application/vnd.jupyter.widget-view+json": {
       "model_id": "de268c5fa64a4a3196ca08420a05e182",
       "version_major": 2,
       "version_minor": 0
      },
      "text/html": [
       "<p>Failed to display Jupyter Widget of type <code>interactive</code>.</p>\n",
       "<p>\n",
       "  If you're reading this message in Jupyter Notebook or JupyterLab, it may mean\n",
       "  that the widgets JavaScript is still loading. If this message persists, it\n",
       "  likely means that the widgets JavaScript library is either not installed or\n",
       "  not enabled. See the <a href=\"https://ipywidgets.readthedocs.io/en/stable/user_install.html\">Jupyter\n",
       "  Widgets Documentation</a> for setup instructions.\n",
       "</p>\n",
       "<p>\n",
       "  If you're reading this message in another notebook frontend (for example, a static\n",
       "  rendering on GitHub or <a href=\"https://nbviewer.jupyter.org/\">NBViewer</a>),\n",
       "  it may mean that your frontend doesn't currently support widgets.\n",
       "</p>\n"
      ],
      "text/plain": [
       "interactive(children=(FloatSlider(value=-0.2999999999999998, description='w0', max=3.0, min=-3.5), FloatSlider(value=0.5, description='w1', max=4.0, min=-3.0), FloatSlider(value=0.5, description='w2', max=4.0, min=-3.0), Output()), _dom_classes=('widget-interact',))"
      ]
     },
     "metadata": {},
     "output_type": "display_data"
    }
   ],
   "source": [
    "\n",
    "\n",
    "def LR_loglikelhood(X, y, w):\n",
    "    tmp = X.dot(w)\n",
    "    return y.T.dot(tmp) - np.sum(np.log(np.exp(tmp)+1))\n",
    "\n",
    "w = np.array([0.5, 2, 3])\n",
    "\n",
    "D = 3\n",
    "N = 20\n",
    "# Some random features\n",
    "X = 2*np.random.randn(N,D)\n",
    "X[:,0] = 1\n",
    "\n",
    "# Generate class labels\n",
    "pi = sigmoid(np.dot(X, w))\n",
    "y = np.array([1 if u else 0 for u in np.random.rand(N) < pi]).reshape((N))\n",
    "\n",
    "\n",
    "xl = -5.\n",
    "xr = 5.\n",
    "yl = -5.\n",
    "yr = 5.\n",
    "\n",
    "\n",
    "fig = plt.figure(figsize=(5,5))\n",
    "\n",
    "plt.plot(X[y==1,1],X[y==1,2],'xr')\n",
    "plt.plot(X[y==0,1],X[y==0,2],'ob')\n",
    "\n",
    "ax = fig.gca()\n",
    "ax.set_ylim([yl, yr])\n",
    "ax.set_xlim([xl, xr])\n",
    "\n",
    "ln = plt.Line2D([],[],color='k')\n",
    "ln_left  = plt.Line2D([],[],ls= ':', color='b')\n",
    "ln_right = plt.Line2D([],[],ls= ':', color='r')\n",
    "\n",
    "ax.add_line(ln)\n",
    "ax.add_line(ln_left)\n",
    "ax.add_line(ln_right)\n",
    "plt.close(fig)\n",
    "ax.set_xlabel('$x_1$')\n",
    "#ax.grid(xdata=np.linspace(xl,xr,0.1))\n",
    "#ax.grid(ydata=np.linspace(yl,yr,0.1))\n",
    "ax.set_ylabel('$x_2$')\n",
    "ax.set_xticks(np.arange(xl,xr))\n",
    "ax.set_yticks(np.arange(yl,yr))\n",
    "ax.grid(True)\n",
    "def plot_boundry(w0,w1,w2):\n",
    "    if w1 != 0:\n",
    "        xa = -(w0+w2*yl)/w1\n",
    "        xb = -(w0+w2*yr)/w1\n",
    "        ln.set_xdata([xa, xb])\n",
    "        ln.set_ydata([yl, yr])\n",
    "\n",
    "        xa = -(-inv_sigmoid(0.25) + w0+w2*yl)/w1\n",
    "        xb = -(-inv_sigmoid(0.25) + w0+w2*yr)/w1\n",
    "        ln_left.set_xdata([xa, xb])\n",
    "        ln_left.set_ydata([yl, yr])\n",
    "\n",
    "        xa = -(-inv_sigmoid(0.75) + w0+w2*yl)/w1\n",
    "        xb = -(-inv_sigmoid(0.75) + w0+w2*yr)/w1\n",
    "        ln_right.set_xdata([xa, xb])\n",
    "        ln_right.set_ydata([yl, yr])\n",
    "        \n",
    "        \n",
    "    elif w2!=0:\n",
    "        ya = -(w0+w1*xl)/w2\n",
    "        yb = -(w0+w1*xr)/w2\n",
    "        ln.set_xdata([xl, xr])\n",
    "        ln.set_ydata([ya, yb])\n",
    "\n",
    "        ya = -(-inv_sigmoid(0.25) + w0+w1*xl)/w2\n",
    "        yb = -(-inv_sigmoid(0.25) + w0+w1*xr)/w2\n",
    "        ln_left.set_xdata([xl, xr])\n",
    "        ln_left.set_ydata([ya, yb])\n",
    "\n",
    "        ya = -(-inv_sigmoid(0.75) + w0+w1*xl)/w2\n",
    "        yb = -(-inv_sigmoid(0.75) + w0+w1*xr)/w2\n",
    "        ln_right.set_xdata([xl, xr])\n",
    "        ln_right.set_ydata([ya, yb])      \n",
    "        \n",
    "    else:\n",
    "        ln.set_xdata([])\n",
    "        ln.set_ydata([])\n",
    "        \n",
    "    ax.set_title('$\\mathcal{L}(w) = '+str(LR_loglikelhood(X, y, np.array([w0, w1, w2])))+'$')\n",
    "    display(fig)\n",
    "\n",
    "res = interact(plot_boundry, w0=(-3.5, 3, 0.1), w1=(-3.,4,0.1), w2=(-3.,4,0.1)) "
   ]
  },
  {
   "cell_type": "markdown",
   "metadata": {},
   "source": [
    "### Logistic Regression: Learning the parameters\n",
    "\n",
    "The logistic regression model is very similar to the coin model. The main difference is that for each example $i$, we use a specific coin with a probability $\\sigma(x_i^\\top w)$ that depends on the specific feature vector $x_i$ and the parameter vector $w$ that is shared by all examples. The likelihood of the observations, that is the probability of observing the class sequence is\n",
    "\n",
    "$\\begin{eqnarray}\n",
    "p(y_1, y_2, \\dots, y_N|w, X ) &=& \\left(\\prod_{i : y_i=1} \\sigma(x_i^\\top w) \\right) \\left(\\prod_{i : y_i=0}(1- \\sigma(x_i^\\top w)) \\right)\n",
    "\\end{eqnarray}\n",
    "$\n",
    "\n",
    "Here, the left product is the expression for examples from class $1$ and the right product is for examples from class $0$.\n",
    "We will look for the particular setting of the weight vector, the maximum likelihood solution, denoted by $w^*$.\n",
    "\n",
    "$\n",
    "\\begin{eqnarray}\n",
    "w^* & = & \\arg\\max_{w} {\\cal L}(w)\n",
    "\\end{eqnarray}\n",
    "$\n",
    "\n",
    "where the loglikelihood function\n",
    "\n",
    "$\n",
    "\\begin{eqnarray}\n",
    "{\\cal L}(w) & = & \\log p(y_1, y_2, \\dots, y_N|w, x_1, x_2, \\dots, x_N ) \\\\\n",
    "& = & \\sum_{i : y_i=1} \\log \\sigma(x_i^\\top w) + \\sum_{i : y_i=0} \\log (1- \\sigma(x_i^\\top w)) \\\\\n",
    "& = & \\sum_{i : y_i=1} x_i^\\top w - \\sum_{i : y_i=1} \\log(1+e^{x_i^\\top w}) - \\sum_{i : y_i=0}\\log({1+e^{x_i^\\top w}}) \\\\\n",
    "& = & \\sum_i y_i x_i^\\top w - \\sum_{i} \\log(1+e^{x_i^\\top w}) \\\\\n",
    "& = & y^\\top X w - \\mathbf{1}^\\top \\text{logsumexp}(0, X w)\n",
    "\\end{eqnarray}\n",
    "$\n",
    "\n",
    "$\\mathbf{1}$ is a vector of ones; note that when we premultiply a vector $v$ by $\\mathbf{1}^T$ we get the sum of the entries of $v$, i.e. $\\mathbf{1}^T v = \\sum_i v_i$.\n",
    "\n",
    "We define the function $\\text{logsumexp}(a, b)$ as follows: When $a$ and $b$ are scalars, \n",
    "$$\n",
    "f = \\text{logsumexp}(a, b) \\equiv \\log(e^a + e^b)\n",
    "$$\n",
    "\n",
    "When $a$ and $b$ are vectors of the same size, $f$ is the same size as $a$ and $b$ where each entry of $f$ is\n",
    "$$\n",
    "f_i = \\text{logsumexp}(a_i, b_i) \\equiv \\log(e^{a_i} + e^{b_i})\n",
    "$$\n",
    "\n",
    "Unlike the least-squares problem, an expression for direct evaluation of $w^*$ is not known so we need to resort to numerical optimization. \n",
    "\n",
    "Before we proceed, it is informative to look at the shape of $f(x) = \\text{logsumexp}(0, x)$.\n",
    "When $x$ is negative and far smaller than zero, $f = 0$ and for large values of $x$, $f(x) = x$. Hence it looks like a so-called hinge function $h$\n",
    "$$\n",
    "h(x) = \\left\\{ \\begin{array}{cc} 0 & x < 0 \\\\x & x \\geq 0  \\end{array} \\right.\n",
    "$$\n",
    "\n",
    "We define\n",
    "$$\n",
    "f_\\alpha(x) = \\frac{1}{\\alpha}\\text{logsumexp}(0, \\alpha x)\n",
    "$$\n",
    "When $\\alpha = 1$, we have the original logsumexp function. For larger $\\alpha$, it becomes closer to the hinge loss."
   ]
  },
  {
   "cell_type": "code",
   "execution_count": 7,
   "metadata": {
    "scrolled": false
   },
   "outputs": [
    {
     "data": {
      "image/png": "[encoded data removed]",
      "text/plain": [
       "<matplotlib.figure.Figure at 0x105898dd8>"
      ]
     },
     "metadata": {},
     "output_type": "display_data"
    }
   ],
   "source": [
    "%matplotlib inline\n",
    "import numpy as np\n",
    "import matplotlib as mpl\n",
    "import matplotlib.pylab as plt\n",
    "\n",
    "def logsumexp(a,b):\n",
    "    m = np.max([a,b])\n",
    "    return m + np.log(np.exp(a-m) + np.exp(b-m))\n",
    "\n",
    "def hinge(x):\n",
    "    return x if x>0 else 0\n",
    "\n",
    "xx = np.arange(-5,3,0.1)\n",
    "\n",
    "plt.figure(figsize=(12,10))\n",
    "for i,alpha in enumerate([1,2,5,10]):\n",
    "    f = [logsumexp(0, alpha*z)/alpha for z in xx]\n",
    "    h = [hinge(z) for z in xx]\n",
    "    \n",
    "    plt.subplot(2,2,i+1)\n",
    "    plt.plot(xx, f, 'r')\n",
    "    plt.plot(xx, h, 'k:')\n",
    "    plt.xlabel('z')\n",
    "    #plt.title('a = '+ str(alpha))\n",
    "    if alpha==1:\n",
    "        plt.legend([ 'logsumexp(0,z)','hinge(z)' ], loc=2 )    \n",
    "    else:\n",
    "        plt.legend([ 'logsumexp(0,{a} z)/{a}'.format(a=alpha),'hinge(z)' ], loc=2 )\n",
    "\n",
    "    \n",
    "    \n",
    "plt.show()"
   ]
  },
  {
   "cell_type": "markdown",
   "metadata": {},
   "source": [
    "The resemblance of the logsumexp function to an hinge function provides a nice interpretation of the log likelihood. Consider the negative log likelihood written in terms of the contributions of each single item:\n",
    "\n",
    "$$\n",
    "- \\mathcal{L}(\\pi) = - \\sum_i l_i(w) \n",
    "$$\n",
    "\n",
    "We denote the inner product of the features of item $i$ and the parameters as $z_i = x_i^\\top w$.\n",
    "\n",
    "Then define the 'error' made on a single item as the minus likelihood\n",
    "$$\n",
    "E_i(w) \\equiv -l_i(w) = - y_i x_i^\\top w + \\text{logsumexp}(0, x_i^\\top w) = - y_i z_i + \\text{logsumexp}(0, z_i)\n",
    "$$\n",
    "\n",
    "Suppose, the target class $y_i = 1$. When $z_i \\gg 0$, the item $i$ will be classified correctly and won't contribute to the total error as $-l_i(w) \\approx 0$. However, when $z_i \\ll 0$, the $\\text{logsumexp}$ term will be zero and this will incur an error of $-z_i$. If instead the true target would have been $y_i = 0$ the error reduces to\n",
    "$E_i(w) \\approx \\text{logsumexp}(0, z_i)$, incurring no error when $z_i \\ll 0$ and incuring an error of approximately $z_i$ when $z_i \\gg 0$. \n",
    "\n",
    "Below, we show the error for a range of outputs $z_i = x_i^\\top w$ when the target is $1$ or $0$. When the target is $y=1$, we penalize each negative output, if the target is $y =0$ positive outputs are penalized."
   ]
  },
  {
   "cell_type": "code",
   "execution_count": 8,
   "metadata": {},
   "outputs": [
    {
     "data": {
      "image/png": "[encoded data removed]",
      "text/plain": [
       "<matplotlib.figure.Figure at 0x1510b62780>"
      ]
     },
     "metadata": {},
     "output_type": "display_data"
    }
   ],
   "source": [
    "xx = np.arange(-10,10,0.1)\n",
    "y = 1\n",
    "f = [-y*z + logsumexp(0, z) for z in xx]\n",
    "f0 = [logsumexp(0, z) for z in xx]\n",
    "\n",
    "plt.figure(figsize=(12,5))\n",
    "plt.subplot(1,2,1)\n",
    "plt.plot(xx, f, 'r')\n",
    "plt.xlabel('$z_i$')\n",
    "plt.ylabel('$-l_i$')\n",
    "plt.title('Cost for examples with $y = $'+str(y))\n",
    "plt.subplot(1,2,2)\n",
    "plt.plot(xx, f0, 'r')\n",
    "plt.xlabel('$z_i$')\n",
    "plt.ylabel('$-l_i$')\n",
    "plt.title('Cost for examples with $y = 0$')\n",
    "\n",
    "plt.show()\n",
    "\n"
   ]
  },
  {
   "cell_type": "markdown",
   "metadata": {},
   "source": [
    "### Properties of the logsumexp function\n",
    "\n",
    "If \n",
    "$$\n",
    "f(z) = \\text{logsumexp}(0, z) = \\log(1 + \\exp(z))\n",
    "$$\n",
    "The derivative is\n",
    "$$\n",
    "\\frac{df(z)}{dz} = \\frac{\\exp(z)}{1 + \\exp(z)} = \\sigma(z)\n",
    "$$\n",
    "\n",
    "When $z$ is a vector, $f(z)$ is a vector. The derivative of\n",
    "$$\n",
    "\\sum_i f(z_i) = \\mathbf{1}^\\top f(z)\n",
    "$$\n",
    "\n",
    "$$\n",
    "\\frac{d \\mathbf{1}^\\top f(z)}{dz} = \\left(\\begin{array}{c} \\sigma(z_1) \\\\ \\vdots \\\\ \\sigma(z_N) \\end{array} \\right) \\equiv \\sigma(z)\n",
    "$$\n",
    "where the sigmoid function $\\sigma$ is applied elementwise to $z$.\n",
    "\n",
    "### Properties of the sigmoid function\n",
    "Note that\n",
    "\n",
    "\\begin{eqnarray}\n",
    "\\sigma(x) & = & \\frac{e^x}{(1+e^{-x})e^x} = \\frac{e^x}{1+e^{x}} \\\\\n",
    "1 - \\sigma(x) & = & 1 - \\frac{e^x}{1+e^{x}} = \\frac{1+e^{x} - e^x}{1+e^{x}} = \\frac{1}{1+e^{x}}\n",
    "\\end{eqnarray}\n",
    "\n",
    "\\begin{eqnarray}\n",
    "\\sigma'(x) & = & \\frac{e^x(1+e^{x}) - e^{x} e^x}{(1+e^{x})^2} = \\frac{e^x}{1+e^{x}}\\frac{1}{1+e^{x}} = \\sigma(x) (1-\\sigma(x))\n",
    "\\end{eqnarray}\n",
    "\n",
    "\\begin{eqnarray}\n",
    "\\log \\sigma(x) & = & -\\log(1+e^{-x}) = x - \\log(1+e^{x}) \\\\\n",
    "\\log(1 - \\sigma(x)) & = &  -\\log({1+e^{x}})\n",
    "\\end{eqnarray}\n",
    "\n",
    "\n",
    "\n",
    "\n",
    "Exercise: Plot the sigmoid function and its derivative."
   ]
  },
  {
   "cell_type": "markdown",
   "metadata": {},
   "source": [
    "Exercise: Show that \n",
    "$\\tanh(z) = 2\\sigma(2z) - 1$"
   ]
  },
  {
   "cell_type": "markdown",
   "metadata": {},
   "source": [
    "Solve \n",
    "\n",
    "$$\n",
    "\\text{maximize}\\; \\mathcal{L}(w)\n",
    "$$\n",
    "\n",
    "### Optimization via gradient ascent\n",
    "\n",
    "One way for\n",
    "optimization is gradient ascent\n",
    "\\begin{eqnarray}\n",
    "w^{(\\tau)} & \\leftarrow & w^{(\\tau-1)} + \\eta \\nabla_w {\\cal L}\n",
    "\\end{eqnarray}\n",
    "where\n",
    "\\begin{eqnarray}\n",
    "\\nabla_w {\\cal L} & = &\n",
    "\\begin{pmatrix}\n",
    "{\\partial {\\cal L}}/{\\partial w_1} \\\\\n",
    "{\\partial {\\cal L}}/{\\partial w_2} \\\\\n",
    "\\vdots \\\\\n",
    "{\\partial {\\cal L}}/{\\partial w_{D}}\n",
    "\\end{pmatrix}\n",
    "\\end{eqnarray}\n",
    "is the gradient vector and $\\eta$ is a learning rate.\n",
    "\n",
    "#### Evaluating the gradient (Short Derivation)\n",
    "\n",
    "$$\n",
    "\\mathcal{L}(w) = y^\\top X w - \\mathbf{1}^\\top \\text{logsumexp}(0, X w)\n",
    "$$\n",
    "\n",
    "$$\n",
    "\\frac{d\\mathcal{L}(w)}{dw} = X^\\top y - X^\\top \\sigma(X w) = X^\\top (y -\\sigma(X w))\n",
    "$$\n",
    "\n",
    "#### Evaluating the gradient (Long Derivation)\n",
    "The partial derivative of the loglikelihood with respect to the $k$'th entry of the weight vector is given by the chain rule as\n",
    "\\begin{eqnarray}\n",
    "\\frac{\\partial{\\cal L}}{\\partial w_k} & = & \\frac{\\partial{\\cal L}}{\\partial \\sigma(u)} \\frac{\\partial \\sigma(u)}{\\partial u} \\frac{\\partial u}{\\partial w_k}\n",
    "\\end{eqnarray}\n",
    "\n",
    "\\begin{eqnarray}\n",
    "{\\cal L}(w) & = & \\sum_{i : y_i=1} \\log \\sigma(w^\\top x_i) + \\sum_{i : y_i=0} \\log (1- \\sigma(w^\\top x_i))\n",
    "\\end{eqnarray}\n",
    "\n",
    "\\begin{eqnarray}\n",
    "\\frac{\\partial{\\cal L}(\\sigma)}{\\partial \\sigma} & = &  \\sum_{i : y_i=1} \\frac{1}{\\sigma(w^\\top x_i)} - \\sum_{i : y_i=0} \\frac{1}{1- \\sigma(w^\\top x_i)}\n",
    "\\end{eqnarray}\n",
    "\n",
    "\\begin{eqnarray}\n",
    "\\frac{\\partial \\sigma(u)}{\\partial u} & = & \\sigma(w^\\top x_i) (1-\\sigma(w^\\top x_i))\n",
    "\\end{eqnarray}\n",
    "\n",
    "\\begin{eqnarray}\n",
    "\\frac{\\partial w^\\top x_i }{\\partial w_k} & = & x_{i,k}\n",
    "\\end{eqnarray}\n",
    "\n",
    "\n",
    "So the gradient is\n",
    "\\begin{eqnarray}\n",
    "\\frac{\\partial{\\cal L}}{\\partial w_k} & = & \\sum_{i : y_i=1} \\frac{\\sigma(w^\\top x_i) (1-\\sigma(w^\\top x_i))}{\\sigma(w^\\top x_i)} x_{i,k} - \\sum_{i : y_i=0} \\frac{\\sigma(w^\\top x_i) (1-\\sigma(w^\\top x_i))}{1- \\sigma(w^\\top x_i)} x_{i,k} \\\\\n",
    "& = & \\sum_{i : y_i=1} {(1-\\sigma(w^\\top x_i))} x_{i,k} - \\sum_{i : y_i=0} {\\sigma(w^\\top x_i)} x_{i,k}\n",
    "\\end{eqnarray}\n",
    "\n",
    "We can write this expression more compactly by noting\n",
    "\\begin{eqnarray}\n",
    "\\frac{\\partial{\\cal L}}{\\partial w_k} & = & \\sum_{i : y_i=1} {(\\underbrace{1}_{y_i}-\\sigma(w^\\top x_i))} x_{i,k} + \\sum_{i : y_i=0} {(\\underbrace{0}_{y_i} - \\sigma(w^\\top x_i))} x_{i,k} \\\\\n",
    "& = & \\sum_i (y_i - \\sigma(w^\\top x_i)) x_{i,k}\n",
    "\\end{eqnarray}\n",
    "\n",
    "$\\newcommand{\\diag}{\\text{diag}}$"
   ]
  },
  {
   "cell_type": "markdown",
   "metadata": {},
   "source": [
    "## Test on a synthetic problem\n",
    "\n",
    "We generate a random dataset and than try to learn to classify this dataset\n"
   ]
  },
  {
   "cell_type": "code",
   "execution_count": 11,
   "metadata": {
    "collapsed": true
   },
   "outputs": [],
   "source": [
    "%matplotlib inline\n",
    "import numpy as np\n",
    "import matplotlib as mpl\n",
    "import matplotlib.pylab as plt\n",
    "\n",
    "# Generate a random logistic regression problem\n",
    "\n",
    "def sigmoid(t):\n",
    "    return np.exp(t)/(1+np.exp(t))\n",
    "\n",
    "\n",
    "def generate_toy_dataset(number_of_features=3, number_of_datapoints=20, styles = ['ob', 'xr']):\n",
    "\n",
    "    D = number_of_features\n",
    "    N = number_of_datapoints\n",
    "    \n",
    "\n",
    "    # Some random features\n",
    "    X = 2*np.random.rand(N,D)-1\n",
    "    X[:,0] = 1\n",
    "\n",
    "    # Generate a random paramater vector\n",
    "    w_true = np.random.randn(D,1)\n",
    "\n",
    "    # Generate class labels\n",
    "    pi = sigmoid(np.dot(X, w_true))\n",
    "    y = np.array([1 if u else 0 for u in np.random.rand(N,1) < pi]).reshape((N))\n",
    "\n",
    "    return X, y, w_true, D, N"
   ]
  },
  {
   "cell_type": "code",
   "execution_count": 15,
   "metadata": {},
   "outputs": [
    {
     "data": {
      "image/png": "[encoded data removed]",
      "text/plain": [
       "<matplotlib.figure.Figure at 0x1510af9978>"
      ]
     },
     "metadata": {},
     "output_type": "display_data"
    }
   ],
   "source": [
    "styles = ['ob', 'xr']\n",
    "X, y, w_true, D, N = generate_toy_dataset(number_of_features=3, number_of_datapoints=20, styles=styles)\n",
    "\n",
    "xl = -1.5; xr = 1.5; yl = -1.5; yr = 1.5\n",
    "\n",
    "fig = plt.figure(figsize=(5,5))\n",
    "plt.plot(X[y==1,1],X[y==1,2],styles[1])\n",
    "plt.plot(X[y==0,1],X[y==0,2],styles[0])\n",
    "\n",
    "ax = fig.gca()\n",
    "ax.set_ylim([yl, yr])\n",
    "ax.set_xlim([xl, xr])\n",
    "plt.show()"
   ]
  },
  {
   "cell_type": "code",
   "execution_count": 25,
   "metadata": {
    "collapsed": true
   },
   "outputs": [],
   "source": [
    "# Implement Gradient Descent\n",
    "w = np.random.randn(D)\n",
    "\n",
    "# Learnig rate\n",
    "eta = 0.05\n",
    "\n",
    "W = []\n",
    "MAX_ITER = 200\n",
    "for epoch in range(MAX_ITER):\n",
    "    W.append(w)\n",
    "    dL = np.dot(X.T, y-sigmoid(np.dot(X,w)))\n",
    "    w = w + eta*dL\n"
   ]
  },
  {
   "cell_type": "code",
   "execution_count": 27,
   "metadata": {},
   "outputs": [
    {
     "data": {
      "application/vnd.jupyter.widget-view+json": {
       "model_id": "5f092a932a7a4521a807fd9cf85e2433",
       "version_major": 2,
       "version_minor": 0
      },
      "text/html": [
       "<p>Failed to display Jupyter Widget of type <code>interactive</code>.</p>\n",
       "<p>\n",
       "  If you're reading this message in Jupyter Notebook or JupyterLab, it may mean\n",
       "  that the widgets JavaScript is still loading. If this message persists, it\n",
       "  likely means that the widgets JavaScript library is either not installed or\n",
       "  not enabled. See the <a href=\"https://ipywidgets.readthedocs.io/en/stable/user_install.html\">Jupyter\n",
       "  Widgets Documentation</a> for setup instructions.\n",
       "</p>\n",
       "<p>\n",
       "  If you're reading this message in another notebook frontend (for example, a static\n",
       "  rendering on GitHub or <a href=\"https://nbviewer.jupyter.org/\">NBViewer</a>),\n",
       "  it may mean that your frontend doesn't currently support widgets.\n",
       "</p>\n"
      ],
      "text/plain": [
       "interactive(children=(IntSlider(value=0, description='iteration', max=199), Output()), _dom_classes=('widget-interact',))"
      ]
     },
     "metadata": {},
     "output_type": "display_data"
    },
    {
     "data": {
      "text/plain": [
       "<function __main__.plot_boundry_of_weight>"
      ]
     },
     "execution_count": 27,
     "metadata": {},
     "output_type": "execute_result"
    }
   ],
   "source": [
    "xl = -1.5\n",
    "xr = 1.5\n",
    "yl = -1.5\n",
    "yr = 1.5\n",
    "\n",
    "fig = plt.figure(figsize=(5,5))\n",
    "ax = fig.gca()\n",
    "ax.set_ylim([yl, yr])\n",
    "ax.set_xlim([xl, xr])\n",
    "\n",
    "plt.plot(X[y==1,1],X[y==1,2],styles[1])\n",
    "plt.plot(X[y==0,1],X[y==0,2],styles[0])\n",
    "\n",
    "\n",
    "ln = plt.Line2D([],[],color='k')\n",
    "ln_left  = plt.Line2D([],[],ls= ':', color=styles[0][1])\n",
    "ln_right = plt.Line2D([],[],ls= ':', color=styles[1][1])\n",
    "\n",
    "ax.add_line(ln)\n",
    "ax.add_line(ln_left)\n",
    "ax.add_line(ln_right)\n",
    "plt.close(fig)\n",
    "ax.set_xlabel('$x_1$')\n",
    "ax.set_ylabel('$x_2$')\n",
    "ax.set_xticks(np.arange(xl,xr))\n",
    "ax.set_yticks(np.arange(yl,yr))\n",
    "ax.grid(True)\n",
    "def plot_boundry(w0,w1,w2):\n",
    "    if w1 != 0:\n",
    "        xa = -(w0+w2*yl)/w1\n",
    "        xb = -(w0+w2*yr)/w1\n",
    "        ln.set_xdata([xa, xb])\n",
    "        ln.set_ydata([yl, yr])\n",
    "\n",
    "        xa = -(-inv_sigmoid(0.25) + w0+w2*yl)/w1\n",
    "        xb = -(-inv_sigmoid(0.25) + w0+w2*yr)/w1\n",
    "        ln_left.set_xdata([xa, xb])\n",
    "        ln_left.set_ydata([yl, yr])\n",
    "\n",
    "        xa = -(-inv_sigmoid(0.75) + w0+w2*yl)/w1\n",
    "        xb = -(-inv_sigmoid(0.75) + w0+w2*yr)/w1\n",
    "        ln_right.set_xdata([xa, xb])\n",
    "        ln_right.set_ydata([yl, yr])\n",
    "        \n",
    "        \n",
    "    elif w2!=0:\n",
    "        ya = -(w0+w1*xl)/w2\n",
    "        yb = -(w0+w1*xr)/w2\n",
    "        ln.set_xdata([xl, xr])\n",
    "        ln.set_ydata([ya, yb])\n",
    "\n",
    "        ya = -(-inv_sigmoid(0.25) + w0+w1*xl)/w2\n",
    "        yb = -(-inv_sigmoid(0.25) + w0+w1*xr)/w2\n",
    "        ln_left.set_xdata([xl, xr])\n",
    "        ln_left.set_ydata([ya, yb])\n",
    "\n",
    "        ya = -(-inv_sigmoid(0.75) + w0+w1*xl)/w2\n",
    "        yb = -(-inv_sigmoid(0.75) + w0+w1*xr)/w2\n",
    "        ln_right.set_xdata([xl, xr])\n",
    "        ln_right.set_ydata([ya, yb])      \n",
    "        \n",
    "    else:\n",
    "        ln.set_xdata([])\n",
    "        ln.set_ydata([])\n",
    "        \n",
    "    display(fig)\n",
    "\n",
    "def plot_boundry_of_weight(iteration=0):\n",
    "    i = iteration\n",
    "    w = W[i]\n",
    "    plot_boundry(w[0],w[1],w[2])\n",
    "    \n",
    "interact(plot_boundry_of_weight, iteration=(0,len(W)-1))"
   ]
  },
  {
   "cell_type": "markdown",
   "metadata": {},
   "source": [
    "## Second order optimization\n",
    "\n",
    "Newton's method"
   ]
  },
  {
   "cell_type": "markdown",
   "metadata": {},
   "source": [
    "#### Evaluating the Hessian\n",
    "\n",
    "The Hessian is \n",
    "\\begin{eqnarray}\n",
    "\\frac{\\partial^2{\\cal L}}{\\partial w_k \\partial w_r} & = & - \\sum_i (1-\\sigma(w^\\top x_i)) \\sigma(w^\\top x_i) x_{i,k} x_{i,r} \\\\\n",
    "\\pi & \\equiv & \\sigma(X w) \\\\\n",
    "\\nabla \\nabla^\\top \\mathcal{L}& = & -X^\\top \\diag(\\pi(1 - \\pi)) X \n",
    "\\end{eqnarray}\n",
    "\n",
    "\n",
    "The update rule is\n",
    "\\begin{eqnarray}\n",
    "w^{(\\tau)} = w^{(\\tau-1)} + \\eta X^\\top (y-\\sigma(X w))\n",
    "\\end{eqnarray}"
   ]
  },
  {
   "cell_type": "code",
   "execution_count": 339,
   "metadata": {
    "scrolled": true
   },
   "outputs": [
    {
     "name": "stdout",
     "output_type": "stream",
     "text": [
      "[0 1]\n",
      "[2 3 4]\n"
     ]
    },
    {
     "data": {
      "image/png": "[encoded data removed]",
      "text/plain": [
       "<matplotlib.figure.Figure at 0x11f31ef98>"
      ]
     },
     "metadata": {},
     "output_type": "display_data"
    }
   ],
   "source": [
    "#x = np.matrix('[-2,1; -1,2; 1,5; -1,1; -3,-2; 1,1] ')\n",
    "x = np.matrix('[-0.5,0.5;2,-1;-1,-1;1,1;1.5,0.5]')\n",
    "#y = np.matrix('[0,0,1,0,0,1]').T\n",
    "y = np.matrix('[0,0,1,1,1]').T\n",
    "N = x.shape[0]\n",
    "#A = np.hstack((np.power(x,0), np.power(x,1), np.power(x,2)))\n",
    "#X = np.hstack((x, np.ones((N,1)) ))\n",
    "X = x\n",
    "\n",
    "def sigmoid(x):\n",
    "    return 1/(1+np.exp(-x))\n",
    "\n",
    "\n",
    "idx = np.nonzero(y)[0]\n",
    "idxc = np.nonzero(1-y)[0]\n",
    "\n",
    "fig = plt.figure(figsize=(8,4))\n",
    "plt.plot(x[idx,0], x[idx,1], 'rx')\n",
    "plt.plot(x[idxc,0], x[idxc,1], 'bo')\n",
    "fig.gca().set_xlim([-1.1,2.1])\n",
    "fig.gca().set_ylim([-1.1,1.1])\n",
    "print(idxc)\n",
    "print(idx)\n",
    "\n",
    "plt.show()"
   ]
  },
  {
   "cell_type": "code",
   "execution_count": 341,
   "metadata": {},
   "outputs": [
    {
     "data": {
      "image/png": "[encoded data removed]",
      "text/plain": [
       "<matplotlib.figure.Figure at 0x11dacf668>"
      ]
     },
     "metadata": {},
     "output_type": "display_data"
    }
   ],
   "source": [
    "from itertools import product\n",
    "\n",
    "def ellipse_line(A, mu, col='b'):\n",
    "    '''\n",
    "    Creates an ellipse from short line segments y = A x + \\mu \n",
    "    where x is on the unit circle.\n",
    "    '''\n",
    "    N = 18\n",
    "    th = np.arange(0, 2*np.pi+np.pi/N, np.pi/N)\n",
    "    X = np.mat(np.vstack((np.cos(th),np.sin(th))))\n",
    "    \n",
    "    Y = A*X\n",
    "    ln = plt.Line2D(mu[0]+Y[0,:],mu[1]+Y[1,:],markeredgecolor='w', linewidth=1, color=col)\n",
    "    return ln\n",
    "\n",
    "\n",
    "left = -5\n",
    "right = 3\n",
    "bottom = -5\n",
    "top = 7\n",
    "step = 0.1\n",
    "W0 = np.arange(left,right, step)\n",
    "W1 = np.arange(bottom,top, step)\n",
    "\n",
    "LLSurf = np.zeros((len(W1),len(W0)))\n",
    "\n",
    "# y^\\top X w - \\mathbf{1}^\\top \\text{logsumexp}(0, X w)\n",
    "vmax = -np.inf\n",
    "vmin = np.inf\n",
    "for i,j in product(range(len(W1)), range(len(W0))):\n",
    "    w = np.matrix([W0[j], W1[i]]).T\n",
    "    p = X*w\n",
    "    ll = y.T*p - np.sum(np.log(1+np.exp(p)))\n",
    "    \n",
    "    vmax = np.max((vmax, ll))\n",
    "    vmin = np.min((vmin, ll))\n",
    "    \n",
    "    LLSurf[i,j] = ll\n",
    "\n",
    "fig = plt.figure(figsize=(10,10))\n",
    "plt.imshow(LLSurf, interpolation='nearest', \n",
    "           vmin=vmin, vmax=vmax,origin='lower',\n",
    "           extent=(left,right,bottom,top),cmap=plt.cm.jet)\n",
    "plt.xlabel('w0')\n",
    "plt.ylabel('w1')\n",
    "plt.colorbar()\n",
    "\n",
    "\n",
    "W0 = np.arange(left+2,right-5, 12*step)\n",
    "W1 = np.arange(bottom+1,top-10, 12*step)\n",
    "\n",
    "for i,j in product(range(len(W1)), range(len(W0))):\n",
    "    w = np.matrix([W0[j], W1[i]]).T\n",
    "    #w = np.mat([-1,1]).T\n",
    "\n",
    "    p = sigmoid(X*w)\n",
    "    dw = 0.2*X.T*(y-p)\n",
    "    #print(p)\n",
    "    S = np.mat(np.diag(np.asarray(np.multiply(p,1-p)).flatten()))\n",
    "    H = X.T*S*X\n",
    "    dw_nwt = 0.08*H.I*X.T*(y-p)\n",
    "\n",
    "    C = np.linalg.cholesky(H.I)\n",
    "#    plt.hold(True)\n",
    "    ln = ellipse_line(C/3., w, 'w')\n",
    "    ax = fig.gca()\n",
    "    ax.add_line(ln)\n",
    "    ln2 = plt.Line2D((float(w[0]), float(w[0]+dw[0])), (float(w[1]), float(w[1]+dw[1])),color='y')\n",
    "    ax.add_line(ln2)\n",
    "    ln3 = plt.Line2D((float(w[0]), float(w[0]+dw_nwt[0])), (float(w[1]), float(w[1]+dw_nwt[1])),color='w')\n",
    "    ax.add_line(ln3)\n",
    "    plt.plot(w[0,0],w[1,0],'.w')\n",
    "\n",
    "    \n",
    "    \n",
    "    #print(C)\n",
    "    #print(S)\n",
    "\n",
    "ax.set_xlim((left,right))\n",
    "ax.set_ylim((bottom,top))\n",
    "plt.show()"
   ]
  },
  {
   "cell_type": "code",
   "execution_count": 114,
   "metadata": {
    "scrolled": true
   },
   "outputs": [
    {
     "name": "stdout",
     "output_type": "stream",
     "text": [
      "[[0]\n",
      " [0]\n",
      " [1]\n",
      " [1]\n",
      " [1]]\n",
      "[[-0.5  0.5]\n",
      " [ 2.  -1. ]\n",
      " [-1.  -1. ]\n",
      " [ 1.   1. ]\n",
      " [ 2.   1. ]]\n",
      "[[1]\n",
      " [2]]\n",
      "[[ 0.62245933]\n",
      " [ 0.5       ]\n",
      " [ 0.04742587]\n",
      " [ 0.95257413]\n",
      " [ 0.98201379]]\n",
      "[[ 0.          0.59561717]\n",
      " [ 0.          0.30966921]\n",
      " [ 1.          0.32737446]\n",
      " [ 1.          0.67262554]\n",
      " [ 1.          0.66660954]]\n",
      "[[-0.02719403]\n",
      " [ 0.74727817]]\n"
     ]
    }
   ],
   "source": [
    "print(y)\n",
    "print(X)\n",
    "\n",
    "#w = np.random.randn(3,1)\n",
    "\n",
    "w = np.mat('[1;2]')\n",
    "\n",
    "print(w)\n",
    "\n",
    "print(sigmoid(X*w))\n",
    "eta = 0.1\n",
    "\n",
    "for i in range(10000):\n",
    "    pr = sigmoid(X*w)\n",
    "    w = w + eta*X.T*(y-pr)\n",
    "    \n",
    "print(np.hstack((y,pr)))\n",
    "print(w)"
   ]
  },
  {
   "cell_type": "markdown",
   "metadata": {},
   "source": [
    "---------------------------\n",
    "# Optimization Frameworks\n",
    "---------------------------\n",
    "## CVX -- Convex Optimization\n",
    "\n",
    "CVX is a framework that can be used for solving convex optimization problems. \n",
    "\n",
    "Convex optimization includes many problems of interest; for example the minimization of the negative loglikelihood of the logistic regression is a convex problem. S\n",
    "\n",
    "Unfortunately, many important problems and interesting problems "
   ]
  },
  {
   "cell_type": "code",
   "execution_count": null,
   "metadata": {
    "collapsed": true
   },
   "outputs": [],
   "source": [
    "%matplotlib inline\n",
    "from cvxpy import *\n",
    "import numpy as np\n",
    "import matplotlib as mpl\n",
    "import matplotlib.pylab as plt"
   ]
  },
  {
   "cell_type": "markdown",
   "metadata": {},
   "source": [
    "### Selecting relevant features with regularization\n",
    "\n",
    "Below we generate a dataset with some irrelevant features that are not informative for classification"
   ]
  },
  {
   "cell_type": "markdown",
   "metadata": {},
   "source": [
    "Maximize\n",
    "\n",
    "$$\n",
    "\\mathcal{L}(w) + \\lambda \\|w\\|_p\n",
    "$$"
   ]
  },
  {
   "cell_type": "code",
   "execution_count": 380,
   "metadata": {
    "collapsed": true
   },
   "outputs": [],
   "source": [
    "def sigmoid(x):\n",
    "    return 1/(1+np.exp(-x))\n",
    "\n",
    "# Number of data points\n",
    "N = 1000\n",
    "\n",
    "# Number of relevant features\n",
    "K = 10\n",
    "\n",
    "# Number of irrelevant features\n",
    "Ke = 30\n",
    "\n",
    "# Generate random features\n",
    "X = np.matrix(np.random.randn(N, K + Ke))\n",
    "\n",
    "# Generate parameters and set the irrelevant ones to zero\n",
    "w_true = np.random.randn(K + Ke,1)\n",
    "w_true[K:] = 0\n",
    "\n",
    "p = sigmoid(X*w_true)\n",
    "u = np.random.rand(N,1)\n",
    "y = (u < p)\n",
    "y = y.astype(np.float64)\n"
   ]
  },
  {
   "cell_type": "code",
   "execution_count": 389,
   "metadata": {
    "scrolled": true
   },
   "outputs": [
    {
     "data": {
      "image/png": "[encoded data removed]",
      "text/plain": [
       "<matplotlib.figure.Figure at 0x11efefba8>"
      ]
     },
     "metadata": {},
     "output_type": "display_data"
    }
   ],
   "source": [
    "# Regularization coefficient\n",
    "lam = 100.\n",
    "\n",
    "zero_vector = np.zeros((N,1))\n",
    "# Construct the problem.\n",
    "w = Variable(K+Ke)\n",
    "objective = Minimize(lam*norm(w, np.inf ) -y.T*X*w + sum_entries(log_sum_exp(hstack(zero_vector, X*w),axis=1)))\n",
    "prob = Problem(objective)\n",
    "\n",
    "# The optimal objective is returned by prob.solve().\n",
    "result = prob.solve()\n",
    "\n",
    "# The optimal value for x is stored in x.value.\n",
    "#print(w.value)\n",
    "\n",
    "plt.figure(figsize=(10,4))\n",
    "plt.stem(w.value, markerfmt='ob')\n",
    "plt.stem(w_true, markerfmt='xr')\n",
    "plt.gca().set_xlim((-1, K+Ke))\n",
    "plt.legend(['Estimated', 'True'])\n",
    "plt.show()\n",
    "\n"
   ]
  },
  {
   "cell_type": "markdown",
   "metadata": {},
   "source": [
    "## Optimization with pytorch"
   ]
  },
  {
   "cell_type": "code",
   "execution_count": 123,
   "metadata": {
    "collapsed": true
   },
   "outputs": [],
   "source": [
    "X_np, y_np, w_true_np, M, N = generate_toy_dataset(number_of_features=3, number_of_datapoints=20)"
   ]
  },
  {
   "cell_type": "markdown",
   "metadata": {},
   "source": [
    "### Gradient Descent for Logistic Regression: Reference implementation in numpy"
   ]
  },
  {
   "cell_type": "code",
   "execution_count": 124,
   "metadata": {
    "scrolled": true
   },
   "outputs": [
    {
     "name": "stdout",
     "output_type": "stream",
     "text": [
      "[-0.96195283 -0.21886467  0.83477378]\n"
     ]
    }
   ],
   "source": [
    "# Initialization \n",
    "w_np = np.ones(M)\n",
    "\n",
    "# Learnig rate\n",
    "eta = 0.01\n",
    "MAX_ITER = 100\n",
    "\n",
    "for epoch in range(MAX_ITER):\n",
    "    sig = sigmoid(np.dot(X_np,w_np))\n",
    "\n",
    "    # Gradient dLL/dw -- symbolically derived and hard coded\n",
    "    w_grad = np.dot(X_np.T, y_np-sig)\n",
    "    \n",
    "    # Gradient ascent step\n",
    "    w_np = w_np + eta*w_grad\n",
    "\n",
    "print(w_np)"
   ]
  },
  {
   "cell_type": "markdown",
   "metadata": {},
   "source": [
    "### Gradient Descent for Logistic Regression: First implementation in pytorch"
   ]
  },
  {
   "cell_type": "code",
   "execution_count": 125,
   "metadata": {
    "collapsed": true
   },
   "outputs": [],
   "source": [
    "import torch\n",
    "import torch.autograd\n",
    "from torch.autograd import Variable\n",
    "\n",
    "#sigmoid_f = torch.nn.Sigmoid()\n",
    "def sigmoid_f(x):\n",
    "    return 1./(1. + torch.exp(-x))\n",
    "\n",
    "X = Variable(torch.from_numpy(X_np).double())\n",
    "y = Variable(torch.from_numpy(y_np.reshape(N,1)).double())"
   ]
  },
  {
   "cell_type": "code",
   "execution_count": 126,
   "metadata": {},
   "outputs": [
    {
     "name": "stdout",
     "output_type": "stream",
     "text": [
      "[[-0.96195283]\n",
      " [-0.21886467]\n",
      " [ 0.83477378]]\n"
     ]
    }
   ],
   "source": [
    "# Implementation \n",
    "w = Variable(torch.ones(M,1).double(), requires_grad=True)\n",
    "\n",
    "eta = 0.01\n",
    "MAX_ITER = 100\n",
    "for epoch in range(MAX_ITER): \n",
    "    sig = sigmoid_f(torch.matmul(X, w))\n",
    "\n",
    "    # Compute the loglikelihood\n",
    "    LL = torch.sum(y*torch.log(sig) + (1-y)*torch.log(1-sig))    \n",
    "    # Compute the gradients by automated differentiation\n",
    "    LL.backward()\n",
    "    \n",
    "    # The gradient ascent step\n",
    "    w.data.add_(eta*w.grad.data)\n",
    "    \n",
    "    # Reset the gradients, as otherwise they are accumulated in w.grad\n",
    "    w.grad.zero_() \n",
    "    \n",
    "print(w.data.numpy())"
   ]
  },
  {
   "cell_type": "code",
   "execution_count": 334,
   "metadata": {},
   "outputs": [
    {
     "name": "stdout",
     "output_type": "stream",
     "text": [
      "{\n",
      "  \"shell_port\": 65415,\n",
      "  \"iopub_port\": 65416,\n",
      "  \"stdin_port\": 65417,\n",
      "  \"control_port\": 65418,\n",
      "  \"hb_port\": 65419,\n",
      "  \"ip\": \"127.0.0.1\",\n",
      "  \"key\": \"40c24992-b940437a6d68edf64080bfde\",\n",
      "  \"transport\": \"tcp\",\n",
      "  \"signature_scheme\": \"hmac-sha256\",\n",
      "  \"kernel_name\": \"\"\n",
      "}\n",
      "\n",
      "Paste the above JSON into a file, and connect with:\n",
      "    $> jupyter <app> --existing <file>\n",
      "or, if you are local, you can connect with just:\n",
      "    $> jupyter <app> --existing kernel-ab030b1c-c549-4b31-8e5e-c11e1befeaa2.json\n",
      "or even just:\n",
      "    $> jupyter <app> --existing\n",
      "if this is the most recent Jupyter kernel you have started.\n"
     ]
    }
   ],
   "source": [
    "%connect_info"
   ]
  }
 ],
 "metadata": {
  "kernelspec": {
   "display_name": "Python (py27)",
   "language": "python",
   "name": "py27"
  },
  "language_info": {
   "codemirror_mode": {
    "name": "ipython",
    "version": 2
   },
   "file_extension": ".py",
   "mimetype": "text/x-python",
   "name": "python",
   "nbconvert_exporter": "python",
   "pygments_lexer": "ipython2",
   "version": "2.7.13"
  },
  "toc": {
   "nav_menu": {},
   "number_sections": true,
   "sideBar": true,
   "skip_h1_title": false,
   "toc_cell": false,
   "toc_position": {},
   "toc_section_display": "block",
   "toc_window_display": false
  }
 },
 "nbformat": 4,
 "nbformat_minor": 1
}
