{
 "cells": [
  {
   "cell_type": "markdown",
   "metadata": {},
   "source": [
    "# Logistic Regression\n",
    "\n",
    "\n",
    "We are given a dataset, such as the one below:\n",
    "\n",
    "| Class| Feature1 | Feature2  |\n",
    "|---| |---|\n",
    "| 0 |5.7| 3.1|\n",
    "| 1|-0.3|2 |\n",
    "|---| |---|\n",
    "|  $y_i$| $x_{i,1}$ | $x_{i,2}$ |\n",
    "|---| |---|\n",
    "| 1|0.4|5 |\n",
    "\n",
    "The goal is learning to predict the labels of a future dataset, where we are given its features:\n",
    "\n",
    "| Class| Feature1 | Feature2  |\n",
    "|---| |---|\n",
    "| ? |4.8| 3.2|\n",
    "| ? |-0.7|2.4 |\n",
    "|---| |---|\n",
    "\n",
    "More formally, the dataset consists of $N$ feature vectors $x_i$ and the associated labels $y_i$ for each example $i=1\\dots N$. The labels $y$ are referred also as the class label -- but in reality labels could be any answer to a true-false question, such as 'is object $i$ a flower?' or 'will customer $i$ by this product in the next month?'. We can arrange the features in a matrix $X$ and the labels in a vector $y$:\n",
    "\n",
    "\\begin{eqnarray}\n",
    "X & = &  \\begin{pmatrix}\n",
    "  x_{1,1} & x_{1,2} & \\dots & x_{1,D} \\\\\n",
    "  x_{2,1} & x_{2,2} & \\dots & x_{2,D} \\\\\n",
    "  \\vdots & \\vdots & \\vdots & \\vdots  \\\\\n",
    "  x_{i,1} & x_{i,2} & \\dots & x_{i,D}  \\\\\n",
    "  \\vdots & \\vdots & \\vdots & \\vdots  \\\\\n",
    "  x_{N,1} & x_{N,2} & \\dots & x_{N,D} \\\\\n",
    "\\end{pmatrix} = \n",
    "\\begin{pmatrix}\n",
    "x_1^\\top \\\\\n",
    "x_2^\\top \\\\\n",
    "\\dots \\\\\n",
    "x_i^\\top \\\\\n",
    "\\dots \\\\\n",
    "x_N^\\top\n",
    "\\end{pmatrix} \n",
    "\\\\\n",
    "{y} & = & \\begin{pmatrix}\n",
    "y_1 \\\\\n",
    "y_2 \\\\\n",
    "\\vdots \\\\\n",
    "y_i \\\\\n",
    "\\vdots \\\\\n",
    "y_N\n",
    "\\end{pmatrix}\n",
    "\\end{eqnarray}\n",
    "where $x_{i,j}$ denotes the $j$'th feature of the $i$'th data point. It is customary, to set a column entirely to $1$'s, for example we take $x_{i,D}=1$ for all $i$. This 'feature' is artificially added to the dataset to allow a slightly more flexible model. \n",
    "\n",
    "Logistic Regression is a method that can be used to solve this binary classification problem. \n",
    "In logistic regression, we consider the case of binary classification where $y_i \\in \\{0,1\\}$. It is possible to use other encodings such as $y_i \\in \\{-1,1\\}$; the derivations are similar.\n",
    "\n",
    "The key idea is learning a mapping from a feature vector $x$ to a probability, a number between $0$ and $1$. \n",
    "\n",
    "The model is \n",
    "$$\n",
    "\\Pr\\{y_i = 1\\} = \\sigma(x_i^\\top w)\n",
    "$$\n",
    "Here,\n",
    "$\\sigma(x)$ is the sigmoid function defined as\n",
    "\\begin{eqnarray}\n",
    "\\sigma(x) & = & \\frac{1}{1+e^{-x}}\n",
    "\\end{eqnarray}\n",
    "\n",
    "This is a generative model. To understand logistic regression as a generative model, consider the following metaphor: assume that for each data instance $x_i$, we select a biased coin with probability $p(y_i = 1| w, x^\\top_i) = \\pi_i = \\sigma(x_i^\\top w)$, throw the coin and label the data item with class $y_i$ accordingly. \n",
    "\n",
    "Mathematically, we assume that each label $y_i$, or more precisely the answer to our yes-no question rearding the object $i$ with feature vector $w$ is drawn from a Bernoulli distribution. That is: \n",
    "\\begin{eqnarray}\n",
    "\\pi_i & = & \\sigma(x_i^\\top w) \\\\\n",
    "y_i & \\sim &\\mathcal{BE}(\\pi)\n",
    "\\end{eqnarray}\n",
    "\n",
    "Here, we think of a biased coin with two sides denoted as $H$ (head) and $T$ (tail) with probability of side $H$ as $\\pi$, and consequently the probability of side $T$ with $1-\\pi$. \n",
    "\n",
    "We denote the outcome of the coin toss with the random variable $y \\in \\{0, 1\\}$. \n",
    "\n",
    "For each throw $i$, $y_i$ is the answer to the question 'Is the outcome heads?'. We write the probability as $p(y = 1) = \\pi$ and probability of tails is $p(y = 0) = 1-\\pi$. More compactly, the probability of the outcome of a toss, provided we know $\\pi$, is written as\n",
    "\\begin{eqnarray}\n",
    "p(y|\\pi) = \\pi^y(1-\\pi)^y\n",
    "\\end{eqnarray}"
   ]
  },
  {
   "cell_type": "markdown",
   "metadata": {},
   "source": [
    "### Maximum Likelihood\n",
    "\n",
    "Maximum likelihood (ML) is a method for choosing the unknown parameters of a probability distribution, given some data that is assumed to be drawn from this distribution. The distribution itself is referred as the probability model, or often just the model.\n",
    "\n",
    "#### Example\n",
    "Suppose we are given only $5$ outcomes when a coin is thrown:\n",
    "$$\n",
    "H, T, H, T, T\n",
    "$$\n",
    "\n",
    "What is the probabilty that the outcome is, say heads $H$ if we know that the coin is biased ?.\n",
    "\n",
    "One reasonable answer may be the frequency of heads, $2/5$.\n",
    "\n",
    "The ML solution coincides with this answer. For a derivation, \n",
    "we define $y_i$ for $i = 1,2,\\dots, 5$ as\n",
    "\n",
    "$$\n",
    "y_i  = \\left\\{ \\begin{array}{cc} 1 & \\text{coin $i$ is H} \\\\ 0 & \\text{coin $i$ is T}  \\end{array} \\right. \n",
    "$$\n",
    "hence \n",
    "$$\n",
    "y = [1,0,1,0,0]^\\top\n",
    "$$\n",
    "\n",
    "If we assume that the outcomes were independent, the probability of observing the above sequence as a function of the parameter $\\pi$ is the product of each individual probability\n",
    "$$\n",
    "\\Pr\\{y = [1,0,1,0,0]^\\top\\} = \\pi \\cdot (1-\\pi) \\cdot \\pi \\cdot (1-\\pi) \\cdot(1-\\pi) \n",
    "$$\n",
    "\n",
    "We could try finding the $\\pi$ value that maximizes this function. We will call the corresponding value as the maximum likelhood solution, and denote it as $\\pi^*$. \n",
    "\n",
    "It is often more convenient to work with the logarithm of this function, known as the loglikelihood function.\n",
    "\n",
    "$$\n",
    "\\mathcal{L}(\\pi) = 2 \\log \\pi + 3 \\log (1-\\pi)\n",
    "$$\n",
    "For finding the maximum, we take the derivative with respect to $\\pi$ and set to zero.\n",
    "$$\n",
    "\\frac{d \\mathcal{L}(\\pi)}{d \\pi} = \\frac{2}{\\pi^*} -  \\frac{3}{1-\\pi^*} = 0 \n",
    "$$\n",
    "When we solve we obtain $$ \\pi^* = \\frac{2}{5} $$"
   ]
  },
  {
   "cell_type": "markdown",
   "metadata": {},
   "source": [
    "More generally, when we observe $y_i$ for $i=1 \\dots N$, the loglikelihood is\n",
    "\n",
    "\\begin{eqnarray}\n",
    "\\mathcal{L}(\\pi)& = & \\log \\left(\\prod_{i : y_i=1} \\pi \\right) \\left(\\prod_{i : y_i=0}(1- \\pi) \\right) \\\\\n",
    "& = & \\log \\prod_{i = 1}^N \\pi^{y_i} (1- \\pi)^{1-y_i} \\\\\n",
    "& = & \\log  \\pi^{ \\sum_i y_i} (1- \\pi)^{\\sum_i (1-y_i) } \\\\\n",
    "& = & \\left(\\sum_i y_i\\right) \\log \\pi + \\left(\\sum_i (1-y_i) \\right) \\log (1- \\pi) \n",
    "\\end{eqnarray}\n",
    "\n",
    "If we define the number of observed $0$'s and $1$'s by $c_0$ and $c_1$ respectively, we have \n",
    "\n",
    "\\begin{eqnarray}\n",
    "\\mathcal{L}(\\pi)& = & c_1 \\log \\pi + c_0 \\log (1- \\pi) \n",
    "\\end{eqnarray}\n",
    "\n",
    "Taking the derivative and setting to $0$ results in\n",
    "\n",
    "$$\n",
    "\\pi^* = \\frac{c_1}{c_0+c_1} = \\frac{c_1}{N} \n",
    "$$\n",
    "\n"
   ]
  },
  {
   "cell_type": "markdown",
   "metadata": {},
   "source": [
    "### Logistic Regression: Learning the parameters\n",
    "\n",
    "The logistic regression model is very similar to the coin model. The main difference is that we use a specific coin with a probability $\\sigma(x_i^\\top w)$ that depends on the specific feature vector and the global parameter vector $w$.  \n",
    "The likelihood of the observations, that is the probability of observing the class sequence is\n",
    "\\begin{eqnarray}\n",
    "p(y_1, y_2, \\dots, y_N|w, X ) &=& \\left(\\prod_{i : y_i=1} \\sigma(x_i^\\top w) \\right) \\left(\\prod_{i : y_i=0}(1- \\sigma(x_i^\\top w)) \\right)\n",
    "\\end{eqnarray}\n",
    "Here, the left product is the expression for examples from class $1$ and the right product is for examples from class $0$.\n",
    "We will look for the particular setting of the weight vector, the maximum likelihood solution, denoted by $w^*$.\n",
    "\\begin{eqnarray}\n",
    "w^* & = & \\arg\\max_{w} {\\cal L}(w)\n",
    "\\end{eqnarray}\n",
    "where the loglikelihood function\n",
    "\\begin{eqnarray}\n",
    "{\\cal L}(w) & = & \\log p(y_1, y_2, \\dots, y_N|w, x_1, x_2, \\dots, x_N ) \\\\\n",
    "& = & \\sum_{i : y_i=1} \\log \\sigma(x_i^\\top w) + \\sum_{i : y_i=0} \\log (1- \\sigma(x_i^\\top w)) \\\\\n",
    "& = & \\sum_{i : y_i=1} x_i^\\top w - \\sum_{i : y_i=1} \\log(1+e^{x_i^\\top w}) - \\sum_{i : y_i=0}\\log({1+e^{x_i^\\top w}}) \\\\\n",
    "& = & \\sum_i y_i x_i^\\top w - \\sum_{i} \\log(1+e^{x_i^\\top w}) \\\\\n",
    "& = & y^\\top X w - \\mathbf{1}^\\top \\text{logsumexp}(0, X w)\n",
    "\\end{eqnarray}\n",
    "\n",
    "$\\mathbf{1}$ is a vector of ones; note that when we premultiply a vector $v$ by $\\mathbf{1}^T$ we get the sum of the entries of $v$, i.e. $\\mathbf{1}^T v = \\sum_i v_i$.\n",
    "\n",
    "We define the function $\\text{logsumexp}(a, b)$ as follows: When $a$ and $b$ are scalars, \n",
    "$$\n",
    "f = \\text{logsumexp}(a, b) \\equiv \\log(e^a + e^b)\n",
    "$$\n",
    "\n",
    "When $a$ and $b$ are vectors of the same size, $f$ is the same size as $a$ and $b$ where each entry of $f$ is\n",
    "$$\n",
    "f_i = \\text{logsumexp}(a_i, b_i) \\equiv \\log(e^{a_i} + e^{b_i})\n",
    "$$\n",
    "\n",
    "Unlike the least-squares problem, an expression for direct evaluation of $w^*$ is not known so we need to resort to numerical optimization. \n",
    "\n",
    "Before we proceed, it is informative to look at the shape of $f(x) = \\text{logsumexp}(0, x)$.\n",
    "When $x$ is negative and far smaller than zero, $f = 0$ and for large values of $x$, $f(x) = x$. Hence it looks like a so-called hinge function $h$\n",
    "$$\n",
    "h(x) = \\left\\{ \\begin{array}{cc} 0 & x < 0 \\\\x & x \\geq 0  \\end{array} \\right.\n",
    "$$\n",
    "\n",
    "We define\n",
    "$$\n",
    "f_\\alpha(x) = \\frac{1}{\\alpha}\\text{logsumexp}(0, \\alpha x)\n",
    "$$\n",
    "When $\\alpha = 1$, we have the original logsumexp function. For larger $\\alpha$, it becomes closer to the hinge loss."
   ]
  },
  {
   "cell_type": "code",
   "execution_count": 35,
   "metadata": {
    "collapsed": false,
    "scrolled": false
   },
   "outputs": [
    {
     "data": {
      "image/png": "[encoded data removed]",
      "text/plain": [
       "<matplotlib.figure.Figure at 0x114b48c50>"
      ]
     },
     "metadata": {},
     "output_type": "display_data"
    }
   ],
   "source": [
    "%matplotlib inline\n",
    "import numpy as np\n",
    "import matplotlib as mpl\n",
    "import matplotlib.pylab as plt\n",
    "\n",
    "def logsumexp(a,b):\n",
    "    m = np.max([a,b])\n",
    "    return m + np.log(np.exp(a-m) + np.exp(b-m))\n",
    "\n",
    "def hinge(x):\n",
    "    return x if x>0 else 0\n",
    "\n",
    "xx = np.arange(-5,3,0.1)\n",
    "\n",
    "plt.figure(figsize=(10,8))\n",
    "for i,alpha in enumerate([1,2,5,10]):\n",
    "    f = [logsumexp(0, alpha*z)/alpha for z in xx]\n",
    "    h = [hinge(z) for z in xx]\n",
    "    \n",
    "    plt.subplot(2,2,i+1)\n",
    "    plt.plot(xx, f, 'r')\n",
    "    plt.plot(xx, h, 'k:')\n",
    "    plt.xlabel('x')\n",
    "    #plt.title('a = '+ str(alpha))\n",
    "    if alpha==1:\n",
    "        plt.legend([ 'logsumexp(0,x)','hinge(x)' ], loc=2 )    \n",
    "    else:\n",
    "        plt.legend([ 'logsumexp(0,{a} x)/{a}'.format(a=alpha),'hinge(x)' ], loc=2 )\n",
    "\n",
    "    \n",
    "    \n",
    "plt.show()"
   ]
  },
  {
   "cell_type": "markdown",
   "metadata": {},
   "source": [
    "The resemblance of the logsumexp function to an hinge function provides a nice interpretation of the log likelihood. Consider the negative log likelihood written in terms of the contributions of each single item:\n",
    "\n",
    "$$\n",
    "- \\mathcal{L}(\\pi) = - \\sum_i l_i(w)\n",
    "$$\n",
    "$$\n",
    "-l_i(w) = - y_i x_i^\\top w + \\text{logsumexp}(0, x_i^\\top w) \n",
    "$$\n",
    "\n",
    "This function provides the 'error' made on a single item. Suppose, $y_i = 1$ and $z_i = x_i^\\top w$. When $z \\gg 0$, the item $i$ will be classified correctly and won't contribute to the total error. However, when $z \\ll 0$, the item will have a very low probability for being classified correctly.    "
   ]
  },
  {
   "cell_type": "code",
   "execution_count": 46,
   "metadata": {
    "collapsed": false
   },
   "outputs": [
    {
     "data": {
      "image/png": "[encoded data removed]",
      "text/plain": [
       "<matplotlib.figure.Figure at 0x114813a10>"
      ]
     },
     "metadata": {},
     "output_type": "display_data"
    }
   ],
   "source": [
    "xx = np.arange(-10,10,0.1)\n",
    "y = 1\n",
    "f = [-y*z + logsumexp(0, z) for z in xx]\n",
    "\n",
    "plt.plot(xx, f, 'r')\n",
    "plt.xlabel('z_i')\n",
    "plt.ylabel('-l_i')\n",
    "plt.title('y = '+str(y))\n",
    "plt.show()\n",
    "\n"
   ]
  },
  {
   "cell_type": "markdown",
   "metadata": {},
   "source": [
    "### Properties of the logsumexp function\n",
    "\n",
    "If \n",
    "$$\n",
    "f(z) = \\text{logsumexp}(0, z) = \\log(1 + \\exp(z))\n",
    "$$\n",
    "The derivative is\n",
    "$$\n",
    "\\frac{df(z)}{dz} = \\frac{\\exp(z)}{1 + \\exp(z)} = \\sigma(z)\n",
    "$$\n",
    "\n",
    "When $z$ is a vector, $f(z)$ is a vector. The derivative of\n",
    "$$\n",
    "\\sum_i f(z_i) = \\mathbf{1}^\\top f(z)\n",
    "$$\n",
    "\n",
    "$$\n",
    "\\frac{d \\mathbf{1}^\\top f(z)}{dz} = \\left(\\begin{array}{c} \\sigma(z_1) \\\\ \\vdots \\\\ \\sigma(z_N) \\end{array} \\right) \\equiv \\sigma(z)\n",
    "$$\n",
    "where the sigmoid function $\\sigma$ is applied elementwise to $z$.\n",
    "\n",
    "### Properties of the sigmoid function\n",
    "Note that\n",
    "\n",
    "\\begin{eqnarray}\n",
    "\\sigma(x) & = & \\frac{e^x}{(1+e^{-x})e^x} = \\frac{e^x}{1+e^{x}} \\\\\n",
    "1 - \\sigma(x) & = & 1 - \\frac{e^x}{1+e^{x}} = \\frac{1+e^{x} - e^x}{1+e^{x}} = \\frac{1}{1+e^{x}}\n",
    "\\end{eqnarray}\n",
    "\n",
    "\\begin{eqnarray}\n",
    "\\sigma'(x) & = & \\frac{e^x(1+e^{x}) - e^{x} e^x}{(1+e^{x})^2} = \\frac{e^x}{1+e^{x}}\\frac{1}{1+e^{x}} = \\sigma(x) (1-\\sigma(x))\n",
    "\\end{eqnarray}\n",
    "\n",
    "\\begin{eqnarray}\n",
    "\\log \\sigma(x) & = & -\\log(1+e^{-x}) = x - \\log(1+e^{x}) \\\\\n",
    "\\log(1 - \\sigma(x)) & = &  -\\log({1+e^{x}})\n",
    "\\end{eqnarray}\n",
    "\n",
    "\n",
    "\n",
    "\n",
    "Exercise: Plot the sigmoid function and its derivative."
   ]
  },
  {
   "cell_type": "markdown",
   "metadata": {},
   "source": [
    "### Optimization via gradient ascent\n",
    "\n",
    "One way for\n",
    "optimization is gradient ascent\n",
    "\\begin{eqnarray}\n",
    "w^{(\\tau)} & \\leftarrow & w^{(\\tau-1)} + \\eta \\nabla_w {\\cal L}\n",
    "\\end{eqnarray}\n",
    "where\n",
    "\\begin{eqnarray}\n",
    "\\nabla_w {\\cal L} & = &\n",
    "\\begin{pmatrix}\n",
    "{\\partial {\\cal L}}/{\\partial w_1} \\\\\n",
    "{\\partial {\\cal L}}/{\\partial w_2} \\\\\n",
    "\\vdots \\\\\n",
    "{\\partial {\\cal L}}/{\\partial w_{D}}\n",
    "\\end{pmatrix}\n",
    "\\end{eqnarray}\n",
    "is the gradient vector and $\\eta$ is a learning rate.\n",
    "\n",
    "#### Evaluating the gradient (Short Derivation)\n",
    "\n",
    "$$\n",
    "\\mathcal{L}(w) = y^\\top X w - \\mathbf{1}^\\top \\text{logsumexp}(0, X w)\n",
    "$$\n",
    "\n",
    "$$\n",
    "\\frac{d\\mathcal{L}(w)}{dw} = X^\\top y - X^\\top \\sigma(X w) = X^\\top (y -\\sigma(X w))\n",
    "$$\n",
    "\n",
    "#### Evaluating the gradient (Long Derivation)\n",
    "The partial derivative of the loglikelihood with respect to the $k$'th entry of the weight vector is given by the chain rule as\n",
    "\\begin{eqnarray}\n",
    "\\frac{\\partial{\\cal L}}{\\partial w_k} & = & \\frac{\\partial{\\cal L}}{\\partial \\sigma(u)} \\frac{\\partial \\sigma(u)}{\\partial u} \\frac{\\partial u}{\\partial w_k}\n",
    "\\end{eqnarray}\n",
    "\n",
    "\\begin{eqnarray}\n",
    "{\\cal L}(w) & = & \\sum_{i : y_i=1} \\log \\sigma(w^\\top x_i) + \\sum_{i : y_i=0} \\log (1- \\sigma(w^\\top x_i))\n",
    "\\end{eqnarray}\n",
    "\n",
    "\\begin{eqnarray}\n",
    "\\frac{\\partial{\\cal L}(\\sigma)}{\\partial \\sigma} & = &  \\sum_{i : y_i=1} \\frac{1}{\\sigma(w^\\top x_i)} - \\sum_{i : y_i=0} \\frac{1}{1- \\sigma(w^\\top x_i)}\n",
    "\\end{eqnarray}\n",
    "\n",
    "\\begin{eqnarray}\n",
    "\\frac{\\partial \\sigma(u)}{\\partial u} & = & \\sigma(w^\\top x_i) (1-\\sigma(w^\\top x_i))\n",
    "\\end{eqnarray}\n",
    "\n",
    "\\begin{eqnarray}\n",
    "\\frac{\\partial w^\\top x_i }{\\partial w_k} & = & x_{i,k}\n",
    "\\end{eqnarray}\n",
    "\n",
    "\n",
    "So the gradient is\n",
    "\\begin{eqnarray}\n",
    "\\frac{\\partial{\\cal L}}{\\partial w_k} & = & \\sum_{i : y_i=1} \\frac{\\sigma(w^\\top x_i) (1-\\sigma(w^\\top x_i))}{\\sigma(w^\\top x_i)} x_{i,k} - \\sum_{i : y_i=0} \\frac{\\sigma(w^\\top x_i) (1-\\sigma(w^\\top x_i))}{1- \\sigma(w^\\top x_i)} x_{i,k} \\\\\n",
    "& = & \\sum_{i : y_i=1} {(1-\\sigma(w^\\top x_i))} x_{i,k} - \\sum_{i : y_i=0} {\\sigma(w^\\top x_i)} x_{i,k}\n",
    "\\end{eqnarray}\n",
    "\n",
    "We can write this expression more compactly by noting\n",
    "\\begin{eqnarray}\n",
    "\\frac{\\partial{\\cal L}}{\\partial w_k} & = & \\sum_{i : y_i=1} {(\\underbrace{1}_{y_i}-\\sigma(w^\\top x_i))} x_{i,k} + \\sum_{i : y_i=0} {(\\underbrace{0}_{y_i} - \\sigma(w^\\top x_i))} x_{i,k} \\\\\n",
    "& = & \\sum_i (y_i - \\sigma(w^\\top x_i)) x_{i,k}\n",
    "\\end{eqnarray}\n",
    "\n",
    "$\\newcommand{\\diag}{\\text{diag}}$\n",
    "\n",
    "The Hessian is \n",
    "\\begin{eqnarray}\n",
    "\\frac{\\partial^2{\\cal L}}{\\partial w_k \\partial w_r} & = & - \\sum_i (1-\\sigma(w^\\top x_i)) \\sigma(w^\\top x_i) x_{i,k} x_{i,r} \\\\\n",
    "\\pi & \\equiv & \\sigma(X w) \\\\\n",
    "\\nabla \\nabla^\\top \\mathcal{L}& = & -X^\\top \\diag(\\pi(1 - \\pi)) X \n",
    "\\end{eqnarray}\n",
    "\n",
    "\n",
    "The update rule is\n",
    "\\begin{eqnarray}\n",
    "w^{(\\tau)} = w^{(\\tau-1)} + \\eta X^\\top (y-\\sigma(X w))\n",
    "\\end{eqnarray}\n",
    "\n",
    "\n"
   ]
  },
  {
   "cell_type": "code",
   "execution_count": 1,
   "metadata": {
    "collapsed": false
   },
   "outputs": [
    {
     "name": "stderr",
     "output_type": "stream",
     "text": [
      "/Users/cemgil/anaconda/lib/python2.7/site-packages/matplotlib/font_manager.py:273: UserWarning: Matplotlib is building the font cache using fc-list. This may take a moment.\n",
      "  warnings.warn('Matplotlib is building the font cache using fc-list. This may take a moment.')\n"
     ]
    }
   ],
   "source": [
    "%matplotlib inline\n",
    "from cvxpy import *\n",
    "import numpy as np\n",
    "import matplotlib as mpl\n",
    "import matplotlib.pylab as plt"
   ]
  },
  {
   "cell_type": "code",
   "execution_count": 215,
   "metadata": {
    "collapsed": false,
    "scrolled": true
   },
   "outputs": [
    {
     "name": "stdout",
     "output_type": "stream",
     "text": [
      "[0 1]\n",
      "[2 3 4]\n"
     ]
    },
    {
     "data": {
      "image/png": "[encoded data removed]",
      "text/plain": [
       "<matplotlib.figure.Figure at 0x129288d50>"
      ]
     },
     "metadata": {},
     "output_type": "display_data"
    }
   ],
   "source": [
    "#x = np.matrix('[-2,1; -1,2; 1,5; -1,1; -3,-2; 1,1] ')\n",
    "x = np.matrix('[-0.5,0.5;2,-1;-1,-1;1,1;1.5,0.5]')\n",
    "#y = np.matrix('[0,0,1,0,0,1]').T\n",
    "y = np.matrix('[0,0,1,1,1]').T\n",
    "N = x.shape[0]\n",
    "#A = np.hstack((np.power(x,0), np.power(x,1), np.power(x,2)))\n",
    "#X = np.hstack((x, np.ones((N,1)) ))\n",
    "X = x\n",
    "\n",
    "def sigmoid(x):\n",
    "    return 1/(1+np.exp(-x))\n",
    "\n",
    "\n",
    "idx = np.nonzero(y)[0]\n",
    "idxc = np.nonzero(1-y)[0]\n",
    "\n",
    "fig = plt.figure(figsize=(12,5))\n",
    "plt.plot(x[idx,0], x[idx,1], 'rx')\n",
    "plt.plot(x[idxc,0], x[idxc,1], 'bo')\n",
    "fig.gca().set_xlim([-1.1,2.1])\n",
    "fig.gca().set_ylim([-1.1,1.1])\n",
    "print(idxc)\n",
    "print(idx)\n",
    "\n",
    "plt.show()"
   ]
  },
  {
   "cell_type": "code",
   "execution_count": 225,
   "metadata": {
    "collapsed": false
   },
   "outputs": [
    {
     "data": {
      "image/png": "[encoded data removed]",
      "text/plain": [
       "<matplotlib.figure.Figure at 0x114b97350>"
      ]
     },
     "metadata": {},
     "output_type": "display_data"
    }
   ],
   "source": [
    "from itertools import product\n",
    "\n",
    "def ellipse_line(A, mu, col='b'):\n",
    "    '''\n",
    "    Creates an ellipse from short line segments y = A x + \\mu \n",
    "    where x is on the unit circle.\n",
    "    '''\n",
    "    N = 18\n",
    "    th = np.arange(0, 2*np.pi+np.pi/N, np.pi/N)\n",
    "    X = np.mat(np.vstack((np.cos(th),np.sin(th))))\n",
    "    \n",
    "    Y = A*X\n",
    "    ln = plt.Line2D(mu[0]+Y[0,:],mu[1]+Y[1,:],markeredgecolor='w', linewidth=1, color=col)\n",
    "    return ln\n",
    "\n",
    "\n",
    "left = -5\n",
    "right = 3\n",
    "bottom = -5\n",
    "top = 7\n",
    "step = 0.1\n",
    "W0 = np.arange(left,right, step)\n",
    "W1 = np.arange(bottom,top, step)\n",
    "\n",
    "LLSurf = np.zeros((len(W1),len(W0)))\n",
    "\n",
    "# y^\\top X w - \\mathbf{1}^\\top \\text{logsumexp}(0, X w)\n",
    "vmax = -np.inf\n",
    "vmin = np.inf\n",
    "for i,j in product(range(len(W1)), range(len(W0))):\n",
    "    w = np.matrix([W0[j], W1[i]]).T\n",
    "    p = X*w\n",
    "    ll = y.T*p - np.sum(np.log(1+np.exp(p)))\n",
    "    \n",
    "    vmax = np.max((vmax, ll))\n",
    "    vmin = np.min((vmin, ll))\n",
    "    \n",
    "    LLSurf[i,j] = ll\n",
    "\n",
    "fig = plt.figure(figsize=(10,10))\n",
    "plt.imshow(LLSurf, interpolation='nearest', \n",
    "           vmin=vmin, vmax=vmax,origin='lower',\n",
    "           extent=(left,right,bottom,top))\n",
    "plt.xlabel('w0')\n",
    "plt.ylabel('w1')\n",
    "plt.colorbar()\n",
    "\n",
    "\n",
    "W0 = np.arange(left+2,right-5, 12*step)\n",
    "W1 = np.arange(bottom+1,top-10, 12*step)\n",
    "\n",
    "for i,j in product(range(len(W1)), range(len(W0))):\n",
    "    w = np.matrix([W0[j], W1[i]]).T\n",
    "    #w = np.mat([-1,1]).T\n",
    "\n",
    "    p = sigmoid(X*w)\n",
    "    dw = 0.2*X.T*(y-p)\n",
    "    #print(p)\n",
    "    S = np.mat(np.diag(np.asarray(np.multiply(p,1-p)).flatten()))\n",
    "    H = X.T*S*X\n",
    "    dw_nwt = 0.08*H.I*X.T*(y-p)\n",
    "\n",
    "    C = np.linalg.cholesky(H.I)\n",
    "#    plt.hold(True)\n",
    "    ln = ellipse_line(C/3., w, 'w')\n",
    "    ax = fig.gca()\n",
    "    ax.add_line(ln)\n",
    "    ln2 = plt.Line2D((float(w[0]), float(w[0]+dw[0])), (float(w[1]), float(w[1]+dw[1])),color='y')\n",
    "    ax.add_line(ln2)\n",
    "    ln3 = plt.Line2D((float(w[0]), float(w[0]+dw_nwt[0])), (float(w[1]), float(w[1]+dw_nwt[1])),color='w')\n",
    "    ax.add_line(ln3)\n",
    "    plt.plot(w[0,0],w[1,0],'.w')\n",
    "\n",
    "    \n",
    "    \n",
    "    #print(C)\n",
    "    #print(S)\n",
    "\n",
    "ax.set_xlim((left,right))\n",
    "ax.set_ylim((bottom,top))\n",
    "plt.show()"
   ]
  },
  {
   "cell_type": "code",
   "execution_count": 153,
   "metadata": {
    "collapsed": false,
    "scrolled": true
   },
   "outputs": [
    {
     "data": {
      "text/plain": [
       "matrix([[ 1.51630736,  0.75371756],\n",
       "        [ 0.75371756,  0.79094158]])"
      ]
     },
     "execution_count": 153,
     "metadata": {},
     "output_type": "execute_result"
    }
   ],
   "source": [
    "w = np.mat([1,-1]).T\n",
    "w\n",
    "\n",
    "p = sigmoid(X*w)\n",
    "S = np.mat(np.diag(np.asarray(np.multiply(p,1-p)).flatten()))\n",
    "\n",
    "X.T*S*X"
   ]
  },
  {
   "cell_type": "code",
   "execution_count": 188,
   "metadata": {
    "collapsed": false
   },
   "outputs": [
    {
     "data": {
      "text/plain": [
       "3.1999999999999984"
      ]
     },
     "execution_count": 188,
     "metadata": {},
     "output_type": "execute_result"
    }
   ],
   "source": [
    "\n",
    "float(w[0])\n"
   ]
  },
  {
   "cell_type": "code",
   "execution_count": 114,
   "metadata": {
    "collapsed": false,
    "scrolled": true
   },
   "outputs": [
    {
     "name": "stdout",
     "output_type": "stream",
     "text": [
      "[[0]\n",
      " [0]\n",
      " [1]\n",
      " [1]\n",
      " [1]]\n",
      "[[-0.5  0.5]\n",
      " [ 2.  -1. ]\n",
      " [-1.  -1. ]\n",
      " [ 1.   1. ]\n",
      " [ 2.   1. ]]\n",
      "[[1]\n",
      " [2]]\n",
      "[[ 0.62245933]\n",
      " [ 0.5       ]\n",
      " [ 0.04742587]\n",
      " [ 0.95257413]\n",
      " [ 0.98201379]]\n",
      "[[ 0.          0.59561717]\n",
      " [ 0.          0.30966921]\n",
      " [ 1.          0.32737446]\n",
      " [ 1.          0.67262554]\n",
      " [ 1.          0.66660954]]\n",
      "[[-0.02719403]\n",
      " [ 0.74727817]]\n"
     ]
    }
   ],
   "source": [
    "print(y)\n",
    "print(X)\n",
    "\n",
    "#w = np.random.randn(3,1)\n",
    "\n",
    "w = np.mat('[1;2]')\n",
    "\n",
    "print(w)\n",
    "\n",
    "print(sigmoid(X*w))\n",
    "eta = 0.1\n",
    "\n",
    "for i in range(10000):\n",
    "    pr = sigmoid(X*w)\n",
    "    w = w + eta*X.T*(y-pr)\n",
    "    \n",
    "print(np.hstack((y,pr)))\n",
    "print(w)"
   ]
  },
  {
   "cell_type": "code",
   "execution_count": 3,
   "metadata": {
    "collapsed": false
   },
   "outputs": [],
   "source": [
    "N = 1000\n",
    "K = 10\n",
    "Ke = 40-K\n",
    "\n",
    "def sigmoid(x):\n",
    "    return 1/(1+np.exp(-x))\n",
    "\n",
    "x = np.matrix(np.random.randn(N, K))\n",
    "w_true = np.random.randn(K,1)\n",
    "\n",
    "p = sigmoid(x*w_true)\n",
    "u = np.random.rand(N,1)\n",
    "y = (u < p)\n",
    "y = y.astype(np.float64)\n",
    "\n",
    "#A = np.hstack((np.power(x,0), np.power(x,1), np.power(x,2)))\n",
    "X = np.hstack((x, np.random.randn(N, Ke )))\n",
    "\n",
    "\n"
   ]
  },
  {
   "cell_type": "code",
   "execution_count": 4,
   "metadata": {
    "collapsed": false,
    "scrolled": false
   },
   "outputs": [
    {
     "name": "stdout",
     "output_type": "stream",
     "text": [
      "[[ -4.61873692e-01]\n",
      " [ -3.45888873e-11]\n",
      " [ -1.15100442e+00]\n",
      " [  2.96918652e-01]\n",
      " [  6.06625465e-01]\n",
      " [  6.42161156e-01]\n",
      " [ -5.66000985e-01]\n",
      " [ -1.22920576e-10]\n",
      " [ -7.62241790e-01]\n",
      " [  2.26527800e-10]\n",
      " [  5.59296917e-11]\n",
      " [ -1.06575891e-10]\n",
      " [ -3.80442713e-11]\n",
      " [  7.35221115e-10]\n",
      " [  9.11113530e-13]\n",
      " [  7.95399232e-13]\n",
      " [  3.46032187e-11]\n",
      " [ -5.92069678e-13]\n",
      " [ -3.68158703e-11]\n",
      " [ -1.28123391e-11]\n",
      " [ -1.18309432e-11]\n",
      " [ -5.20654701e-12]\n",
      " [ -6.03313857e-11]\n",
      " [ -5.89164342e-12]\n",
      " [ -3.35170186e-10]\n",
      " [  2.63155232e-11]\n",
      " [ -1.37202788e-11]\n",
      " [  3.38273484e-11]\n",
      " [  2.84843711e-11]\n",
      " [ -2.88087419e-11]\n",
      " [ -2.03696923e-11]\n",
      " [ -1.55134247e-11]\n",
      " [  7.06091201e-12]\n",
      " [  3.72090301e-11]\n",
      " [ -3.33548890e-12]\n",
      " [  6.84441048e-12]\n",
      " [ -5.19792493e-10]\n",
      " [ -2.36637916e-11]\n",
      " [ -6.33682911e-12]\n",
      " [  7.44414549e-04]]\n"
     ]
    },
    {
     "data": {
      "image/png": "[encoded data removed]",
      "text/plain": [
       "<matplotlib.figure.Figure at 0x10d404d10>"
      ]
     },
     "metadata": {},
     "output_type": "display_data"
    }
   ],
   "source": [
    "z = np.zeros((N,1))\n",
    "# Construct the problem.\n",
    "w = Variable(K+Ke)\n",
    "objective = Minimize(25.5*norm(w, 1) -y.T*X*w + sum_entries(log_sum_exp(hstack(z, X*w),axis=1)))\n",
    "#constraints = [0 <= x, x <= 10]\n",
    "#prob = Problem(objective, constraints)\n",
    "prob = Problem(objective)\n",
    "\n",
    "# The optimal objective is returned by prob.solve().\n",
    "result = prob.solve()\n",
    "# The optimal value for x is stored in x.value.\n",
    "print(w.value)\n",
    "# The optimal Lagrange multiplier for a constraint\n",
    "# is stored in constraint.dual_value.\n",
    "#print(constraints[0].dual_value)\n",
    "\n",
    "#plt.show()\n",
    "\n",
    "plt.stem(w.value)\n",
    "plt.stem(w_true,markerfmt='xr')\n",
    "\n",
    "plt.gca().set_xlim((-1, K+Ke))\n",
    "plt.show()\n",
    "\n"
   ]
  },
  {
   "cell_type": "code",
   "execution_count": null,
   "metadata": {
    "collapsed": true
   },
   "outputs": [],
   "source": []
  },
  {
   "cell_type": "code",
   "execution_count": 5,
   "metadata": {
    "collapsed": false
   },
   "outputs": [
    {
     "name": "stdout",
     "output_type": "stream",
     "text": [
      "{\n",
      "  \"stdin_port\": 52252, \n",
      "  \"ip\": \"127.0.0.1\", \n",
      "  \"control_port\": 52253, \n",
      "  \"hb_port\": 52254, \n",
      "  \"signature_scheme\": \"hmac-sha256\", \n",
      "  \"key\": \"ea79abbc-0894-4390-90e4-df49b34619e0\", \n",
      "  \"shell_port\": 52250, \n",
      "  \"transport\": \"tcp\", \n",
      "  \"iopub_port\": 52251\n",
      "}\n",
      "\n",
      "Paste the above JSON into a file, and connect with:\n",
      "    $> ipython <app> --existing <file>\n",
      "or, if you are local, you can connect with just:\n",
      "    $> ipython <app> --existing /Users/cemgil/Library/Jupyter/runtime/kernel-0e1f423d-e753-4e58-a8b9-87b5530794df.json \n",
      "or even just:\n",
      "    $> ipython <app> --existing \n",
      "if this is the most recent IPython session you have started.\n"
     ]
    }
   ],
   "source": [
    "%connect_info"
   ]
  },
  {
   "cell_type": "code",
   "execution_count": 152,
   "metadata": {
    "collapsed": false
   },
   "outputs": [
    {
     "data": {
      "text/plain": [
       "matrix([[ 1,  0],\n",
       "        [ 0, -1]])"
      ]
     },
     "execution_count": 152,
     "metadata": {},
     "output_type": "execute_result"
    }
   ],
   "source": [
    "\n",
    "np.mat(np.diag(np.asarray(w).flatten()))"
   ]
  },
  {
   "cell_type": "code",
   "execution_count": 86,
   "metadata": {
    "collapsed": false
   },
   "outputs": [
    {
     "data": {
      "text/plain": [
       "(array([2, 3, 4]), array([0, 0, 0]))"
      ]
     },
     "execution_count": 86,
     "metadata": {},
     "output_type": "execute_result"
    }
   ],
   "source": [
    "np.nonzero(idx)\n",
    "#x[idx][:,:]"
   ]
  }
 ],
 "metadata": {
  "kernelspec": {
   "display_name": "Python 2",
   "language": "python",
   "name": "python2"
  },
  "language_info": {
   "codemirror_mode": {
    "name": "ipython",
    "version": 2
   },
   "file_extension": ".py",
   "mimetype": "text/x-python",
   "name": "python",
   "nbconvert_exporter": "python",
   "pygments_lexer": "ipython2",
   "version": "2.7.11"
  }
 },
 "nbformat": 4,
 "nbformat_minor": 0
}
