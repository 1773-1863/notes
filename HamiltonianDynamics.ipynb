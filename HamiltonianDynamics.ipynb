{
 "cells": [
  {
   "cell_type": "markdown",
   "metadata": {},
   "source": [
    "## Hamiltonian Dynamics\n",
    "\n",
    "Consider an object with mass $m$ on a 2D space sliding freely on a curve $y = h(x)$. Here $h(x)$ gives the height at horizontal coordinate $x$. As the object will be constraint to the curve, it will always be at some coordinate $(x, h(x))$ so we will refer to its position by $x$.  \n",
    "\n",
    "Remember from high school physics that under constant gravity $g$ with velocity $v$ the object has\n",
    "\n",
    "* Potential Energy $U = m g h(x)$\n",
    "* Kinetic Energy $K = \\frac{1}{2} m v^2 = \\frac{1}{2m}p^2$\n",
    "* Momentum $p = mv$\n",
    "\n",
    "Under energy preservation we have\n",
    "$$\n",
    "H_{\\text{total}}  = U + K = m g h(x) + \\frac{1}{2m} p^2\n",
    "$$\n",
    "\n",
    "As $m$ and $g$ are constants, we can define any motion as some trajectory in the $x,p$ coordinate plane as a function of time. Hamiltonian dynamics is the description of this idea in a more general setting for some arbitrary potential function $U$ and kinetic energy $K$.\n",
    "\n",
    "\n",
    "We define position variables $x$, a potential function $U(x)$, momentum variables $p$ and kinetic energy $K(p)$.\n",
    "\n",
    "$$\n",
    "H(x, p) = U(x) + K(p)\n",
    "$$\n",
    "\n",
    "The change of position in time is described by the change in the Kinetic energy\n",
    "$$\n",
    "\\frac{d x_i}{d t} = \\frac{\\partial H}{\\partial p_i}\n",
    "$$\n",
    "\n",
    "The change in momentum is in the opposite direction of the change in potential energy\n",
    "$$\n",
    "\\frac{d p_i}{d t} = -\\frac{\\partial H}{\\partial x_i}\n",
    "$$\n",
    "We accelerate if we fall down and deccelerate if we jump up (under the gravity field that defines the potential at height $h(x)$).\n",
    "\n"
   ]
  },
  {
   "cell_type": "markdown",
   "metadata": {},
   "source": [
    "Example: Take $g=1$ and $m=1$\n",
    "\n",
    "$$U(x) = \\frac{1}{2} x^2$$\n",
    "\n",
    "$$K(p) = \\frac{1}{2} p^2 $$\n",
    "\n",
    "$$H(x, p) = \\frac{1}{2} x^2 + \\frac{1}{2} p^2$$\n",
    "\n",
    "$$\n",
    "\\frac{\\partial H}{\\partial p} = p\n",
    "$$\n",
    "\n",
    "$$\n",
    "\\frac{\\partial H}{\\partial x} = x\n",
    "$$\n",
    "\n",
    "Hence\n",
    "\n",
    "$$\n",
    "\\frac{d x}{d t} = p\n",
    "$$\n",
    "\n",
    "$$\n",
    "\\frac{d p}{d t} = -x\n",
    "$$\n"
   ]
  },
  {
   "cell_type": "markdown",
   "metadata": {},
   "source": [
    "\\begin{eqnarray}\n",
    "\\left( \\begin{array}{c} \\dot{x} \\\\ \\dot{p} \\end{array} \\right) & = & \\left( \\begin{array}{cc} 0 & 1 \\\\ -1 & 0 \\end{array} \\right) \\left( \\begin{array}{c} x \\\\ p \\end{array} \\right) \\\\\n",
    "\\dot{z} & = & A z \\\\\n",
    "z(t) & = & \\exp(At)z(0)\n",
    "\\end{eqnarray}"
   ]
  },
  {
   "cell_type": "code",
   "execution_count": 1,
   "metadata": {
    "collapsed": false,
    "scrolled": true
   },
   "outputs": [
    {
     "data": {
      "image/png": "[encoded data removed]",
      "text/plain": [
       "<matplotlib.figure.Figure at 0x10cfa8400>"
      ]
     },
     "metadata": {},
     "output_type": "display_data"
    }
   ],
   "source": [
    "%matplotlib inline\n",
    "import scipy as sc\n",
    "import numpy as np\n",
    "\n",
    "import scipy.linalg as la\n",
    "import matplotlib.pyplot as plt\n",
    "\n",
    "A = np.mat('[0,1;-1,0]')\n",
    "\n",
    "dt = 0.05\n",
    "T = 100\n",
    "\n",
    "z = np.mat(np.zeros((2,T)))\n",
    "H = la.expm(dt*A)\n",
    "\n",
    "z[:,0] = np.mat('[2.4;0]')\n",
    "for i in range(1,T):\n",
    "    z[:,i] = H*z[:,i-1]\n",
    "\n",
    "    \n",
    "plt.plot(z[0,:], z[1,:],'.-r')\n",
    "ax = plt.gcf().gca()\n",
    "ax.set_aspect('equal')\n",
    "plt.show()"
   ]
  },
  {
   "cell_type": "markdown",
   "metadata": {},
   "source": [
    "### Euler's method\n",
    "\n",
    "Position Evolution\n",
    "\\begin{eqnarray}\n",
    "\\frac{x_i(t + \\epsilon) - x_i(t)}{\\epsilon} & = & \\frac{d x_i}{d t}(t) = \\frac{\\partial K}{\\partial p_i}(p_i(t))  \\\\\n",
    "x_i(t + \\epsilon)  & = & x_i(t) + \\epsilon \\frac{\\partial K}{\\partial p_i}(p_i(t)) \n",
    "\\end{eqnarray}\n",
    "\n",
    "Momentum Evolution\n",
    "\\begin{eqnarray}\n",
    "\\frac{p_i(t + \\epsilon) - p_i(t)}{\\epsilon} & = & \\frac{d p_i}{d t}(t) = - \\frac{\\partial U}{\\partial x_i}(x_i(t))  \\\\\n",
    "p_i(t + \\epsilon) & = & p_i(t) - \\epsilon \\frac{\\partial U}{\\partial x_i}(x_i(t))  \\\\\n",
    "\\end{eqnarray}"
   ]
  },
  {
   "cell_type": "code",
   "execution_count": 2,
   "metadata": {
    "collapsed": false,
    "scrolled": true
   },
   "outputs": [
    {
     "data": {
      "image/png": "[encoded data removed]",
      "text/plain": [
       "<matplotlib.figure.Figure at 0x1114002e8>"
      ]
     },
     "metadata": {},
     "output_type": "display_data"
    }
   ],
   "source": [
    "epsilon = 0.05\n",
    "T = 1000\n",
    "z_euler = np.mat(np.zeros((2,T)))\n",
    "\n",
    "def dHdx(x):\n",
    "    return x\n",
    "\n",
    "def dHdp(p):\n",
    "    return p\n",
    "\n",
    "z_euler[:,0] = np.mat('[2.4;0]')\n",
    "for i in range(1,T):\n",
    "    #z_euler[:,i] = z_euler[:,i-1] + epsilon*dH(z_euler[:,i-1])\n",
    "    \n",
    "    z_euler[0,i] = z_euler[0,i-1] + epsilon*dHdp(z_euler[1,i-1])\n",
    "    z_euler[1,i] = z_euler[1,i-1] - epsilon*dHdx(z_euler[0,i-1])\n",
    "\n",
    "    \n",
    "plt.plot(z_euler[0,:], z_euler[1,:],'.-r')\n",
    "ax = plt.gcf().gca()\n",
    "ax.set_aspect('equal')\n",
    "plt.show()"
   ]
  },
  {
   "cell_type": "markdown",
   "metadata": {},
   "source": [
    "### Modified Euler\n",
    "\n",
    "Use the intermediate solution immediately\n",
    "\n"
   ]
  },
  {
   "cell_type": "code",
   "execution_count": null,
   "metadata": {
    "collapsed": true
   },
   "outputs": [],
   "source": [
    "epsilon = 0.01\n",
    "T = 600\n",
    "z_euler2 = np.mat(np.zeros((2,T)))\n",
    "\n",
    "def dHdx(x):\n",
    "    return x\n",
    "\n",
    "def dHdp(p):\n",
    "    return p\n",
    "\n",
    "z_euler2[:,0] = np.mat('[2.4;0]')\n",
    "for i in range(1,T):    \n",
    "    z_euler2[0,i] = z_euler2[0,i-1] + epsilon*dHdp(z_euler2[1,i-1])\n",
    "    z_euler2[1,i] = z_euler2[1,i-1] - epsilon*dHdx(z_euler2[0,i])\n",
    "\n",
    "    \n",
    "plt.plot(z_euler2[0,:], z_euler2[1,:],'.-r')\n",
    "ax = plt.gcf().gca()\n",
    "ax.set_aspect('equal')\n",
    "plt.show()"
   ]
  },
  {
   "cell_type": "markdown",
   "metadata": {},
   "source": [
    "### The Leapfrog Method\n",
    "\n",
    "Approximate the momentum at the middle of the time interval.\n",
    "\n",
    "\\begin{eqnarray}\n",
    "\\frac{p_i(t + \\epsilon/2) - p_i(t)}{\\epsilon/2} & = & \\frac{d p_i}{d t}(t) = - \\frac{\\partial U}{\\partial x_i}(x_i(t)) \\\\\n",
    "p_i(t + \\epsilon/2) & = & p_i(t) - (\\epsilon/2) \\frac{\\partial U}{\\partial x_i}(x_i(t)) \n",
    "\\end{eqnarray}\n",
    "\n",
    "Use the half-way momentum to approximate the position\n",
    "\\begin{eqnarray}\n",
    "\\frac{x_i(t + \\epsilon) - x_i(t)}{\\epsilon} & = & \\frac{d x_i}{d t}(t + \\epsilon/2) = \\frac{\\partial K}{\\partial p_i}(p_i(t+\\epsilon/2))  \\\\\n",
    "x_i(t + \\epsilon) &=& x_i(t) + \\epsilon \\frac{\\partial K}{\\partial p_i}(p_i(t+\\epsilon/2))\n",
    "\\end{eqnarray}\n",
    "\n",
    "Update the momentum at time $t+\\epsilon$\n",
    "\\begin{eqnarray}\n",
    "\\frac{p_i(t + \\epsilon) - p_i(t + \\epsilon/2)}{\\epsilon/2} & = & \\frac{d p_i}{d t}(t+\\epsilon) = - \\frac{\\partial U}{\\partial x_i}(x_i(t + \\epsilon)) \\\\\n",
    "p_i(t + \\epsilon) & = & p_i(t+\\epsilon/2) - (\\epsilon/2) \\frac{\\partial U}{\\partial x_i}(x_i(t+\\epsilon)) \n",
    "\\end{eqnarray}\n",
    "\n",
    "\n"
   ]
  },
  {
   "cell_type": "code",
   "execution_count": null,
   "metadata": {
    "collapsed": true
   },
   "outputs": [],
   "source": [
    "epsilon = 0.5\n",
    "T = 50\n",
    "\n",
    "def dHdx(x):\n",
    "    return x\n",
    "\n",
    "def dHdp(p):\n",
    "    return p\n",
    "\n",
    "\n",
    "#def dHdx(x):\n",
    "#    A = np.mat('[1;-1]')\n",
    "#    b = np.mat('[1;3]')\n",
    "#    u = (b - A*x)\n",
    "#    if np.all(u > 0):\n",
    "#        g = A.T*(1/u)\n",
    "#    else:\n",
    "#        g = np.inf*u\n",
    "#    return g[0,0]\n",
    "\n",
    "T = 100\n",
    "z_lf = np.mat(np.zeros((2,T)))\n",
    "\n",
    "z_lf[:,0] = np.mat('[0.1;0]')\n",
    "for i in range(1,T):\n",
    "    p_mid = z_lf[1,i-1] - (epsilon/2)*dHdx(z_lf[0,i-1])\n",
    "    z_lf[0,i] = z_lf[0,i-1] + epsilon*dHdp(p_mid)\n",
    "    z_lf[1,i] = p_mid - (epsilon/2)*dHdx(z_lf[0,i])\n",
    "\n",
    "    \n",
    "plt.plot(z_lf[0,:].T, z_lf[1,:].T,'or-')\n",
    "ax = plt.gcf().gca()\n",
    "ax.set_aspect('equal')\n",
    "plt.show()"
   ]
  }
 ],
 "metadata": {
  "kernelspec": {
   "display_name": "Python 3",
   "language": "python",
   "name": "python3"
  },
  "language_info": {
   "codemirror_mode": {
    "name": "ipython",
    "version": 3
   },
   "file_extension": ".py",
   "mimetype": "text/x-python",
   "name": "python",
   "nbconvert_exporter": "python",
   "pygments_lexer": "ipython3",
   "version": "3.5.2"
  }
 },
 "nbformat": 4,
 "nbformat_minor": 0
}
