{
 "cells": [
  {
   "cell_type": "markdown",
   "metadata": {},
   "source": [
    "## K-means clustering\n",
    "\n",
    "Unsupervised method\n",
    "\n",
    "- Initialize $k$ cluster centers\n",
    "\n",
    "- Associations: Find the points closest to each cluster center and form groups\n",
    "- Recalculate means: Set the cluster center to the mean of each group"
   ]
  },
  {
   "cell_type": "code",
   "execution_count": null,
   "metadata": {
    "collapsed": true
   },
   "outputs": [],
   "source": [
    "%matplotlib inline\n",
    "import numpy as np\n",
    "import pandas as pd\n",
    "from IPython import display\n",
    "import matplotlib.pylab as plt\n",
    "\n",
    "import time\n",
    "from IPython import display\n",
    "\n",
    "N = 100\n",
    "D = 2\n",
    "\n",
    "# Generate a data set\n",
    "X1 = np.random.randn(D,N/2)\n",
    "X2 = 0.8*np.random.randn(D,N/2) + 3*np.ones((D, N/2))\n",
    "X = np.hstack((np.mat(X1), np.mat(X2)))\n",
    "\n",
    "K = 5;\n",
    "\n",
    "mu = X[:,0:K]\n",
    "#plt.plot(mu[0,:],mu[1,:],'ro')\n",
    "\n",
    "# Number of epochs\n",
    "EP = 20\n",
    "\n",
    "fig = plt.figure(figsize=(8,10))\n",
    "plt.plot(X[0,:], X[1,:],'kx')\n",
    "\n",
    "ax = fig.gca()\n",
    "ln = plt.Line2D(xdata=mu[0,:], ydata=mu[1,:], marker='o', color='r',linestyle=None,linewidth=0)\n",
    "ax.add_line(ln)\n",
    "\n",
    "for e in range(EP):\n",
    "    \n",
    "    dist = np.zeros((N,K))\n",
    "    for i in range(N):\n",
    "        for c in range(K):\n",
    "            err = X[:,i]-mu[:,c]\n",
    "            dist[i,c] = float(err.T*err)\n",
    "    \n",
    "    # Assignments\n",
    "    a = np.argmin(dist, axis=1)\n",
    "    \n",
    "    mu = np.mat(np.zeros((D,K)))\n",
    "    count = np.zeros((K))\n",
    "    for i,c in enumerate(a):\n",
    "        count[c] += 1\n",
    "        mu[:,c] = (count[c]-1)/count[c]*mu[:,c] + 1./count[c]*X[:,i]\n",
    "    \n",
    "    ln.set_xdata(mu[0,:])\n",
    "    ln.set_ydata(mu[1,:])\n",
    "    \n",
    "    #plt.subplot(EP,1,e+1)\n",
    "    display.clear_output(wait=True)\n",
    "    display.display(plt.gcf())\n",
    "    time.sleep(0.1)\n",
    "    plt.plot(X[0,:], X[1,:],'kx')\n",
    "    #plt.plot(mu[0,:],mu[1,:],'ro')\n",
    "\n",
    "plt.show()\n",
    "    \n",
    "    "
   ]
  }
 ],
 "metadata": {
  "kernelspec": {
   "display_name": "Python 2",
   "language": "python",
   "name": "python2"
  },
  "language_info": {
   "codemirror_mode": {
    "name": "ipython",
    "version": 2
   },
   "file_extension": ".py",
   "mimetype": "text/x-python",
   "name": "python",
   "nbconvert_exporter": "python",
   "pygments_lexer": "ipython2",
   "version": "2.7.12"
  }
 },
 "nbformat": 4,
 "nbformat_minor": 0
}
