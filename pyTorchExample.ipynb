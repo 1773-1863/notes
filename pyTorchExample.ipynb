{
 "cells": [
  {
   "cell_type": "markdown",
   "metadata": {},
   "source": [
    "## Linear Regression Example with pyTorch"
   ]
  },
  {
   "cell_type": "markdown",
   "metadata": {},
   "source": [
    "First, we implement a gradient descent algorithm for reference, using numpy only"
   ]
  },
  {
   "cell_type": "code",
   "execution_count": 1,
   "metadata": {
    "scrolled": true
   },
   "outputs": [
    {
     "name": "stdout",
     "output_type": "stream",
     "text": [
      "0 : 15.9938818182\n",
      "1 : 11.6346546383\n",
      "2 : 8.57455118197\n",
      "3 : 6.4263659935\n",
      "4 : 4.91830088281\n",
      "5 : 3.85956758638\n",
      "6 : 3.11624261595\n",
      "7 : 2.5943186121\n",
      "8 : 2.2278072717\n",
      "9 : 1.97038821883\n"
     ]
    }
   ],
   "source": [
    "%matplotlib inline\n",
    "import matplotlib.pylab as plt\n",
    "\n",
    "import time\n",
    "from IPython import display\n",
    "import numpy as np\n",
    "\n",
    "\n",
    "#y = np.array([7.46, 6.77, 12.74, 7.11, 7.81, 8.84, 6.08, 5.39, 8.15, 6.42, 5.73])\n",
    "y = np.array([8.04, 6.95, 7.58, 8.81, 8.33, 9.96, 7.24, 4.26, 10.84, 4.82, 5.68])\n",
    "#y = np.array([9.14, 8.14, 8.74, 8.77, 9.26, 8.10, 6.13, 3.10, 9.13, 7.26, 4.74])\n",
    "x = np.array([10., 8., 13., 9., 11., 14., 6., 4., 12., 7., 5.])\n",
    "N = len(x)\n",
    "\n",
    "# Design matrix\n",
    "A = np.vstack((np.ones(N), x)).T\n",
    "\n",
    "# Learning rate\n",
    "\n",
    "eta = 0.01\n",
    "              \n",
    "# initial parameters\n",
    "w = np.array([2., 1.])\n",
    "\n",
    "for epoch in range(10):\n",
    "    # Error\n",
    "    err = y-A.dot(w)\n",
    "    \n",
    "    # Total error\n",
    "    E = np.sum(err**2)/N\n",
    "    \n",
    "    # Gradient\n",
    "    dE = -2.*A.T.dot(err)/N\n",
    "    \n",
    "    if epoch%1 == 0: \n",
    "        print(epoch,':',E)\n",
    "        # print(w)    \n",
    "\n",
    "    # Perfom one descent step\n",
    "    w = w - eta*dE"
   ]
  },
  {
   "cell_type": "markdown",
   "metadata": {},
   "source": [
    "### Animated Visualization of Gradient Descent"
   ]
  },
  {
   "cell_type": "code",
   "execution_count": 2,
   "metadata": {
    "scrolled": true
   },
   "outputs": [
    {
     "data": {
      "image/png": "[encoded data removed]",
      "text/plain": [
       "<matplotlib.figure.Figure at 0x104c41048>"
      ]
     },
     "metadata": {},
     "output_type": "display_data"
    },
    {
     "data": {
      "image/png": "[encoded data removed]",
      "text/plain": [
       "<matplotlib.figure.Figure at 0x104c41048>"
      ]
     },
     "metadata": {},
     "output_type": "display_data"
    }
   ],
   "source": [
    "\n",
    "              \n",
    "w = np.array([2., 1.])\n",
    "\n",
    "f = A.dot(w)\n",
    "\n",
    "fig = plt.figure(figsize=(5,5))\n",
    "ax = fig.gca()\n",
    "ax.set_xlim((4,14))\n",
    "ax.set_ylim((4,14))\n",
    "ln = plt.Line2D(xdata=x, ydata=f, linestyle='-',linewidth=2)\n",
    "ax.add_line(ln)\n",
    "\n",
    "plt.plot(x,y,'bo', alpha=0.5, markersize=5)\n",
    "\n",
    "for epoch in range(30):\n",
    "    f = A.dot(w)\n",
    "    err = y-f\n",
    "    \n",
    "    ln.set_xdata(x)\n",
    "    ln.set_ydata(f)\n",
    "    \n",
    "    E = np.sum(err**2)/N\n",
    "    dE = -2.*A.T.dot(err)/N\n",
    "    \n",
    "    if epoch%1 == 0: \n",
    "        print(epoch,':',E)\n",
    "        # print(w)    \n",
    "        \n",
    "    w = w - eta*dE\n",
    "\n",
    "\n",
    "    display.clear_output(wait=True)\n",
    "    display.display(plt.gcf())\n",
    "    time.sleep(0.1)\n",
    "\n",
    "\n",
    "    "
   ]
  },
  {
   "cell_type": "markdown",
   "metadata": {},
   "source": [
    "## Implementation in pyTorch\n",
    "\n",
    "### Fitting a polynomial"
   ]
  },
  {
   "cell_type": "code",
   "execution_count": 3,
   "metadata": {
    "scrolled": true
   },
   "outputs": [
    {
     "name": "stdout",
     "output_type": "stream",
     "text": [
      "0 : 44640.53204449133\n",
      "1000 : 3.26656357932748\n",
      "2000 : 1.914546319232686\n",
      "3000 : 1.4361389481784659\n",
      "4000 : 1.2668548361687408\n",
      "5000 : 1.206952718171413\n",
      "6000 : 1.1857549716521143\n",
      "7000 : 1.1782526114735308\n",
      "8000 : 1.1755963114180992\n",
      "9000 : 1.1746547739042617\n",
      "9999 : 1.1743201938212433\n"
     ]
    }
   ],
   "source": [
    "%matplotlib inline\n",
    "import matplotlib.pylab as plt\n",
    "import numpy as np\n",
    "\n",
    "import torch\n",
    "import torch.autograd\n",
    "from torch.autograd import Variable\n",
    "\n",
    "x = np.array([10., 8., 13., 9., 11., 14., 6., 4., 12., 7., 5.])\n",
    "yy = np.array([8.04, 6.95, 7.58, 8.81, 8.33, 9.96, 7.24, 4.26, 10.84, 4.82, 5.68])\n",
    "y = Variable(torch.DoubleTensor(yy))\n",
    "\n",
    "# Setup the feature (vandermonde) matrix\n",
    "N = len(x)\n",
    "degree = 2\n",
    "xx = np.vstack((np.power(x,i) for i in range(degree+1))).T\n",
    "A = Variable(torch.from_numpy(xx).double())\n",
    "w = Variable(torch.randn(degree+1).double(), requires_grad=True)\n",
    "# learning rate\n",
    "eta = 0.00005\n",
    "\n",
    "for epoch in range(10000):\n",
    "    ## Compute the forward pass\n",
    "    f = torch.matmul(A, w)\n",
    "    #print(f)\n",
    "    E = torch.sum((y-f)**2)/N\n",
    "\n",
    "    if epoch%1000 == 0: \n",
    "        print(epoch,':',E.data[0])\n",
    "\n",
    "    # Compute the gradients by automated differentiation\n",
    "    E.backward()\n",
    "    \n",
    "    # For each adjustable parameter \n",
    "    # Move along the negative gradient direction\n",
    "    w.data.add_(-eta * w.grad.data)\n",
    "    #print(w.grad.data)\n",
    "    \n",
    "    # Reset the gradients, as otherwise they are accumulated in param.grad\n",
    "    w.grad.zero_()\n",
    "    \n",
    "print(epoch,':',E.data[0])"
   ]
  },
  {
   "cell_type": "code",
   "execution_count": 4,
   "metadata": {},
   "outputs": [
    {
     "data": {
      "image/png": "[encoded data removed]",
      "text/plain": [
       "<matplotlib.figure.Figure at 0x102b3dc88>"
      ]
     },
     "metadata": {},
     "output_type": "display_data"
    }
   ],
   "source": [
    "plt.plot(x, y.data.numpy().squeeze(),'o')\n",
    "\n",
    "x2 = np.arange(3,15,0.5)\n",
    "xx = np.vstack((np.power(x2,i) for i in range(degree+1))).T\n",
    "AA = Variable(torch.from_numpy(xx).double())\n",
    "\n",
    "f = torch.matmul(AA, w)\n",
    "\n",
    "plt.plot(x2, f.data.numpy(),'r-')\n",
    "plt.show()"
   ]
  },
  {
   "cell_type": "markdown",
   "metadata": {},
   "source": [
    "## Fitting a line, using a linear unit"
   ]
  },
  {
   "cell_type": "code",
   "execution_count": 32,
   "metadata": {
    "scrolled": true
   },
   "outputs": [
    {
     "name": "stdout",
     "output_type": "stream",
     "text": [
      "0 : 15.993881225585938\n",
      "1 : 11.634653091430664\n",
      "2 : 8.574551582336426\n",
      "3 : 6.426366806030273\n",
      "4 : 4.918301105499268\n",
      "5 : 3.8595666885375977\n",
      "6 : 3.1162407398223877\n",
      "7 : 2.59431791305542\n",
      "8 : 2.2278072834014893\n",
      "9 : 1.970388412475586\n"
     ]
    }
   ],
   "source": [
    "\n",
    "import torch\n",
    "import torch.autograd\n",
    "from torch.autograd import Variable\n",
    "\n",
    "## The rows correspond to examples and the columns to features.\n",
    "## There is only one feature so the Tensors are actually just vectors\n",
    "x = torch.FloatTensor([[10, 8, 13, 9, 11, 14, 6, 4, 12, 7, 5]]).transpose_(0,1)\n",
    "#yy = [7.46, 6.77, 12.74, 7.11, 7.81, 8.84, 6.08, 5.39, 8.15, 6.42, 5.73]\n",
    "yy = [8.04, 6.95, 7.58, 8.81, 8.33, 9.96, 7.24, 4.26, 10.84, 4.82, 5.68]\n",
    "y = torch.FloatTensor([yy]).transpose_(0,1)\n",
    "\n",
    "\n",
    "# This is a linear unit that implements the function f(x) = weight*x + bias\n",
    "f = torch.nn.Linear(1, 1, bias=True)\n",
    "\n",
    "# Set w_1\n",
    "f.weight.data = torch.FloatTensor([[1.]])\n",
    "# Set w_0\n",
    "f.bias.data = torch.FloatTensor([[2.]])\n",
    "\n",
    "# learning rate\n",
    "eta = 0.01\n",
    "\n",
    "# This is the error function E(x, y) = (1/N) \\sum_{i=1}^N (x_i-y_i)^2\n",
    "EuclidianLoss = torch.nn.MSELoss(size_average=True)\n",
    "\n",
    "for epoch in range(10):\n",
    "    ## Compute the forward pass\n",
    "    E = EuclidianLoss(f(Variable(x)), Variable(y))\n",
    "\n",
    "    if epoch%1 == 0: \n",
    "        print(epoch,':',E.data[0])\n",
    "#        print(f.bias.data.numpy())\n",
    "#        print(f.weight.data.numpy())\n",
    "\n",
    "    # Compute the gradients by automated differentiation\n",
    "    E.backward()\n",
    "    \n",
    "    # For each adjustable parameter \n",
    "    # Move along the negative gradient direction\n",
    "    for param in f.parameters():\n",
    "        param.data.add_(-eta * param.grad.data)\n",
    "\n",
    "    # Reset the gradients, as otherwise they are accumulated in param.grad\n",
    "    f.zero_grad()\n",
    "\n",
    "#print('Weights')\n",
    "#print(f.weight.data, f.bias.data)"
   ]
  },
  {
   "cell_type": "markdown",
   "metadata": {},
   "source": [
    "### Fitting a polynomial, using a linear unit"
   ]
  },
  {
   "cell_type": "code",
   "execution_count": 95,
   "metadata": {},
   "outputs": [
    {
     "name": "stdout",
     "output_type": "stream",
     "text": [
      "0 : 1696.494668273796\n",
      "1000 : 2.809529084344667\n",
      "2000 : 1.7521899622959238\n",
      "3000 : 1.3780548689053818\n",
      "4000 : 1.2456687022585107\n",
      "5000 : 1.1988243959325875\n",
      "6000 : 1.182248723965146\n",
      "7000 : 1.1763834833998854\n",
      "8000 : 1.1743080848154293\n",
      "9000 : 1.1735737061984788\n",
      "9999 : 1.1733139899061145\n"
     ]
    }
   ],
   "source": [
    "import torch\n",
    "import torch.autograd\n",
    "from torch.autograd import Variable\n",
    "\n",
    "## The rows correspond to examples and the columns to features.\n",
    "## There is only one feature so the Tensors are actually just vectors\n",
    "x = np.array([10., 8., 13., 9., 11., 14., 6., 4., 12., 7., 5.])\n",
    "#yy = [7.46, 6.77, 12.74, 7.11, 7.81, 8.84, 6.08, 5.39, 8.15, 6.42, 5.73]\n",
    "yy = [8.04, 6.95, 7.58, 8.81, 8.33, 9.96, 7.24, 4.26, 10.84, 4.82, 5.68]\n",
    "y = torch.DoubleTensor([yy]).transpose_(0,1)\n",
    "\n",
    "# Setup the feature (vandermonde) matrix\n",
    "N = len(x)\n",
    "degree = 2\n",
    "xx = np.vstack((np.power(x,i) for i in range(degree+1))).T\n",
    "A = torch.from_numpy(xx)\n",
    "\n",
    "# This is a linear unit that implements the function f(x) = weight*x + bias\n",
    "f = torch.nn.Linear(degree+1, 1, bias=False).double()\n",
    "\n",
    "\n",
    "# learning rate\n",
    "eta = 0.00005\n",
    "\n",
    "# This is the error function E(f, y) = (1/N) \\sum_{i=1}^N (f_i-y_i)^2\n",
    "EuclidianLoss = torch.nn.MSELoss(size_average=True)\n",
    "\n",
    "for epoch in range(10000):\n",
    "    ## Compute the forward pass\n",
    "    E = EuclidianLoss(f(Variable(A)), Variable(y))\n",
    "\n",
    "    if epoch%1000 == 0: \n",
    "        print(epoch,':',E.data[0])\n",
    "#        print(f.bias.data.numpy())\n",
    "#        print(f.weight.data.numpy())\n",
    "\n",
    "    # Compute the gradients by automated differentiation\n",
    "    E.backward()\n",
    "    \n",
    "    # For each adjustable parameter \n",
    "    # Move along the negative gradient direction\n",
    "    for param in f.parameters():\n",
    "        param.data.add_(-eta * param.grad.data)\n",
    "\n",
    "    # Reset the gradients, as otherwise they are accumulated in param.grad\n",
    "    f.zero_grad()\n",
    "    \n",
    "print(epoch,':',E.data[0])"
   ]
  },
  {
   "cell_type": "code",
   "execution_count": 91,
   "metadata": {
    "scrolled": true
   },
   "outputs": [
    {
     "data": {
      "image/png": "[encoded data removed]",
      "text/plain": [
       "<matplotlib.figure.Figure at 0x111662898>"
      ]
     },
     "metadata": {},
     "output_type": "display_data"
    }
   ],
   "source": [
    "\n",
    "plt.plot(x, y.numpy(),'o')\n",
    "\n",
    "x2 = np.arange(3,15,0.5)\n",
    "xx = np.vstack((np.power(x2,i) for i in range(degree+1))).T\n",
    "A = torch.from_numpy(xx)\n",
    "\n",
    "plt.plot(x2, f(Variable(A)).data.numpy(),'r-')\n",
    "plt.show()"
   ]
  },
  {
   "cell_type": "markdown",
   "metadata": {},
   "source": [
    "## Autograd : Automatic differentiation example"
   ]
  },
  {
   "cell_type": "code",
   "execution_count": 209,
   "metadata": {
    "scrolled": true
   },
   "outputs": [
    {
     "name": "stdout",
     "output_type": "stream",
     "text": [
      "Variable containing:\n",
      " 1  1\n",
      " 1  1\n",
      "[torch.FloatTensor of size 2x2]\n",
      "\n",
      "Variable containing:\n",
      " 3  3\n",
      " 3  3\n",
      "[torch.FloatTensor of size 2x2]\n",
      "\n",
      "Variable containing:\n",
      " 27  27\n",
      " 27  27\n",
      "[torch.FloatTensor of size 2x2]\n",
      " Variable containing:\n",
      " 27\n",
      "[torch.FloatTensor of size 1]\n",
      "\n"
     ]
    }
   ],
   "source": [
    "import torch\n",
    "from torch.autograd import Variable\n",
    "\n",
    "x = Variable(torch.ones(2, 2), requires_grad=True)\n",
    "print(x)\n",
    "\n",
    "y = x + 2\n",
    "print(y)\n",
    "\n",
    "z = y * y * 3\n",
    "out = z.mean()\n",
    "\n",
    "print(z, out)"
   ]
  },
  {
   "cell_type": "code",
   "execution_count": 210,
   "metadata": {
    "scrolled": false
   },
   "outputs": [
    {
     "name": "stdout",
     "output_type": "stream",
     "text": [
      "Variable containing:\n",
      " 4.5000  4.5000\n",
      " 4.5000  4.5000\n",
      "[torch.FloatTensor of size 2x2]\n",
      "\n"
     ]
    }
   ],
   "source": [
    "out.backward()\n",
    "print(x.grad)"
   ]
  },
  {
   "cell_type": "markdown",
   "metadata": {},
   "source": [
    "Calculating and plotting the the derivative of a function using autodiff"
   ]
  },
  {
   "cell_type": "code",
   "execution_count": 22,
   "metadata": {
    "scrolled": true
   },
   "outputs": [
    {
     "data": {
      "image/png": "[encoded data removed]",
      "text/plain": [
       "<matplotlib.figure.Figure at 0x1115fc668>"
      ]
     },
     "metadata": {},
     "output_type": "display_data"
    }
   ],
   "source": [
    "%matplotlib inline\n",
    "import matplotlib.pylab as plt\n",
    "\n",
    "x = Variable(torch.arange(-5,5,0.2), requires_grad=True)\n",
    "#print(x)\n",
    "\n",
    "#y = torch.sum(torch.sigmoid(0.3*x))\n",
    "y = torch.sum(x*torch.cos(x)**2)\n",
    "#print(y)\n",
    "\n",
    "#plt.plot(x.data.numpy(), y.data.numpy() )\n",
    "#plt.show()\n",
    "\n",
    "y.backward()\n",
    "plt.plot(x.data.numpy(), x.grad.data.numpy() )\n",
    "plt.show()\n"
   ]
  },
  {
   "cell_type": "markdown",
   "metadata": {},
   "source": [
    "$$\n",
    "f(x_1, x_2) = \\sin\\left(\\frac{1}{2} x_1^2 - \\frac{1}{4} x_2^2 + 3 \\right) \\cos\\left(2 x_1+1-e^{x_2}\\right)\n",
    "$$"
   ]
  },
  {
   "cell_type": "code",
   "execution_count": 100,
   "metadata": {},
   "outputs": [
    {
     "name": "stdout",
     "output_type": "stream",
     "text": [
      "\n",
      "1.00000e-02 *\n",
      "  5.9661\n",
      "[torch.FloatTensor of size 1]\n",
      "\n"
     ]
    }
   ],
   "source": [
    "import torch as tr\n",
    "from torch.autograd import Variable\n",
    "\n",
    "x_1 = Variable( tr.FloatTensor([0.5]) , requires_grad=True)\n",
    "x_2 = Variable( tr.FloatTensor([3.5]) , requires_grad=True)\n",
    "\n",
    "u1 = x_1 ** 2 \n",
    "u2 = 0.5 * u1\n",
    "u3 = x_2 ** 2\n",
    "u4 =-0.25 * u3\n",
    "u5 = u2 + u4\n",
    "u6 = u5 + 3\n",
    "u7 = tr.sin(u6)\n",
    "u8 = 2 * x_1\n",
    "u9 = u8 + 1\n",
    "u10 = tr.exp(x_2)\n",
    "u11 = -1 * u10\n",
    "u12 = u9 + u11\n",
    "u13 = tr.cos(u12)\n",
    "f = u7 * u13\n",
    "\n",
    "print(f.data)"
   ]
  },
  {
   "cell_type": "code",
   "execution_count": 46,
   "metadata": {
    "scrolled": true
   },
   "outputs": [
    {
     "name": "stdout",
     "output_type": "stream",
     "text": [
      "\n",
      "1.00000e-02 *\n",
      "  5.9661\n",
      "[torch.FloatTensor of size 1]\n",
      "\n",
      "\n",
      " 0.4397\n",
      "[torch.FloatTensor of size 1]\n",
      "\n",
      "\n",
      "-1.0561\n",
      "[torch.FloatTensor of size 1]\n",
      "\n"
     ]
    }
   ],
   "source": [
    "f.backward()\n",
    "\n",
    "print(x_1.grad.data)\n",
    "print(x_2.grad.data)"
   ]
  },
  {
   "cell_type": "code",
   "execution_count": 49,
   "metadata": {
    "collapsed": true
   },
   "outputs": [],
   "source": [
    "u7.backward()"
   ]
  },
  {
   "cell_type": "code",
   "execution_count": 50,
   "metadata": {},
   "outputs": [
    {
     "data": {
      "text/plain": [
       "\n",
       " 0.4990\n",
       "[torch.FloatTensor of size 1]"
      ]
     },
     "execution_count": 50,
     "metadata": {},
     "output_type": "execute_result"
    }
   ],
   "source": [
    "x_1.grad.data"
   ]
  },
  {
   "cell_type": "markdown",
   "metadata": {},
   "source": [
    "$$f(x_1, x_2) = x_1^2$$"
   ]
  },
  {
   "cell_type": "code",
   "execution_count": 32,
   "metadata": {
    "scrolled": false
   },
   "outputs": [
    {
     "name": "stdout",
     "output_type": "stream",
     "text": [
      "\n",
      " 34\n",
      "[torch.FloatTensor of size 1]\n",
      "\n",
      "\n",
      "-8\n",
      "[torch.FloatTensor of size 1]\n",
      "\n",
      "\n",
      " 12\n",
      "[torch.FloatTensor of size 1]\n",
      "\n"
     ]
    }
   ],
   "source": [
    "x_1 = Variable( tr.FloatTensor([-4]) , requires_grad=True)\n",
    "x_2 = Variable( tr.FloatTensor([3]) , requires_grad=True)\n",
    "\n",
    "f = x_1**2 + 2*x_2**2\n",
    "\n",
    "print(f.data)\n",
    "\n",
    "f.backward()\n",
    "\n",
    "print(x_1.grad.data)\n",
    "print(x_2.grad.data)\n",
    "\n"
   ]
  },
  {
   "cell_type": "code",
   "execution_count": null,
   "metadata": {
    "collapsed": true
   },
   "outputs": [],
   "source": [
    "A = torch.DoubleTensor([[1,2,3],[4,5,6]])\n",
    "T = torch.rand([3,5,2])\n",
    "u = torch.DoubleTensor([[7],[8]])\n",
    "w = torch.rand([5,3]).double()"
   ]
  }
 ],
 "metadata": {
  "kernelspec": {
   "display_name": "Python (py36)",
   "language": "python",
   "name": "py36"
  },
  "language_info": {
   "codemirror_mode": {
    "name": "ipython",
    "version": 3
   },
   "file_extension": ".py",
   "mimetype": "text/x-python",
   "name": "python",
   "nbconvert_exporter": "python",
   "pygments_lexer": "ipython3",
   "version": "3.6.1"
  },
  "latex_envs": {
   "LaTeX_envs_menu_present": true,
   "autocomplete": true,
   "bibliofile": "biblio.bib",
   "cite_by": "apalike",
   "current_citInitial": 1,
   "eqLabelWithNumbers": true,
   "eqNumInitial": 1,
   "hotkeys": {
    "equation": "Ctrl-E",
    "itemize": "Ctrl-I"
   },
   "labels_anchors": false,
   "latex_user_defs": false,
   "report_style_numbering": false,
   "user_envs_cfg": false
  },
  "toc": {
   "nav_menu": {},
   "number_sections": true,
   "sideBar": true,
   "skip_h1_title": false,
   "toc_cell": false,
   "toc_position": {},
   "toc_section_display": "block",
   "toc_window_display": false
  },
  "varInspector": {
   "cols": {
    "lenName": 16,
    "lenType": 16,
    "lenVar": 40
   },
   "kernels_config": {
    "python": {
     "delete_cmd_postfix": "",
     "delete_cmd_prefix": "del ",
     "library": "var_list.py",
     "varRefreshCmd": "print(var_dic_list())"
    },
    "r": {
     "delete_cmd_postfix": ") ",
     "delete_cmd_prefix": "rm(",
     "library": "var_list.r",
     "varRefreshCmd": "cat(var_dic_list()) "
    }
   },
   "types_to_exclude": [
    "module",
    "function",
    "builtin_function_or_method",
    "instance",
    "_Feature"
   ],
   "window_display": false
  }
 },
 "nbformat": 4,
 "nbformat_minor": 2
}
